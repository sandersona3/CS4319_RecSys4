{
 "cells": [
  {
   "cell_type": "code",
   "execution_count": 1,
   "metadata": {},
   "outputs": [],
   "source": [
    "import numpy as np\n",
    "from tkinter import *\n",
    "from lightfm.datasets import fetch_movielens\n",
    "from lightfm import LightFM\n",
    "from sklearn.metrics.pairwise import cosine_similarity\n",
    "import pandas as pd\n",
    "import importlib\n",
    "import time\n",
    "\n",
    "#-----------------------------------------------------------------------------------------------------------------\n",
    "'''Used to make a time stamp print out'''\n",
    "#from recSys4t import *\n",
    "#print(clock)\n",
    "\n",
    "'''used to import turicreate file'''\n",
    "import turicreate as tc\n",
    "from recSys4tc import turiWork\n",
    "from recSys4tc import itemSim\n",
    "from tcCompare import *\n",
    "#turiWork()\n",
    "#-----------------------------------------------------------------------------------------------------------------"
   ]
  },
  {
   "cell_type": "code",
   "execution_count": 2,
   "metadata": {},
   "outputs": [],
   "source": [
    "#fetch data from Lightfm, use movies with user rating of 4.0 or greater\n",
    "data = fetch_movielens(min_rating=4.0)\n",
    "\n",
    "#create model\n",
    "model = LightFM(loss='warp')\n",
    "\n",
    "#train model\n",
    "model.fit(data['train'], epochs=32, num_threads=4)\n",
    "\n",
    "#Create a return option to cycle through all the options\n",
    "again = 'y'"
   ]
  },
  {
   "cell_type": "code",
   "execution_count": 3,
   "metadata": {},
   "outputs": [
    {
     "name": "stdout",
     "output_type": "stream",
     "text": [
      "\n",
      "1.) Terminal \n",
      "2.) GUI \n",
      "\n",
      "Choice:  1\n",
      "Welcome to the CS4319 Movie Recommender System\n",
      "Please select one of the following:\n",
      "1.) Recommend movies for 3 users\n",
      "2.) Search for similar movies\n",
      "3.) Recommend most popular movies\n",
      "4.) Turicreate Compare\n",
      "\n",
      "Selection:  1\n",
      "Select movies for users:\n",
      "user 1: 8\n",
      "user 2: 69\n",
      "user 3: 128\n",
      "------------------------------------------\n",
      "User 8\n",
      "Favorite Movies:\n",
      "Twelve Monkeys (1995)\n",
      "Star Wars (1977)\n",
      "Evil Dead II (1987)\n",
      "Kolya (1996)\n",
      "Leaving Las Vegas (1995)\n",
      "\n",
      "Recommended Movies:\n",
      "Star Wars (1977)\n",
      "Godfather, The (1972)\n",
      "Raiders of the Lost Ark (1981)\n",
      "Silence of the Lambs, The (1991)\n",
      "Alien (1979)\n",
      "------------------------------------------\n",
      "User 69\n",
      "Favorite Movies:\n",
      "Toy Story (1995)\n",
      "Babe (1995)\n",
      "Rumble in the Bronx (1995)\n",
      "Apollo 13 (1995)\n",
      "Hoop Dreams (1994)\n",
      "\n",
      "Recommended Movies:\n",
      "Empire Strikes Back, The (1980)\n",
      "Raiders of the Lost Ark (1981)\n",
      "Star Wars (1977)\n",
      "Return of the Jedi (1983)\n",
      "Indiana Jones and the Last Crusade (1989)\n",
      "------------------------------------------\n",
      "User 128\n",
      "Favorite Movies:\n",
      "Kolya (1996)\n",
      "English Patient, The (1996)\n",
      "L.A. Confidential (1997)\n",
      "Oscar & Lucinda (1997)\n",
      "Welcome To Sarajevo (1997)\n",
      "\n",
      "Recommended Movies:\n",
      "English Patient, The (1996)\n",
      "L.A. Confidential (1997)\n",
      "Secrets & Lies (1996)\n",
      "Kolya (1996)\n",
      "Boogie Nights (1997)\n",
      "Would you like to restart the program? (y/n) y\n",
      "\n",
      "1.) Terminal \n",
      "2.) GUI \n",
      "\n",
      "Choice:  1\n",
      "Welcome to the CS4319 Movie Recommender System\n",
      "Please select one of the following:\n",
      "1.) Recommend movies for 3 users\n",
      "2.) Search for similar movies\n",
      "3.) Recommend most popular movies\n",
      "4.) Turicreate Compare\n",
      "\n",
      "Selection:  2\n",
      "(1)Toy Story (1995)\n",
      "(2)GoldenEye (1995)\n",
      "(3)Four Rooms (1995)\n",
      "(4)Get Shorty (1995)\n",
      "(5)Copycat (1995)\n",
      "(0) View More\n",
      "Selection:  0\n",
      "(1)Toy Story (1995)\n",
      "(2)GoldenEye (1995)\n",
      "(3)Four Rooms (1995)\n",
      "(4)Get Shorty (1995)\n",
      "(5)Copycat (1995)\n",
      "(6)Shanghai Triad (Yao a yao yao dao waipo qiao) (1995)\n",
      "(7)Twelve Monkeys (1995)\n",
      "(8)Babe (1995)\n",
      "(9)Dead Man Walking (1995)\n",
      "(10)Richard III (1995)\n",
      "(0) View More\n",
      "(1)Toy Story (1995)\n",
      "(2)GoldenEye (1995)\n",
      "(3)Four Rooms (1995)\n",
      "(4)Get Shorty (1995)\n",
      "(5)Copycat (1995)\n",
      "(6)Shanghai Triad (Yao a yao yao dao waipo qiao) (1995)\n",
      "(7)Twelve Monkeys (1995)\n",
      "(8)Babe (1995)\n",
      "(9)Dead Man Walking (1995)\n",
      "(10)Richard III (1995)\n",
      "(0) View More\n",
      "Selection:  0\n",
      "(1)Toy Story (1995)\n",
      "(2)GoldenEye (1995)\n",
      "(3)Four Rooms (1995)\n",
      "(4)Get Shorty (1995)\n",
      "(5)Copycat (1995)\n",
      "(6)Shanghai Triad (Yao a yao yao dao waipo qiao) (1995)\n",
      "(7)Twelve Monkeys (1995)\n",
      "(8)Babe (1995)\n",
      "(9)Dead Man Walking (1995)\n",
      "(10)Richard III (1995)\n",
      "(11)Seven (Se7en) (1995)\n",
      "(12)Usual Suspects, The (1995)\n",
      "(13)Mighty Aphrodite (1995)\n",
      "(14)Postino, Il (1994)\n",
      "(15)Mr. Holland's Opus (1995)\n",
      "(0) View More\n",
      "(1)Toy Story (1995)\n",
      "(2)GoldenEye (1995)\n",
      "(3)Four Rooms (1995)\n",
      "(4)Get Shorty (1995)\n",
      "(5)Copycat (1995)\n",
      "(6)Shanghai Triad (Yao a yao yao dao waipo qiao) (1995)\n",
      "(7)Twelve Monkeys (1995)\n",
      "(8)Babe (1995)\n",
      "(9)Dead Man Walking (1995)\n",
      "(10)Richard III (1995)\n",
      "(11)Seven (Se7en) (1995)\n",
      "(12)Usual Suspects, The (1995)\n",
      "(13)Mighty Aphrodite (1995)\n",
      "(14)Postino, Il (1994)\n",
      "(15)Mr. Holland's Opus (1995)\n",
      "(0) View More\n",
      "Selection:  13\n",
      "Great! You might also like these movies: \n",
      " \n",
      "['Mighty Aphrodite (1995)' 'Lone Star (1996)' 'Big Night (1996)'\n",
      " 'Fargo (1996)' 'Restoration (1995)']\n",
      "Would you like to restart the program? (y/n) y\n",
      "\n",
      "1.) Terminal \n",
      "2.) GUI \n",
      "\n",
      "Choice:  1\n",
      "Welcome to the CS4319 Movie Recommender System\n",
      "Please select one of the following:\n",
      "1.) Recommend movies for 3 users\n",
      "2.) Search for similar movies\n",
      "3.) Recommend most popular movies\n",
      "4.) Turicreate Compare\n",
      "\n",
      "Selection:  3\n",
      "Recommend top 5 popular movies to user:  666\n"
     ]
    },
    {
     "data": {
      "text/html": [
       "<pre>Recsys training: model = popularity</pre>"
      ],
      "text/plain": [
       "Recsys training: model = popularity"
      ]
     },
     "metadata": {},
     "output_type": "display_data"
    },
    {
     "data": {
      "text/html": [
       "<pre>Warning: Ignoring columns unix_timestamp;</pre>"
      ],
      "text/plain": [
       "Warning: Ignoring columns unix_timestamp;"
      ]
     },
     "metadata": {},
     "output_type": "display_data"
    },
    {
     "data": {
      "text/html": [
       "<pre>    To use these columns in scoring predictions, use a model that allows the use of additional features.</pre>"
      ],
      "text/plain": [
       "    To use these columns in scoring predictions, use a model that allows the use of additional features."
      ]
     },
     "metadata": {},
     "output_type": "display_data"
    },
    {
     "data": {
      "text/html": [
       "<pre>Preparing data set.</pre>"
      ],
      "text/plain": [
       "Preparing data set."
      ]
     },
     "metadata": {},
     "output_type": "display_data"
    },
    {
     "data": {
      "text/html": [
       "<pre>    Data has 90570 observations with 943 users and 1680 items.</pre>"
      ],
      "text/plain": [
       "    Data has 90570 observations with 943 users and 1680 items."
      ]
     },
     "metadata": {},
     "output_type": "display_data"
    },
    {
     "data": {
      "text/html": [
       "<pre>    Data prepared in: 0.083827s</pre>"
      ],
      "text/plain": [
       "    Data prepared in: 0.083827s"
      ]
     },
     "metadata": {},
     "output_type": "display_data"
    },
    {
     "data": {
      "text/html": [
       "<pre>90570 observations to process; with 1680 unique items.</pre>"
      ],
      "text/plain": [
       "90570 observations to process; with 1680 unique items."
      ]
     },
     "metadata": {},
     "output_type": "display_data"
    },
    {
     "name": "stdout",
     "output_type": "stream",
     "text": [
      "\n",
      "\n",
      "Great! User 666 may enjoy watching: \n",
      "1598    Someone Else's America (1995)\n",
      "Name: movie_title, dtype: object\n",
      "1200    Marlene Dietrich: Shadow and Light (1996) \n",
      "Name: movie_title, dtype: object\n",
      "1188    Prefontaine (1997)\n",
      "Name: movie_title, dtype: object\n",
      "1121    They Made Me a Criminal (1939)\n",
      "Name: movie_title, dtype: object\n",
      "813    Great Day in Harlem, A (1994)\n",
      "Name: movie_title, dtype: object\n",
      "Would you like to restart the program? (y/n) y\n",
      "\n",
      "1.) Terminal \n",
      "2.) GUI \n",
      "\n",
      "Choice:  1\n",
      "Welcome to the CS4319 Movie Recommender System\n",
      "Please select one of the following:\n",
      "1.) Recommend movies for 3 users\n",
      "2.) Search for similar movies\n",
      "3.) Recommend most popular movies\n",
      "4.) Turicreate Compare\n",
      "\n",
      "Selection:  4\n",
      "TURICREATE COMPARE\n",
      "Compare recommender algorithms for user 1 and 2\n",
      "Printing item Similarity algorithm:\n",
      "\n"
     ]
    },
    {
     "data": {
      "text/html": [
       "<pre>Recsys training: model = item_similarity</pre>"
      ],
      "text/plain": [
       "Recsys training: model = item_similarity"
      ]
     },
     "metadata": {},
     "output_type": "display_data"
    },
    {
     "data": {
      "text/html": [
       "<pre>Warning: Ignoring columns unix_timestamp;</pre>"
      ],
      "text/plain": [
       "Warning: Ignoring columns unix_timestamp;"
      ]
     },
     "metadata": {},
     "output_type": "display_data"
    },
    {
     "data": {
      "text/html": [
       "<pre>    To use these columns in scoring predictions, use a model that allows the use of additional features.</pre>"
      ],
      "text/plain": [
       "    To use these columns in scoring predictions, use a model that allows the use of additional features."
      ]
     },
     "metadata": {},
     "output_type": "display_data"
    },
    {
     "data": {
      "text/html": [
       "<pre>Preparing data set.</pre>"
      ],
      "text/plain": [
       "Preparing data set."
      ]
     },
     "metadata": {},
     "output_type": "display_data"
    },
    {
     "data": {
      "text/html": [
       "<pre>    Data has 90570 observations with 943 users and 1680 items.</pre>"
      ],
      "text/plain": [
       "    Data has 90570 observations with 943 users and 1680 items."
      ]
     },
     "metadata": {},
     "output_type": "display_data"
    },
    {
     "data": {
      "text/html": [
       "<pre>    Data prepared in: 0.115448s</pre>"
      ],
      "text/plain": [
       "    Data prepared in: 0.115448s"
      ]
     },
     "metadata": {},
     "output_type": "display_data"
    },
    {
     "data": {
      "text/html": [
       "<pre>Training model from provided data.</pre>"
      ],
      "text/plain": [
       "Training model from provided data."
      ]
     },
     "metadata": {},
     "output_type": "display_data"
    },
    {
     "data": {
      "text/html": [
       "<pre>Gathering per-item and per-user statistics.</pre>"
      ],
      "text/plain": [
       "Gathering per-item and per-user statistics."
      ]
     },
     "metadata": {},
     "output_type": "display_data"
    },
    {
     "data": {
      "text/html": [
       "<pre>+--------------------------------+------------+</pre>"
      ],
      "text/plain": [
       "+--------------------------------+------------+"
      ]
     },
     "metadata": {},
     "output_type": "display_data"
    },
    {
     "data": {
      "text/html": [
       "<pre>| Elapsed Time (Item Statistics) | % Complete |</pre>"
      ],
      "text/plain": [
       "| Elapsed Time (Item Statistics) | % Complete |"
      ]
     },
     "metadata": {},
     "output_type": "display_data"
    },
    {
     "data": {
      "text/html": [
       "<pre>+--------------------------------+------------+</pre>"
      ],
      "text/plain": [
       "+--------------------------------+------------+"
      ]
     },
     "metadata": {},
     "output_type": "display_data"
    },
    {
     "data": {
      "text/html": [
       "<pre>| 14.163ms                       | 100        |</pre>"
      ],
      "text/plain": [
       "| 14.163ms                       | 100        |"
      ]
     },
     "metadata": {},
     "output_type": "display_data"
    },
    {
     "data": {
      "text/html": [
       "<pre>+--------------------------------+------------+</pre>"
      ],
      "text/plain": [
       "+--------------------------------+------------+"
      ]
     },
     "metadata": {},
     "output_type": "display_data"
    },
    {
     "data": {
      "text/html": [
       "<pre>Setting up lookup tables.</pre>"
      ],
      "text/plain": [
       "Setting up lookup tables."
      ]
     },
     "metadata": {},
     "output_type": "display_data"
    },
    {
     "data": {
      "text/html": [
       "<pre>Processing data in one pass using dense lookup tables.</pre>"
      ],
      "text/plain": [
       "Processing data in one pass using dense lookup tables."
      ]
     },
     "metadata": {},
     "output_type": "display_data"
    },
    {
     "data": {
      "text/html": [
       "<pre>+-------------------------------------+------------------+-----------------+</pre>"
      ],
      "text/plain": [
       "+-------------------------------------+------------------+-----------------+"
      ]
     },
     "metadata": {},
     "output_type": "display_data"
    },
    {
     "data": {
      "text/html": [
       "<pre>| Elapsed Time (Constructing Lookups) | Total % Complete | Items Processed |</pre>"
      ],
      "text/plain": [
       "| Elapsed Time (Constructing Lookups) | Total % Complete | Items Processed |"
      ]
     },
     "metadata": {},
     "output_type": "display_data"
    },
    {
     "data": {
      "text/html": [
       "<pre>+-------------------------------------+------------------+-----------------+</pre>"
      ],
      "text/plain": [
       "+-------------------------------------+------------------+-----------------+"
      ]
     },
     "metadata": {},
     "output_type": "display_data"
    },
    {
     "data": {
      "text/html": [
       "<pre>| 57.067ms                            | 0.25             | 6               |</pre>"
      ],
      "text/plain": [
       "| 57.067ms                            | 0.25             | 6               |"
      ]
     },
     "metadata": {},
     "output_type": "display_data"
    },
    {
     "data": {
      "text/html": [
       "<pre>| 250.234ms                           | 100              | 1680            |</pre>"
      ],
      "text/plain": [
       "| 250.234ms                           | 100              | 1680            |"
      ]
     },
     "metadata": {},
     "output_type": "display_data"
    },
    {
     "data": {
      "text/html": [
       "<pre>+-------------------------------------+------------------+-----------------+</pre>"
      ],
      "text/plain": [
       "+-------------------------------------+------------------+-----------------+"
      ]
     },
     "metadata": {},
     "output_type": "display_data"
    },
    {
     "data": {
      "text/html": [
       "<pre>Finalizing lookup tables.</pre>"
      ],
      "text/plain": [
       "Finalizing lookup tables."
      ]
     },
     "metadata": {},
     "output_type": "display_data"
    },
    {
     "data": {
      "text/html": [
       "<pre>Generating candidate set for working with new users.</pre>"
      ],
      "text/plain": [
       "Generating candidate set for working with new users."
      ]
     },
     "metadata": {},
     "output_type": "display_data"
    },
    {
     "data": {
      "text/html": [
       "<pre>Finished training in 1.28118s</pre>"
      ],
      "text/plain": [
       "Finished training in 1.28118s"
      ]
     },
     "metadata": {},
     "output_type": "display_data"
    },
    {
     "name": "stdout",
     "output_type": "stream",
     "text": [
      "+---------+----------+--------------------+------+\n",
      "| user_id | movie_id |       score        | rank |\n",
      "+---------+----------+--------------------+------+\n",
      "|    1    |   423    | 0.9867708894587656 |  1   |\n",
      "|    1    |   202    | 0.944781816642703  |  2   |\n",
      "|    1    |   655    | 0.8126010164504743 |  3   |\n",
      "|    1    |   403    | 0.7608976264036339 |  4   |\n",
      "|    1    |   568    | 0.7537973959937351 |  5   |\n",
      "|    2    |    50    | 1.1256258487701416 |  1   |\n",
      "|    2    |   181    | 1.0272409457426805 |  2   |\n",
      "|    2    |    7     | 1.0196515367581294 |  3   |\n",
      "|    2    |   121    | 0.928941738147002  |  4   |\n",
      "|    2    |   117    | 0.7926051295720614 |  5   |\n",
      "+---------+----------+--------------------+------+\n",
      "[10 rows x 4 columns]\n",
      "\n",
      "\n",
      "\n",
      "Great! User 1 may enjoy watching: \n",
      "422    E.T. the Extra-Terrestrial (1982)\n",
      "Name: movie_title, dtype: object\n",
      "201    Groundhog Day (1993)\n",
      "Name: movie_title, dtype: object\n",
      "654    Stand by Me (1986)\n",
      "Name: movie_title, dtype: object\n",
      "402    Batman (1989)\n",
      "Name: movie_title, dtype: object\n",
      "567    Speed (1994)\n",
      "Name: movie_title, dtype: object\n",
      "\n",
      "\n",
      "Great! User 2 may enjoy watching: \n",
      "49    Star Wars (1977)\n",
      "Name: movie_title, dtype: object\n",
      "180    Return of the Jedi (1983)\n",
      "Name: movie_title, dtype: object\n",
      "6    Twelve Monkeys (1995)\n",
      "Name: movie_title, dtype: object\n",
      "120    Independence Day (ID4) (1996)\n",
      "Name: movie_title, dtype: object\n",
      "116    Rock, The (1996)\n",
      "Name: movie_title, dtype: object\n",
      "\n",
      "Printing Item popularity algorithm:\n",
      "\n"
     ]
    },
    {
     "data": {
      "text/html": [
       "<pre>Recsys training: model = popularity</pre>"
      ],
      "text/plain": [
       "Recsys training: model = popularity"
      ]
     },
     "metadata": {},
     "output_type": "display_data"
    },
    {
     "data": {
      "text/html": [
       "<pre>Warning: Ignoring columns unix_timestamp;</pre>"
      ],
      "text/plain": [
       "Warning: Ignoring columns unix_timestamp;"
      ]
     },
     "metadata": {},
     "output_type": "display_data"
    },
    {
     "data": {
      "text/html": [
       "<pre>    To use these columns in scoring predictions, use a model that allows the use of additional features.</pre>"
      ],
      "text/plain": [
       "    To use these columns in scoring predictions, use a model that allows the use of additional features."
      ]
     },
     "metadata": {},
     "output_type": "display_data"
    },
    {
     "data": {
      "text/html": [
       "<pre>Preparing data set.</pre>"
      ],
      "text/plain": [
       "Preparing data set."
      ]
     },
     "metadata": {},
     "output_type": "display_data"
    },
    {
     "data": {
      "text/html": [
       "<pre>    Data has 90570 observations with 943 users and 1680 items.</pre>"
      ],
      "text/plain": [
       "    Data has 90570 observations with 943 users and 1680 items."
      ]
     },
     "metadata": {},
     "output_type": "display_data"
    },
    {
     "data": {
      "text/html": [
       "<pre>    Data prepared in: 0.082462s</pre>"
      ],
      "text/plain": [
       "    Data prepared in: 0.082462s"
      ]
     },
     "metadata": {},
     "output_type": "display_data"
    },
    {
     "data": {
      "text/html": [
       "<pre>90570 observations to process; with 1680 unique items.</pre>"
      ],
      "text/plain": [
       "90570 observations to process; with 1680 unique items."
      ]
     },
     "metadata": {},
     "output_type": "display_data"
    },
    {
     "name": "stdout",
     "output_type": "stream",
     "text": [
      "\n",
      "\n",
      "Great! User 1 may enjoy watching: \n",
      "1292    Star Kid (1997)\n",
      "Name: movie_title, dtype: object\n",
      "1200    Marlene Dietrich: Shadow and Light (1996) \n",
      "Name: movie_title, dtype: object\n",
      "1188    Prefontaine (1997)\n",
      "Name: movie_title, dtype: object\n",
      "1121    They Made Me a Criminal (1939)\n",
      "Name: movie_title, dtype: object\n",
      "813    Great Day in Harlem, A (1994)\n",
      "Name: movie_title, dtype: object\n",
      "\n",
      "\n",
      "Great! User 2 may enjoy watching: \n",
      "1292    Star Kid (1997)\n",
      "Name: movie_title, dtype: object\n",
      "1200    Marlene Dietrich: Shadow and Light (1996) \n",
      "Name: movie_title, dtype: object\n",
      "1188    Prefontaine (1997)\n",
      "Name: movie_title, dtype: object\n",
      "1121    They Made Me a Criminal (1939)\n",
      "Name: movie_title, dtype: object\n",
      "813    Great Day in Harlem, A (1994)\n",
      "Name: movie_title, dtype: object\n",
      "\n",
      "Printing Rank Factorization algorithm:\n",
      "\n"
     ]
    },
    {
     "data": {
      "text/html": [
       "<pre>Recsys training: model = ranking_factorization_recommender</pre>"
      ],
      "text/plain": [
       "Recsys training: model = ranking_factorization_recommender"
      ]
     },
     "metadata": {},
     "output_type": "display_data"
    },
    {
     "data": {
      "text/html": [
       "<pre>Preparing data set.</pre>"
      ],
      "text/plain": [
       "Preparing data set."
      ]
     },
     "metadata": {},
     "output_type": "display_data"
    },
    {
     "data": {
      "text/html": [
       "<pre>    Data has 90570 observations with 943 users and 1680 items.</pre>"
      ],
      "text/plain": [
       "    Data has 90570 observations with 943 users and 1680 items."
      ]
     },
     "metadata": {},
     "output_type": "display_data"
    },
    {
     "data": {
      "text/html": [
       "<pre>    Data prepared in: 0.127156s</pre>"
      ],
      "text/plain": [
       "    Data prepared in: 0.127156s"
      ]
     },
     "metadata": {},
     "output_type": "display_data"
    },
    {
     "data": {
      "text/html": [
       "<pre>Training ranking_factorization_recommender for recommendations.</pre>"
      ],
      "text/plain": [
       "Training ranking_factorization_recommender for recommendations."
      ]
     },
     "metadata": {},
     "output_type": "display_data"
    },
    {
     "data": {
      "text/html": [
       "<pre>+--------------------------------+--------------------------------------------------+----------+</pre>"
      ],
      "text/plain": [
       "+--------------------------------+--------------------------------------------------+----------+"
      ]
     },
     "metadata": {},
     "output_type": "display_data"
    },
    {
     "data": {
      "text/html": [
       "<pre>| Parameter                      | Description                                      | Value    |</pre>"
      ],
      "text/plain": [
       "| Parameter                      | Description                                      | Value    |"
      ]
     },
     "metadata": {},
     "output_type": "display_data"
    },
    {
     "data": {
      "text/html": [
       "<pre>+--------------------------------+--------------------------------------------------+----------+</pre>"
      ],
      "text/plain": [
       "+--------------------------------+--------------------------------------------------+----------+"
      ]
     },
     "metadata": {},
     "output_type": "display_data"
    },
    {
     "data": {
      "text/html": [
       "<pre>| num_factors                    | Factor Dimension                                 | 32       |</pre>"
      ],
      "text/plain": [
       "| num_factors                    | Factor Dimension                                 | 32       |"
      ]
     },
     "metadata": {},
     "output_type": "display_data"
    },
    {
     "data": {
      "text/html": [
       "<pre>| regularization                 | L2 Regularization on Factors                     | 1e-09    |</pre>"
      ],
      "text/plain": [
       "| regularization                 | L2 Regularization on Factors                     | 1e-09    |"
      ]
     },
     "metadata": {},
     "output_type": "display_data"
    },
    {
     "data": {
      "text/html": [
       "<pre>| solver                         | Solver used for training                         | adagrad  |</pre>"
      ],
      "text/plain": [
       "| solver                         | Solver used for training                         | adagrad  |"
      ]
     },
     "metadata": {},
     "output_type": "display_data"
    },
    {
     "data": {
      "text/html": [
       "<pre>| linear_regularization          | L2 Regularization on Linear Coefficients         | 1e-09    |</pre>"
      ],
      "text/plain": [
       "| linear_regularization          | L2 Regularization on Linear Coefficients         | 1e-09    |"
      ]
     },
     "metadata": {},
     "output_type": "display_data"
    },
    {
     "data": {
      "text/html": [
       "<pre>| ranking_regularization         | Rank-based Regularization Weight                 | 0.25     |</pre>"
      ],
      "text/plain": [
       "| ranking_regularization         | Rank-based Regularization Weight                 | 0.25     |"
      ]
     },
     "metadata": {},
     "output_type": "display_data"
    },
    {
     "data": {
      "text/html": [
       "<pre>| max_iterations                 | Maximum Number of Iterations                     | 25       |</pre>"
      ],
      "text/plain": [
       "| max_iterations                 | Maximum Number of Iterations                     | 25       |"
      ]
     },
     "metadata": {},
     "output_type": "display_data"
    },
    {
     "data": {
      "text/html": [
       "<pre>+--------------------------------+--------------------------------------------------+----------+</pre>"
      ],
      "text/plain": [
       "+--------------------------------+--------------------------------------------------+----------+"
      ]
     },
     "metadata": {},
     "output_type": "display_data"
    },
    {
     "data": {
      "text/html": [
       "<pre>  Optimizing model using SGD; tuning step size.</pre>"
      ],
      "text/plain": [
       "  Optimizing model using SGD; tuning step size."
      ]
     },
     "metadata": {},
     "output_type": "display_data"
    },
    {
     "data": {
      "text/html": [
       "<pre>  Using 11321 / 90570 points for tuning the step size.</pre>"
      ],
      "text/plain": [
       "  Using 11321 / 90570 points for tuning the step size."
      ]
     },
     "metadata": {},
     "output_type": "display_data"
    },
    {
     "data": {
      "text/html": [
       "<pre>+---------+-------------------+------------------------------------------+</pre>"
      ],
      "text/plain": [
       "+---------+-------------------+------------------------------------------+"
      ]
     },
     "metadata": {},
     "output_type": "display_data"
    },
    {
     "data": {
      "text/html": [
       "<pre>| Attempt | Initial Step Size | Estimated Objective Value                |</pre>"
      ],
      "text/plain": [
       "| Attempt | Initial Step Size | Estimated Objective Value                |"
      ]
     },
     "metadata": {},
     "output_type": "display_data"
    },
    {
     "data": {
      "text/html": [
       "<pre>+---------+-------------------+------------------------------------------+</pre>"
      ],
      "text/plain": [
       "+---------+-------------------+------------------------------------------+"
      ]
     },
     "metadata": {},
     "output_type": "display_data"
    },
    {
     "data": {
      "text/html": [
       "<pre>| 0       | 16.6667           | Not Viable                               |</pre>"
      ],
      "text/plain": [
       "| 0       | 16.6667           | Not Viable                               |"
      ]
     },
     "metadata": {},
     "output_type": "display_data"
    },
    {
     "data": {
      "text/html": [
       "<pre>| 1       | 4.16667           | Not Viable                               |</pre>"
      ],
      "text/plain": [
       "| 1       | 4.16667           | Not Viable                               |"
      ]
     },
     "metadata": {},
     "output_type": "display_data"
    },
    {
     "data": {
      "text/html": [
       "<pre>| 2       | 1.04167           | Not Viable                               |</pre>"
      ],
      "text/plain": [
       "| 2       | 1.04167           | Not Viable                               |"
      ]
     },
     "metadata": {},
     "output_type": "display_data"
    },
    {
     "data": {
      "text/html": [
       "<pre>| 3       | 0.260417          | Not Viable                               |</pre>"
      ],
      "text/plain": [
       "| 3       | 0.260417          | Not Viable                               |"
      ]
     },
     "metadata": {},
     "output_type": "display_data"
    },
    {
     "data": {
      "text/html": [
       "<pre>| 4       | 0.0651042         | 1.39062                                  |</pre>"
      ],
      "text/plain": [
       "| 4       | 0.0651042         | 1.39062                                  |"
      ]
     },
     "metadata": {},
     "output_type": "display_data"
    },
    {
     "data": {
      "text/html": [
       "<pre>| 5       | 0.0325521         | 1.79335                                  |</pre>"
      ],
      "text/plain": [
       "| 5       | 0.0325521         | 1.79335                                  |"
      ]
     },
     "metadata": {},
     "output_type": "display_data"
    },
    {
     "data": {
      "text/html": [
       "<pre>| 6       | 0.016276          | 1.97177                                  |</pre>"
      ],
      "text/plain": [
       "| 6       | 0.016276          | 1.97177                                  |"
      ]
     },
     "metadata": {},
     "output_type": "display_data"
    },
    {
     "data": {
      "text/html": [
       "<pre>| 7       | 0.00813802        | 2.07586                                  |</pre>"
      ],
      "text/plain": [
       "| 7       | 0.00813802        | 2.07586                                  |"
      ]
     },
     "metadata": {},
     "output_type": "display_data"
    },
    {
     "data": {
      "text/html": [
       "<pre>+---------+-------------------+------------------------------------------+</pre>"
      ],
      "text/plain": [
       "+---------+-------------------+------------------------------------------+"
      ]
     },
     "metadata": {},
     "output_type": "display_data"
    },
    {
     "data": {
      "text/html": [
       "<pre>| Final   | 0.0651042         | 1.39062                                  |</pre>"
      ],
      "text/plain": [
       "| Final   | 0.0651042         | 1.39062                                  |"
      ]
     },
     "metadata": {},
     "output_type": "display_data"
    },
    {
     "data": {
      "text/html": [
       "<pre>+---------+-------------------+------------------------------------------+</pre>"
      ],
      "text/plain": [
       "+---------+-------------------+------------------------------------------+"
      ]
     },
     "metadata": {},
     "output_type": "display_data"
    },
    {
     "data": {
      "text/html": [
       "<pre>Starting Optimization.</pre>"
      ],
      "text/plain": [
       "Starting Optimization."
      ]
     },
     "metadata": {},
     "output_type": "display_data"
    },
    {
     "data": {
      "text/html": [
       "<pre>+---------+--------------+-------------------+-----------------------+-------------+</pre>"
      ],
      "text/plain": [
       "+---------+--------------+-------------------+-----------------------+-------------+"
      ]
     },
     "metadata": {},
     "output_type": "display_data"
    },
    {
     "data": {
      "text/html": [
       "<pre>| Iter.   | Elapsed Time | Approx. Objective | Approx. Training RMSE | Step Size   |</pre>"
      ],
      "text/plain": [
       "| Iter.   | Elapsed Time | Approx. Objective | Approx. Training RMSE | Step Size   |"
      ]
     },
     "metadata": {},
     "output_type": "display_data"
    },
    {
     "data": {
      "text/html": [
       "<pre>+---------+--------------+-------------------+-----------------------+-------------+</pre>"
      ],
      "text/plain": [
       "+---------+--------------+-------------------+-----------------------+-------------+"
      ]
     },
     "metadata": {},
     "output_type": "display_data"
    },
    {
     "data": {
      "text/html": [
       "<pre>| Initial | 410us        | 2.48615           | 1.12605               |             |</pre>"
      ],
      "text/plain": [
       "| Initial | 410us        | 2.48615           | 1.12605               |             |"
      ]
     },
     "metadata": {},
     "output_type": "display_data"
    },
    {
     "data": {
      "text/html": [
       "<pre>+---------+--------------+-------------------+-----------------------+-------------+</pre>"
      ],
      "text/plain": [
       "+---------+--------------+-------------------+-----------------------+-------------+"
      ]
     },
     "metadata": {},
     "output_type": "display_data"
    },
    {
     "data": {
      "text/html": [
       "<pre>| 1       | 482.01ms     | 2.13483           | 1.14715               | 0.0651042   |</pre>"
      ],
      "text/plain": [
       "| 1       | 482.01ms     | 2.13483           | 1.14715               | 0.0651042   |"
      ]
     },
     "metadata": {},
     "output_type": "display_data"
    },
    {
     "data": {
      "text/html": [
       "<pre>| 2       | 884.474ms    | 1.89867           | 1.07881               | 0.0651042   |</pre>"
      ],
      "text/plain": [
       "| 2       | 884.474ms    | 1.89867           | 1.07881               | 0.0651042   |"
      ]
     },
     "metadata": {},
     "output_type": "display_data"
    },
    {
     "data": {
      "text/html": [
       "<pre>| 3       | 1.33s        | 1.84403           | 1.05238               | 0.0651042   |</pre>"
      ],
      "text/plain": [
       "| 3       | 1.33s        | 1.84403           | 1.05238               | 0.0651042   |"
      ]
     },
     "metadata": {},
     "output_type": "display_data"
    },
    {
     "data": {
      "text/html": [
       "<pre>| 4       | 1.90s        | 1.77897           | 1.03005               | 0.0651042   |</pre>"
      ],
      "text/plain": [
       "| 4       | 1.90s        | 1.77897           | 1.03005               | 0.0651042   |"
      ]
     },
     "metadata": {},
     "output_type": "display_data"
    },
    {
     "data": {
      "text/html": [
       "<pre>| 5       | 2.57s        | 1.73406           | 1.01759               | 0.0651042   |</pre>"
      ],
      "text/plain": [
       "| 5       | 2.57s        | 1.73406           | 1.01759               | 0.0651042   |"
      ]
     },
     "metadata": {},
     "output_type": "display_data"
    },
    {
     "data": {
      "text/html": [
       "<pre>| 6       | 3.19s        | 1.69393           | 1.00348               | 0.0651042   |</pre>"
      ],
      "text/plain": [
       "| 6       | 3.19s        | 1.69393           | 1.00348               | 0.0651042   |"
      ]
     },
     "metadata": {},
     "output_type": "display_data"
    },
    {
     "data": {
      "text/html": [
       "<pre>| 10      | 5.19s        | 1.58414           | 0.967914              | 0.0651042   |</pre>"
      ],
      "text/plain": [
       "| 10      | 5.19s        | 1.58414           | 0.967914              | 0.0651042   |"
      ]
     },
     "metadata": {},
     "output_type": "display_data"
    },
    {
     "data": {
      "text/html": [
       "<pre>| 11      | 5.74s        | 1.56587           | 0.960115              | 0.0651042   |</pre>"
      ],
      "text/plain": [
       "| 11      | 5.74s        | 1.56587           | 0.960115              | 0.0651042   |"
      ]
     },
     "metadata": {},
     "output_type": "display_data"
    },
    {
     "data": {
      "text/html": [
       "<pre>| 15      | 7.69s        | 1.53306           | 0.936491              | 0.0651042   |</pre>"
      ],
      "text/plain": [
       "| 15      | 7.69s        | 1.53306           | 0.936491              | 0.0651042   |"
      ]
     },
     "metadata": {},
     "output_type": "display_data"
    },
    {
     "data": {
      "text/html": [
       "<pre>| 20      | 9.40s        | 1.47788           | 0.921681              | 0.0651042   |</pre>"
      ],
      "text/plain": [
       "| 20      | 9.40s        | 1.47788           | 0.921681              | 0.0651042   |"
      ]
     },
     "metadata": {},
     "output_type": "display_data"
    },
    {
     "data": {
      "text/html": [
       "<pre>| 25      | 11.46s       | 1.41045           | 0.903251              | 0.0651042   |</pre>"
      ],
      "text/plain": [
       "| 25      | 11.46s       | 1.41045           | 0.903251              | 0.0651042   |"
      ]
     },
     "metadata": {},
     "output_type": "display_data"
    },
    {
     "data": {
      "text/html": [
       "<pre>+---------+--------------+-------------------+-----------------------+-------------+</pre>"
      ],
      "text/plain": [
       "+---------+--------------+-------------------+-----------------------+-------------+"
      ]
     },
     "metadata": {},
     "output_type": "display_data"
    },
    {
     "data": {
      "text/html": [
       "<pre>Optimization Complete: Maximum number of passes through the data reached.</pre>"
      ],
      "text/plain": [
       "Optimization Complete: Maximum number of passes through the data reached."
      ]
     },
     "metadata": {},
     "output_type": "display_data"
    },
    {
     "data": {
      "text/html": [
       "<pre>Computing final objective value and training RMSE.</pre>"
      ],
      "text/plain": [
       "Computing final objective value and training RMSE."
      ]
     },
     "metadata": {},
     "output_type": "display_data"
    },
    {
     "data": {
      "text/html": [
       "<pre>       Final objective value: 1.43371</pre>"
      ],
      "text/plain": [
       "       Final objective value: 1.43371"
      ]
     },
     "metadata": {},
     "output_type": "display_data"
    },
    {
     "data": {
      "text/html": [
       "<pre>       Final training RMSE: 0.887998</pre>"
      ],
      "text/plain": [
       "       Final training RMSE: 0.887998"
      ]
     },
     "metadata": {},
     "output_type": "display_data"
    },
    {
     "name": "stdout",
     "output_type": "stream",
     "text": [
      "\n",
      "\n",
      "Great! User 1 may enjoy watching: \n",
      "275    Leaving Las Vegas (1995)\n",
      "Name: movie_title, dtype: object\n",
      "356    One Flew Over the Cuckoo's Nest (1975)\n",
      "Name: movie_title, dtype: object\n",
      "317    Schindler's List (1993)\n",
      "Name: movie_title, dtype: object\n",
      "482    Casablanca (1942)\n",
      "Name: movie_title, dtype: object\n",
      "422    E.T. the Extra-Terrestrial (1982)\n",
      "Name: movie_title, dtype: object\n",
      "\n",
      "\n",
      "Great! User 2 may enjoy watching: \n",
      "49    Star Wars (1977)\n",
      "Name: movie_title, dtype: object\n",
      "123    Lone Star (1996)\n",
      "Name: movie_title, dtype: object\n",
      "474    Trainspotting (1996)\n",
      "Name: movie_title, dtype: object\n",
      "63    Shawshank Redemption, The (1994)\n",
      "Name: movie_title, dtype: object\n",
      "267    Chasing Amy (1997)\n",
      "Name: movie_title, dtype: object\n",
      "\n",
      "Print Model Comparison:\n",
      "\n"
     ]
    },
    {
     "data": {
      "text/html": [
       "<pre>Recsys training: model = ranking_factorization_recommender</pre>"
      ],
      "text/plain": [
       "Recsys training: model = ranking_factorization_recommender"
      ]
     },
     "metadata": {},
     "output_type": "display_data"
    },
    {
     "data": {
      "text/html": [
       "<pre>Preparing data set.</pre>"
      ],
      "text/plain": [
       "Preparing data set."
      ]
     },
     "metadata": {},
     "output_type": "display_data"
    },
    {
     "data": {
      "text/html": [
       "<pre>    Data has 90570 observations with 943 users and 1680 items.</pre>"
      ],
      "text/plain": [
       "    Data has 90570 observations with 943 users and 1680 items."
      ]
     },
     "metadata": {},
     "output_type": "display_data"
    },
    {
     "data": {
      "text/html": [
       "<pre>    Data prepared in: 0.128808s</pre>"
      ],
      "text/plain": [
       "    Data prepared in: 0.128808s"
      ]
     },
     "metadata": {},
     "output_type": "display_data"
    },
    {
     "data": {
      "text/html": [
       "<pre>Training ranking_factorization_recommender for recommendations.</pre>"
      ],
      "text/plain": [
       "Training ranking_factorization_recommender for recommendations."
      ]
     },
     "metadata": {},
     "output_type": "display_data"
    },
    {
     "data": {
      "text/html": [
       "<pre>+--------------------------------+--------------------------------------------------+----------+</pre>"
      ],
      "text/plain": [
       "+--------------------------------+--------------------------------------------------+----------+"
      ]
     },
     "metadata": {},
     "output_type": "display_data"
    },
    {
     "data": {
      "text/html": [
       "<pre>| Parameter                      | Description                                      | Value    |</pre>"
      ],
      "text/plain": [
       "| Parameter                      | Description                                      | Value    |"
      ]
     },
     "metadata": {},
     "output_type": "display_data"
    },
    {
     "data": {
      "text/html": [
       "<pre>+--------------------------------+--------------------------------------------------+----------+</pre>"
      ],
      "text/plain": [
       "+--------------------------------+--------------------------------------------------+----------+"
      ]
     },
     "metadata": {},
     "output_type": "display_data"
    },
    {
     "data": {
      "text/html": [
       "<pre>| num_factors                    | Factor Dimension                                 | 32       |</pre>"
      ],
      "text/plain": [
       "| num_factors                    | Factor Dimension                                 | 32       |"
      ]
     },
     "metadata": {},
     "output_type": "display_data"
    },
    {
     "data": {
      "text/html": [
       "<pre>| regularization                 | L2 Regularization on Factors                     | 1e-09    |</pre>"
      ],
      "text/plain": [
       "| regularization                 | L2 Regularization on Factors                     | 1e-09    |"
      ]
     },
     "metadata": {},
     "output_type": "display_data"
    },
    {
     "data": {
      "text/html": [
       "<pre>| solver                         | Solver used for training                         | adagrad  |</pre>"
      ],
      "text/plain": [
       "| solver                         | Solver used for training                         | adagrad  |"
      ]
     },
     "metadata": {},
     "output_type": "display_data"
    },
    {
     "data": {
      "text/html": [
       "<pre>| linear_regularization          | L2 Regularization on Linear Coefficients         | 1e-09    |</pre>"
      ],
      "text/plain": [
       "| linear_regularization          | L2 Regularization on Linear Coefficients         | 1e-09    |"
      ]
     },
     "metadata": {},
     "output_type": "display_data"
    },
    {
     "data": {
      "text/html": [
       "<pre>| ranking_regularization         | Rank-based Regularization Weight                 | 0.25     |</pre>"
      ],
      "text/plain": [
       "| ranking_regularization         | Rank-based Regularization Weight                 | 0.25     |"
      ]
     },
     "metadata": {},
     "output_type": "display_data"
    },
    {
     "data": {
      "text/html": [
       "<pre>| max_iterations                 | Maximum Number of Iterations                     | 25       |</pre>"
      ],
      "text/plain": [
       "| max_iterations                 | Maximum Number of Iterations                     | 25       |"
      ]
     },
     "metadata": {},
     "output_type": "display_data"
    },
    {
     "data": {
      "text/html": [
       "<pre>+--------------------------------+--------------------------------------------------+----------+</pre>"
      ],
      "text/plain": [
       "+--------------------------------+--------------------------------------------------+----------+"
      ]
     },
     "metadata": {},
     "output_type": "display_data"
    },
    {
     "data": {
      "text/html": [
       "<pre>  Optimizing model using SGD; tuning step size.</pre>"
      ],
      "text/plain": [
       "  Optimizing model using SGD; tuning step size."
      ]
     },
     "metadata": {},
     "output_type": "display_data"
    },
    {
     "data": {
      "text/html": [
       "<pre>  Using 11321 / 90570 points for tuning the step size.</pre>"
      ],
      "text/plain": [
       "  Using 11321 / 90570 points for tuning the step size."
      ]
     },
     "metadata": {},
     "output_type": "display_data"
    },
    {
     "data": {
      "text/html": [
       "<pre>+---------+-------------------+------------------------------------------+</pre>"
      ],
      "text/plain": [
       "+---------+-------------------+------------------------------------------+"
      ]
     },
     "metadata": {},
     "output_type": "display_data"
    },
    {
     "data": {
      "text/html": [
       "<pre>| Attempt | Initial Step Size | Estimated Objective Value                |</pre>"
      ],
      "text/plain": [
       "| Attempt | Initial Step Size | Estimated Objective Value                |"
      ]
     },
     "metadata": {},
     "output_type": "display_data"
    },
    {
     "data": {
      "text/html": [
       "<pre>+---------+-------------------+------------------------------------------+</pre>"
      ],
      "text/plain": [
       "+---------+-------------------+------------------------------------------+"
      ]
     },
     "metadata": {},
     "output_type": "display_data"
    },
    {
     "data": {
      "text/html": [
       "<pre>| 0       | 16.6667           | Not Viable                               |</pre>"
      ],
      "text/plain": [
       "| 0       | 16.6667           | Not Viable                               |"
      ]
     },
     "metadata": {},
     "output_type": "display_data"
    },
    {
     "data": {
      "text/html": [
       "<pre>| 1       | 4.16667           | Not Viable                               |</pre>"
      ],
      "text/plain": [
       "| 1       | 4.16667           | Not Viable                               |"
      ]
     },
     "metadata": {},
     "output_type": "display_data"
    },
    {
     "data": {
      "text/html": [
       "<pre>| 2       | 1.04167           | Not Viable                               |</pre>"
      ],
      "text/plain": [
       "| 2       | 1.04167           | Not Viable                               |"
      ]
     },
     "metadata": {},
     "output_type": "display_data"
    },
    {
     "data": {
      "text/html": [
       "<pre>| 3       | 0.260417          | Not Viable                               |</pre>"
      ],
      "text/plain": [
       "| 3       | 0.260417          | Not Viable                               |"
      ]
     },
     "metadata": {},
     "output_type": "display_data"
    },
    {
     "data": {
      "text/html": [
       "<pre>| 4       | 0.0651042         | 1.75368                                  |</pre>"
      ],
      "text/plain": [
       "| 4       | 0.0651042         | 1.75368                                  |"
      ]
     },
     "metadata": {},
     "output_type": "display_data"
    },
    {
     "data": {
      "text/html": [
       "<pre>| 5       | 0.0325521         | 1.72879                                  |</pre>"
      ],
      "text/plain": [
       "| 5       | 0.0325521         | 1.72879                                  |"
      ]
     },
     "metadata": {},
     "output_type": "display_data"
    },
    {
     "data": {
      "text/html": [
       "<pre>| 6       | 0.016276          | 1.95357                                  |</pre>"
      ],
      "text/plain": [
       "| 6       | 0.016276          | 1.95357                                  |"
      ]
     },
     "metadata": {},
     "output_type": "display_data"
    },
    {
     "data": {
      "text/html": [
       "<pre>| 7       | 0.00813802        | 2.1141                                   |</pre>"
      ],
      "text/plain": [
       "| 7       | 0.00813802        | 2.1141                                   |"
      ]
     },
     "metadata": {},
     "output_type": "display_data"
    },
    {
     "data": {
      "text/html": [
       "<pre>| 8       | 0.00406901        | 2.30109                                  |</pre>"
      ],
      "text/plain": [
       "| 8       | 0.00406901        | 2.30109                                  |"
      ]
     },
     "metadata": {},
     "output_type": "display_data"
    },
    {
     "data": {
      "text/html": [
       "<pre>+---------+-------------------+------------------------------------------+</pre>"
      ],
      "text/plain": [
       "+---------+-------------------+------------------------------------------+"
      ]
     },
     "metadata": {},
     "output_type": "display_data"
    },
    {
     "data": {
      "text/html": [
       "<pre>| Final   | 0.0325521         | 1.72879                                  |</pre>"
      ],
      "text/plain": [
       "| Final   | 0.0325521         | 1.72879                                  |"
      ]
     },
     "metadata": {},
     "output_type": "display_data"
    },
    {
     "data": {
      "text/html": [
       "<pre>+---------+-------------------+------------------------------------------+</pre>"
      ],
      "text/plain": [
       "+---------+-------------------+------------------------------------------+"
      ]
     },
     "metadata": {},
     "output_type": "display_data"
    },
    {
     "data": {
      "text/html": [
       "<pre>Starting Optimization.</pre>"
      ],
      "text/plain": [
       "Starting Optimization."
      ]
     },
     "metadata": {},
     "output_type": "display_data"
    },
    {
     "data": {
      "text/html": [
       "<pre>+---------+--------------+-------------------+-----------------------+-------------+</pre>"
      ],
      "text/plain": [
       "+---------+--------------+-------------------+-----------------------+-------------+"
      ]
     },
     "metadata": {},
     "output_type": "display_data"
    },
    {
     "data": {
      "text/html": [
       "<pre>| Iter.   | Elapsed Time | Approx. Objective | Approx. Training RMSE | Step Size   |</pre>"
      ],
      "text/plain": [
       "| Iter.   | Elapsed Time | Approx. Objective | Approx. Training RMSE | Step Size   |"
      ]
     },
     "metadata": {},
     "output_type": "display_data"
    },
    {
     "data": {
      "text/html": [
       "<pre>+---------+--------------+-------------------+-----------------------+-------------+</pre>"
      ],
      "text/plain": [
       "+---------+--------------+-------------------+-----------------------+-------------+"
      ]
     },
     "metadata": {},
     "output_type": "display_data"
    },
    {
     "data": {
      "text/html": [
       "<pre>| Initial | 59us         | 2.48618           | 1.12606               |             |</pre>"
      ],
      "text/plain": [
       "| Initial | 59us         | 2.48618           | 1.12606               |             |"
      ]
     },
     "metadata": {},
     "output_type": "display_data"
    },
    {
     "data": {
      "text/html": [
       "<pre>+---------+--------------+-------------------+-----------------------+-------------+</pre>"
      ],
      "text/plain": [
       "+---------+--------------+-------------------+-----------------------+-------------+"
      ]
     },
     "metadata": {},
     "output_type": "display_data"
    },
    {
     "data": {
      "text/html": [
       "<pre>| 1       | 633.281ms    | 2.08514           | 1.11197               | 0.0325521   |</pre>"
      ],
      "text/plain": [
       "| 1       | 633.281ms    | 2.08514           | 1.11197               | 0.0325521   |"
      ]
     },
     "metadata": {},
     "output_type": "display_data"
    },
    {
     "data": {
      "text/html": [
       "<pre>| 2       | 1.13s        | 1.94883           | 1.07322               | 0.0325521   |</pre>"
      ],
      "text/plain": [
       "| 2       | 1.13s        | 1.94883           | 1.07322               | 0.0325521   |"
      ]
     },
     "metadata": {},
     "output_type": "display_data"
    },
    {
     "data": {
      "text/html": [
       "<pre>| 3       | 1.41s        | 1.88625           | 1.04452               | 0.0325521   |</pre>"
      ],
      "text/plain": [
       "| 3       | 1.41s        | 1.88625           | 1.04452               | 0.0325521   |"
      ]
     },
     "metadata": {},
     "output_type": "display_data"
    },
    {
     "data": {
      "text/html": [
       "<pre>| 4       | 1.71s        | 1.85151           | 1.03595               | 0.0325521   |</pre>"
      ],
      "text/plain": [
       "| 4       | 1.71s        | 1.85151           | 1.03595               | 0.0325521   |"
      ]
     },
     "metadata": {},
     "output_type": "display_data"
    },
    {
     "data": {
      "text/html": [
       "<pre>| 5       | 1.99s        | 1.83185           | 1.02794               | 0.0325521   |</pre>"
      ],
      "text/plain": [
       "| 5       | 1.99s        | 1.83185           | 1.02794               | 0.0325521   |"
      ]
     },
     "metadata": {},
     "output_type": "display_data"
    },
    {
     "data": {
      "text/html": [
       "<pre>| 6       | 2.28s        | 1.81166           | 1.02389               | 0.0325521   |</pre>"
      ],
      "text/plain": [
       "| 6       | 2.28s        | 1.81166           | 1.02389               | 0.0325521   |"
      ]
     },
     "metadata": {},
     "output_type": "display_data"
    },
    {
     "data": {
      "text/html": [
       "<pre>| 10      | 3.40s        | 1.76473           | 1.00864               | 0.0325521   |</pre>"
      ],
      "text/plain": [
       "| 10      | 3.40s        | 1.76473           | 1.00864               | 0.0325521   |"
      ]
     },
     "metadata": {},
     "output_type": "display_data"
    },
    {
     "data": {
      "text/html": [
       "<pre>| 11      | 3.72s        | 1.75634           | 1.00318               | 0.0325521   |</pre>"
      ],
      "text/plain": [
       "| 11      | 3.72s        | 1.75634           | 1.00318               | 0.0325521   |"
      ]
     },
     "metadata": {},
     "output_type": "display_data"
    },
    {
     "data": {
      "text/html": [
       "<pre>| 15      | 5.08s        | 1.73054           | 0.992519              | 0.0325521   |</pre>"
      ],
      "text/plain": [
       "| 15      | 5.08s        | 1.73054           | 0.992519              | 0.0325521   |"
      ]
     },
     "metadata": {},
     "output_type": "display_data"
    },
    {
     "data": {
      "text/html": [
       "<pre>| 20      | 6.94s        | 1.71238           | 0.985462              | 0.0325521   |</pre>"
      ],
      "text/plain": [
       "| 20      | 6.94s        | 1.71238           | 0.985462              | 0.0325521   |"
      ]
     },
     "metadata": {},
     "output_type": "display_data"
    },
    {
     "data": {
      "text/html": [
       "<pre>| 25      | 9.10s        | 1.70414           | 0.981935              | 0.0325521   |</pre>"
      ],
      "text/plain": [
       "| 25      | 9.10s        | 1.70414           | 0.981935              | 0.0325521   |"
      ]
     },
     "metadata": {},
     "output_type": "display_data"
    },
    {
     "data": {
      "text/html": [
       "<pre>+---------+--------------+-------------------+-----------------------+-------------+</pre>"
      ],
      "text/plain": [
       "+---------+--------------+-------------------+-----------------------+-------------+"
      ]
     },
     "metadata": {},
     "output_type": "display_data"
    },
    {
     "data": {
      "text/html": [
       "<pre>Optimization Complete: Maximum number of passes through the data reached.</pre>"
      ],
      "text/plain": [
       "Optimization Complete: Maximum number of passes through the data reached."
      ]
     },
     "metadata": {},
     "output_type": "display_data"
    },
    {
     "data": {
      "text/html": [
       "<pre>Computing final objective value and training RMSE.</pre>"
      ],
      "text/plain": [
       "Computing final objective value and training RMSE."
      ]
     },
     "metadata": {},
     "output_type": "display_data"
    },
    {
     "data": {
      "text/html": [
       "<pre>       Final objective value: 1.7168</pre>"
      ],
      "text/plain": [
       "       Final objective value: 1.7168"
      ]
     },
     "metadata": {},
     "output_type": "display_data"
    },
    {
     "data": {
      "text/html": [
       "<pre>       Final training RMSE: 0.975925</pre>"
      ],
      "text/plain": [
       "       Final training RMSE: 0.975925"
      ]
     },
     "metadata": {},
     "output_type": "display_data"
    },
    {
     "data": {
      "text/html": [
       "<pre>Recsys training: model = popularity</pre>"
      ],
      "text/plain": [
       "Recsys training: model = popularity"
      ]
     },
     "metadata": {},
     "output_type": "display_data"
    },
    {
     "data": {
      "text/html": [
       "<pre>Warning: Ignoring columns unix_timestamp;</pre>"
      ],
      "text/plain": [
       "Warning: Ignoring columns unix_timestamp;"
      ]
     },
     "metadata": {},
     "output_type": "display_data"
    },
    {
     "data": {
      "text/html": [
       "<pre>    To use these columns in scoring predictions, use a model that allows the use of additional features.</pre>"
      ],
      "text/plain": [
       "    To use these columns in scoring predictions, use a model that allows the use of additional features."
      ]
     },
     "metadata": {},
     "output_type": "display_data"
    },
    {
     "data": {
      "text/html": [
       "<pre>Preparing data set.</pre>"
      ],
      "text/plain": [
       "Preparing data set."
      ]
     },
     "metadata": {},
     "output_type": "display_data"
    },
    {
     "data": {
      "text/html": [
       "<pre>    Data has 90570 observations with 943 users and 1680 items.</pre>"
      ],
      "text/plain": [
       "    Data has 90570 observations with 943 users and 1680 items."
      ]
     },
     "metadata": {},
     "output_type": "display_data"
    },
    {
     "data": {
      "text/html": [
       "<pre>    Data prepared in: 0.073292s</pre>"
      ],
      "text/plain": [
       "    Data prepared in: 0.073292s"
      ]
     },
     "metadata": {},
     "output_type": "display_data"
    },
    {
     "data": {
      "text/html": [
       "<pre>90570 observations to process; with 1680 unique items.</pre>"
      ],
      "text/plain": [
       "90570 observations to process; with 1680 unique items."
      ]
     },
     "metadata": {},
     "output_type": "display_data"
    },
    {
     "data": {
      "text/html": [
       "<pre>Recsys training: model = item_similarity</pre>"
      ],
      "text/plain": [
       "Recsys training: model = item_similarity"
      ]
     },
     "metadata": {},
     "output_type": "display_data"
    },
    {
     "data": {
      "text/html": [
       "<pre>Warning: Ignoring columns unix_timestamp;</pre>"
      ],
      "text/plain": [
       "Warning: Ignoring columns unix_timestamp;"
      ]
     },
     "metadata": {},
     "output_type": "display_data"
    },
    {
     "data": {
      "text/html": [
       "<pre>    To use these columns in scoring predictions, use a model that allows the use of additional features.</pre>"
      ],
      "text/plain": [
       "    To use these columns in scoring predictions, use a model that allows the use of additional features."
      ]
     },
     "metadata": {},
     "output_type": "display_data"
    },
    {
     "data": {
      "text/html": [
       "<pre>Preparing data set.</pre>"
      ],
      "text/plain": [
       "Preparing data set."
      ]
     },
     "metadata": {},
     "output_type": "display_data"
    },
    {
     "data": {
      "text/html": [
       "<pre>    Data has 90570 observations with 943 users and 1680 items.</pre>"
      ],
      "text/plain": [
       "    Data has 90570 observations with 943 users and 1680 items."
      ]
     },
     "metadata": {},
     "output_type": "display_data"
    },
    {
     "data": {
      "text/html": [
       "<pre>    Data prepared in: 0.093029s</pre>"
      ],
      "text/plain": [
       "    Data prepared in: 0.093029s"
      ]
     },
     "metadata": {},
     "output_type": "display_data"
    },
    {
     "data": {
      "text/html": [
       "<pre>Training model from provided data.</pre>"
      ],
      "text/plain": [
       "Training model from provided data."
      ]
     },
     "metadata": {},
     "output_type": "display_data"
    },
    {
     "data": {
      "text/html": [
       "<pre>Gathering per-item and per-user statistics.</pre>"
      ],
      "text/plain": [
       "Gathering per-item and per-user statistics."
      ]
     },
     "metadata": {},
     "output_type": "display_data"
    },
    {
     "data": {
      "text/html": [
       "<pre>+--------------------------------+------------+</pre>"
      ],
      "text/plain": [
       "+--------------------------------+------------+"
      ]
     },
     "metadata": {},
     "output_type": "display_data"
    },
    {
     "data": {
      "text/html": [
       "<pre>| Elapsed Time (Item Statistics) | % Complete |</pre>"
      ],
      "text/plain": [
       "| Elapsed Time (Item Statistics) | % Complete |"
      ]
     },
     "metadata": {},
     "output_type": "display_data"
    },
    {
     "data": {
      "text/html": [
       "<pre>+--------------------------------+------------+</pre>"
      ],
      "text/plain": [
       "+--------------------------------+------------+"
      ]
     },
     "metadata": {},
     "output_type": "display_data"
    },
    {
     "data": {
      "text/html": [
       "<pre>| 9.535ms                        | 100        |</pre>"
      ],
      "text/plain": [
       "| 9.535ms                        | 100        |"
      ]
     },
     "metadata": {},
     "output_type": "display_data"
    },
    {
     "data": {
      "text/html": [
       "<pre>+--------------------------------+------------+</pre>"
      ],
      "text/plain": [
       "+--------------------------------+------------+"
      ]
     },
     "metadata": {},
     "output_type": "display_data"
    },
    {
     "data": {
      "text/html": [
       "<pre>Setting up lookup tables.</pre>"
      ],
      "text/plain": [
       "Setting up lookup tables."
      ]
     },
     "metadata": {},
     "output_type": "display_data"
    },
    {
     "data": {
      "text/html": [
       "<pre>Processing data in one pass using dense lookup tables.</pre>"
      ],
      "text/plain": [
       "Processing data in one pass using dense lookup tables."
      ]
     },
     "metadata": {},
     "output_type": "display_data"
    },
    {
     "data": {
      "text/html": [
       "<pre>+-------------------------------------+------------------+-----------------+</pre>"
      ],
      "text/plain": [
       "+-------------------------------------+------------------+-----------------+"
      ]
     },
     "metadata": {},
     "output_type": "display_data"
    },
    {
     "data": {
      "text/html": [
       "<pre>| Elapsed Time (Constructing Lookups) | Total % Complete | Items Processed |</pre>"
      ],
      "text/plain": [
       "| Elapsed Time (Constructing Lookups) | Total % Complete | Items Processed |"
      ]
     },
     "metadata": {},
     "output_type": "display_data"
    },
    {
     "data": {
      "text/html": [
       "<pre>+-------------------------------------+------------------+-----------------+</pre>"
      ],
      "text/plain": [
       "+-------------------------------------+------------------+-----------------+"
      ]
     },
     "metadata": {},
     "output_type": "display_data"
    },
    {
     "data": {
      "text/html": [
       "<pre>| 14.422ms                            | 0.25             | 6               |</pre>"
      ],
      "text/plain": [
       "| 14.422ms                            | 0.25             | 6               |"
      ]
     },
     "metadata": {},
     "output_type": "display_data"
    },
    {
     "data": {
      "text/html": [
       "<pre>| 225.61ms                            | 100              | 1680            |</pre>"
      ],
      "text/plain": [
       "| 225.61ms                            | 100              | 1680            |"
      ]
     },
     "metadata": {},
     "output_type": "display_data"
    },
    {
     "data": {
      "text/html": [
       "<pre>+-------------------------------------+------------------+-----------------+</pre>"
      ],
      "text/plain": [
       "+-------------------------------------+------------------+-----------------+"
      ]
     },
     "metadata": {},
     "output_type": "display_data"
    },
    {
     "data": {
      "text/html": [
       "<pre>Finalizing lookup tables.</pre>"
      ],
      "text/plain": [
       "Finalizing lookup tables."
      ]
     },
     "metadata": {},
     "output_type": "display_data"
    },
    {
     "data": {
      "text/html": [
       "<pre>Generating candidate set for working with new users.</pre>"
      ],
      "text/plain": [
       "Generating candidate set for working with new users."
      ]
     },
     "metadata": {},
     "output_type": "display_data"
    },
    {
     "data": {
      "text/html": [
       "<pre>Finished training in 0.235987s</pre>"
      ],
      "text/plain": [
       "Finished training in 0.235987s"
      ]
     },
     "metadata": {},
     "output_type": "display_data"
    },
    {
     "name": "stdout",
     "output_type": "stream",
     "text": [
      "PROGRESS: Evaluate model Rank Factorization Model\n",
      "\n",
      "Precision and recall summary statistics by cutoff\n",
      "+--------+---------------------+----------------------+\n",
      "| cutoff |    mean_precision   |     mean_recall      |\n",
      "+--------+---------------------+----------------------+\n",
      "|   1    |  0.1378579003181336 | 0.013785790031813358 |\n",
      "|   2    |  0.0970307529162249 | 0.01940615058324496  |\n",
      "|   3    | 0.08554259455638029 | 0.025662778366914076 |\n",
      "|   4    | 0.07847295864262989 | 0.031389183457051995 |\n",
      "|   5    | 0.07401908801696709 | 0.037009544008483546 |\n",
      "|   6    | 0.07334747260516082 | 0.04400848356309657  |\n",
      "|   7    | 0.06938342675352215 | 0.04856839872746554  |\n",
      "|   8    | 0.06574761399787898 | 0.05259809119830334  |\n",
      "|   9    | 0.06386237775421233 | 0.05747613997879116  |\n",
      "|   10   | 0.06214209968186641 | 0.06214209968186641  |\n",
      "+--------+---------------------+----------------------+\n",
      "[10 rows x 3 columns]\n",
      "\n",
      "\n",
      "Overall RMSE: 1.038831060886276\n",
      "\n",
      "Per User RMSE (best)\n",
      "+---------+--------------------+-------+\n",
      "| user_id |        rmse        | count |\n",
      "+---------+--------------------+-------+\n",
      "|   757   | 0.4075337644716626 |   10  |\n",
      "+---------+--------------------+-------+\n",
      "[1 rows x 3 columns]\n",
      "\n",
      "\n",
      "Per User RMSE (worst)\n",
      "+---------+--------------------+-------+\n",
      "| user_id |        rmse        | count |\n",
      "+---------+--------------------+-------+\n",
      "|   731   | 1.9386857570113674 |   10  |\n",
      "+---------+--------------------+-------+\n",
      "[1 rows x 3 columns]\n",
      "\n",
      "\n",
      "Per Item RMSE (best)\n",
      "+----------+----------------------+-------+\n",
      "| movie_id |         rmse         | count |\n",
      "+----------+----------------------+-------+\n",
      "|   710    | 0.013486290472442874 |   1   |\n",
      "+----------+----------------------+-------+\n",
      "[1 rows x 3 columns]\n",
      "\n",
      "\n",
      "Per Item RMSE (worst)\n",
      "+----------+--------------------+-------+\n",
      "| movie_id |        rmse        | count |\n",
      "+----------+--------------------+-------+\n",
      "|   1495   | 2.8805622923366734 |   1   |\n",
      "+----------+--------------------+-------+\n",
      "[1 rows x 3 columns]\n",
      "\n",
      "PROGRESS: Evaluate model Item Popularity Model\n",
      "\n",
      "Precision and recall summary statistics by cutoff\n",
      "+--------+------------------------+------------------------+\n",
      "| cutoff |     mean_precision     |      mean_recall       |\n",
      "+--------+------------------------+------------------------+\n",
      "|   1    |          0.0           |          0.0           |\n",
      "|   2    |          0.0           |          0.0           |\n",
      "|   3    |          0.0           |          0.0           |\n",
      "|   4    |          0.0           |          0.0           |\n",
      "|   5    |          0.0           |          0.0           |\n",
      "|   6    | 0.00017674089784376124 | 0.00010604453870625677 |\n",
      "|   7    | 0.0001514921981517952  | 0.00010604453870625677 |\n",
      "|   8    | 0.0001325556733828209  | 0.00010604453870625677 |\n",
      "|   9    | 0.00023565453045834795 | 0.0002120890774125135  |\n",
      "|   10   | 0.0002120890774125135  | 0.0002120890774125135  |\n",
      "+--------+------------------------+------------------------+\n",
      "[10 rows x 3 columns]\n",
      "\n",
      "\n",
      "Overall RMSE: 1.0417647969439832\n",
      "\n",
      "Per User RMSE (best)\n",
      "+---------+--------------------+-------+\n",
      "| user_id |        rmse        | count |\n",
      "+---------+--------------------+-------+\n",
      "|    2    | 0.3905909929967786 |   10  |\n",
      "+---------+--------------------+-------+\n",
      "[1 rows x 3 columns]\n",
      "\n",
      "\n",
      "Per User RMSE (worst)\n",
      "+---------+--------------------+-------+\n",
      "| user_id |        rmse        | count |\n",
      "+---------+--------------------+-------+\n",
      "|   519   | 2.3300010092772054 |   10  |\n",
      "+---------+--------------------+-------+\n",
      "[1 rows x 3 columns]\n",
      "\n",
      "\n",
      "Per Item RMSE (best)\n",
      "+----------+------+-------+\n",
      "| movie_id | rmse | count |\n",
      "+----------+------+-------+\n",
      "|   643    | 0.0  |   1   |\n",
      "+----------+------+-------+\n",
      "[1 rows x 3 columns]\n",
      "\n",
      "\n",
      "Per Item RMSE (worst)\n",
      "+----------+------+-------+\n",
      "| movie_id | rmse | count |\n",
      "+----------+------+-------+\n",
      "|   1306   | 4.0  |   1   |\n",
      "+----------+------+-------+\n",
      "[1 rows x 3 columns]\n",
      "\n",
      "PROGRESS: Evaluate model Item Similarity Model\n",
      "\n",
      "Precision and recall summary statistics by cutoff\n",
      "+--------+---------------------+----------------------+\n",
      "| cutoff |    mean_precision   |     mean_recall      |\n",
      "+--------+---------------------+----------------------+\n",
      "|   1    |  0.0848356309650053 | 0.008483563096500541 |\n",
      "|   2    |  0.085896076352068  | 0.01717921527041357  |\n",
      "|   3    | 0.07211028632025443 | 0.021633085896076345 |\n",
      "|   4    | 0.06627783669141048 | 0.026511134676564147 |\n",
      "|   5    | 0.06744432661717928 | 0.03372216330858964  |\n",
      "|   6    | 0.06857546836337927 | 0.04114528101802756  |\n",
      "|   7    | 0.07089834873504026 | 0.049628844114528115 |\n",
      "|   8    | 0.07025450689289504 | 0.05620360551431598  |\n",
      "|   9    | 0.06998939554612937 |  0.0629904559915165  |\n",
      "|   10   | 0.06977730646871695 | 0.06977730646871695  |\n",
      "+--------+---------------------+----------------------+\n",
      "[10 rows x 3 columns]\n",
      "\n",
      "\n",
      "Overall RMSE: 3.3609151867279223\n",
      "\n",
      "Per User RMSE (best)\n",
      "+---------+--------------------+-------+\n",
      "| user_id |        rmse        | count |\n",
      "+---------+--------------------+-------+\n",
      "|   774   | 1.6286339682587798 |   10  |\n",
      "+---------+--------------------+-------+\n",
      "[1 rows x 3 columns]\n",
      "\n",
      "\n",
      "Per User RMSE (worst)\n",
      "+---------+------------------+-------+\n",
      "| user_id |       rmse       | count |\n",
      "+---------+------------------+-------+\n",
      "|   200   | 4.59673124077857 |   10  |\n",
      "+---------+------------------+-------+\n",
      "[1 rows x 3 columns]\n",
      "\n",
      "\n",
      "Per Item RMSE (best)\n",
      "+----------+--------------------+-------+\n",
      "| movie_id |        rmse        | count |\n",
      "+----------+--------------------+-------+\n",
      "|   1255   | 0.8007337326804796 |   1   |\n",
      "+----------+--------------------+-------+\n",
      "[1 rows x 3 columns]\n",
      "\n",
      "\n",
      "Per Item RMSE (worst)\n",
      "+----------+------+-------+\n",
      "| movie_id | rmse | count |\n",
      "+----------+------+-------+\n",
      "|   718    | 5.0  |   1   |\n",
      "+----------+------+-------+\n",
      "[1 rows x 3 columns]\n",
      "\n",
      "Would you like to restart the program? (y/n) y\n",
      "\n",
      "1.) Terminal \n",
      "2.) GUI \n",
      "\n",
      "Choice:  2\n",
      "\n",
      "1.) Terminal \n",
      "2.) GUI \n",
      "\n",
      "Choice:  2\n",
      "\n",
      "1.) Terminal \n",
      "2.) GUI \n",
      "\n"
     ]
    },
    {
     "name": "stderr",
     "output_type": "stream",
     "text": [
      "/home/frogbert/anaconda3/lib/python3.6/site-packages/_pytest/fixtures.py:844: DeprecationWarning: The `convert` argument is deprecated in favor of `converter`.  It will be removed after 2019/01.\n",
      "  params = attr.ib(convert=attr.converters.optional(tuple))\n",
      "/home/frogbert/anaconda3/lib/python3.6/site-packages/_pytest/fixtures.py:846: DeprecationWarning: The `convert` argument is deprecated in favor of `converter`.  It will be removed after 2019/01.\n",
      "  ids = attr.ib(default=None, convert=_ensure_immutable_ids)\n"
     ]
    },
    {
     "ename": "KeyboardInterrupt",
     "evalue": "",
     "output_type": "error",
     "traceback": [
      "\u001b[0;31m---------------------------------------------------------------------------\u001b[0m",
      "\u001b[0;31mKeyboardInterrupt\u001b[0m                         Traceback (most recent call last)",
      "\u001b[0;32m~/anaconda3/lib/python3.6/site-packages/ipykernel/kernelbase.py\u001b[0m in \u001b[0;36m_input_request\u001b[0;34m(self, prompt, ident, parent, password)\u001b[0m\n\u001b[1;32m    728\u001b[0m             \u001b[0;32mtry\u001b[0m\u001b[0;34m:\u001b[0m\u001b[0;34m\u001b[0m\u001b[0m\n\u001b[0;32m--> 729\u001b[0;31m                 \u001b[0mident\u001b[0m\u001b[0;34m,\u001b[0m \u001b[0mreply\u001b[0m \u001b[0;34m=\u001b[0m \u001b[0mself\u001b[0m\u001b[0;34m.\u001b[0m\u001b[0msession\u001b[0m\u001b[0;34m.\u001b[0m\u001b[0mrecv\u001b[0m\u001b[0;34m(\u001b[0m\u001b[0mself\u001b[0m\u001b[0;34m.\u001b[0m\u001b[0mstdin_socket\u001b[0m\u001b[0;34m,\u001b[0m \u001b[0;36m0\u001b[0m\u001b[0;34m)\u001b[0m\u001b[0;34m\u001b[0m\u001b[0m\n\u001b[0m\u001b[1;32m    730\u001b[0m             \u001b[0;32mexcept\u001b[0m \u001b[0mException\u001b[0m\u001b[0;34m:\u001b[0m\u001b[0;34m\u001b[0m\u001b[0m\n",
      "\u001b[0;32m~/anaconda3/lib/python3.6/site-packages/jupyter_client/session.py\u001b[0m in \u001b[0;36mrecv\u001b[0;34m(self, socket, mode, content, copy)\u001b[0m\n\u001b[1;32m    802\u001b[0m         \u001b[0;32mtry\u001b[0m\u001b[0;34m:\u001b[0m\u001b[0;34m\u001b[0m\u001b[0m\n\u001b[0;32m--> 803\u001b[0;31m             \u001b[0mmsg_list\u001b[0m \u001b[0;34m=\u001b[0m \u001b[0msocket\u001b[0m\u001b[0;34m.\u001b[0m\u001b[0mrecv_multipart\u001b[0m\u001b[0;34m(\u001b[0m\u001b[0mmode\u001b[0m\u001b[0;34m,\u001b[0m \u001b[0mcopy\u001b[0m\u001b[0;34m=\u001b[0m\u001b[0mcopy\u001b[0m\u001b[0;34m)\u001b[0m\u001b[0;34m\u001b[0m\u001b[0m\n\u001b[0m\u001b[1;32m    804\u001b[0m         \u001b[0;32mexcept\u001b[0m \u001b[0mzmq\u001b[0m\u001b[0;34m.\u001b[0m\u001b[0mZMQError\u001b[0m \u001b[0;32mas\u001b[0m \u001b[0me\u001b[0m\u001b[0;34m:\u001b[0m\u001b[0;34m\u001b[0m\u001b[0m\n",
      "\u001b[0;32m~/anaconda3/lib/python3.6/site-packages/zmq/sugar/socket.py\u001b[0m in \u001b[0;36mrecv_multipart\u001b[0;34m(self, flags, copy, track)\u001b[0m\n\u001b[1;32m    394\u001b[0m         \"\"\"\n\u001b[0;32m--> 395\u001b[0;31m         \u001b[0mparts\u001b[0m \u001b[0;34m=\u001b[0m \u001b[0;34m[\u001b[0m\u001b[0mself\u001b[0m\u001b[0;34m.\u001b[0m\u001b[0mrecv\u001b[0m\u001b[0;34m(\u001b[0m\u001b[0mflags\u001b[0m\u001b[0;34m,\u001b[0m \u001b[0mcopy\u001b[0m\u001b[0;34m=\u001b[0m\u001b[0mcopy\u001b[0m\u001b[0;34m,\u001b[0m \u001b[0mtrack\u001b[0m\u001b[0;34m=\u001b[0m\u001b[0mtrack\u001b[0m\u001b[0;34m)\u001b[0m\u001b[0;34m]\u001b[0m\u001b[0;34m\u001b[0m\u001b[0m\n\u001b[0m\u001b[1;32m    396\u001b[0m         \u001b[0;31m# have first part already, only loop while more to receive\u001b[0m\u001b[0;34m\u001b[0m\u001b[0;34m\u001b[0m\u001b[0m\n",
      "\u001b[0;32mzmq/backend/cython/socket.pyx\u001b[0m in \u001b[0;36mzmq.backend.cython.socket.Socket.recv\u001b[0;34m()\u001b[0m\n",
      "\u001b[0;32mzmq/backend/cython/socket.pyx\u001b[0m in \u001b[0;36mzmq.backend.cython.socket.Socket.recv\u001b[0;34m()\u001b[0m\n",
      "\u001b[0;32mzmq/backend/cython/socket.pyx\u001b[0m in \u001b[0;36mzmq.backend.cython.socket._recv_copy\u001b[0;34m()\u001b[0m\n",
      "\u001b[0;32m~/anaconda3/lib/python3.6/site-packages/zmq/backend/cython/checkrc.pxd\u001b[0m in \u001b[0;36mzmq.backend.cython.checkrc._check_rc\u001b[0;34m()\u001b[0m\n",
      "\u001b[0;31mKeyboardInterrupt\u001b[0m: ",
      "\nDuring handling of the above exception, another exception occurred:\n",
      "\u001b[0;31mKeyboardInterrupt\u001b[0m                         Traceback (most recent call last)",
      "\u001b[0;32m<ipython-input-3-391887cf8e7e>\u001b[0m in \u001b[0;36m<module>\u001b[0;34m()\u001b[0m\n\u001b[1;32m      2\u001b[0m \u001b[0;34m\u001b[0m\u001b[0m\n\u001b[1;32m      3\u001b[0m     \u001b[0mprint\u001b[0m\u001b[0;34m(\u001b[0m\u001b[0;34m'\\n1.) Terminal \\n2.) GUI \\n'\u001b[0m\u001b[0;34m)\u001b[0m\u001b[0;34m\u001b[0m\u001b[0m\n\u001b[0;32m----> 4\u001b[0;31m     \u001b[0mterminalGUI\u001b[0m \u001b[0;34m=\u001b[0m \u001b[0minput\u001b[0m\u001b[0;34m(\u001b[0m\u001b[0;34m'Choice:  '\u001b[0m\u001b[0;34m)\u001b[0m\u001b[0;34m\u001b[0m\u001b[0m\n\u001b[0m\u001b[1;32m      5\u001b[0m \u001b[0;34m\u001b[0m\u001b[0m\n\u001b[1;32m      6\u001b[0m     \u001b[0;32mif\u001b[0m \u001b[0;34m(\u001b[0m\u001b[0mint\u001b[0m\u001b[0;34m(\u001b[0m\u001b[0mterminalGUI\u001b[0m\u001b[0;34m)\u001b[0m \u001b[0;34m==\u001b[0m \u001b[0;36m1\u001b[0m \u001b[0;34m)\u001b[0m\u001b[0;34m:\u001b[0m\u001b[0;34m\u001b[0m\u001b[0m\n",
      "\u001b[0;32m~/anaconda3/lib/python3.6/site-packages/ipykernel/kernelbase.py\u001b[0m in \u001b[0;36mraw_input\u001b[0;34m(self, prompt)\u001b[0m\n\u001b[1;32m    702\u001b[0m             \u001b[0mself\u001b[0m\u001b[0;34m.\u001b[0m\u001b[0m_parent_ident\u001b[0m\u001b[0;34m,\u001b[0m\u001b[0;34m\u001b[0m\u001b[0m\n\u001b[1;32m    703\u001b[0m             \u001b[0mself\u001b[0m\u001b[0;34m.\u001b[0m\u001b[0m_parent_header\u001b[0m\u001b[0;34m,\u001b[0m\u001b[0;34m\u001b[0m\u001b[0m\n\u001b[0;32m--> 704\u001b[0;31m             \u001b[0mpassword\u001b[0m\u001b[0;34m=\u001b[0m\u001b[0;32mFalse\u001b[0m\u001b[0;34m,\u001b[0m\u001b[0;34m\u001b[0m\u001b[0m\n\u001b[0m\u001b[1;32m    705\u001b[0m         )\n\u001b[1;32m    706\u001b[0m \u001b[0;34m\u001b[0m\u001b[0m\n",
      "\u001b[0;32m~/anaconda3/lib/python3.6/site-packages/ipykernel/kernelbase.py\u001b[0m in \u001b[0;36m_input_request\u001b[0;34m(self, prompt, ident, parent, password)\u001b[0m\n\u001b[1;32m    732\u001b[0m             \u001b[0;32mexcept\u001b[0m \u001b[0mKeyboardInterrupt\u001b[0m\u001b[0;34m:\u001b[0m\u001b[0;34m\u001b[0m\u001b[0m\n\u001b[1;32m    733\u001b[0m                 \u001b[0;31m# re-raise KeyboardInterrupt, to truncate traceback\u001b[0m\u001b[0;34m\u001b[0m\u001b[0;34m\u001b[0m\u001b[0m\n\u001b[0;32m--> 734\u001b[0;31m                 \u001b[0;32mraise\u001b[0m \u001b[0mKeyboardInterrupt\u001b[0m\u001b[0;34m\u001b[0m\u001b[0m\n\u001b[0m\u001b[1;32m    735\u001b[0m             \u001b[0;32melse\u001b[0m\u001b[0;34m:\u001b[0m\u001b[0;34m\u001b[0m\u001b[0m\n\u001b[1;32m    736\u001b[0m                 \u001b[0;32mbreak\u001b[0m\u001b[0;34m\u001b[0m\u001b[0m\n",
      "\u001b[0;31mKeyboardInterrupt\u001b[0m: "
     ]
    }
   ],
   "source": [
    "while again == 'y':\n",
    "   \n",
    "    print('\\n1.) Terminal \\n2.) GUI \\n')\n",
    "    terminalGUI = input('Choice:  ')\n",
    "\n",
    "    if (int(terminalGUI) == 1 ):\n",
    "    \n",
    "        # movie recommender sys\n",
    "        def sample_recommendation(model, data, user_ids):\n",
    "    \n",
    "            user1 = int(u1)   \n",
    "            user2 = int(u2)\n",
    "            user3 = int(u3)\n",
    "    \n",
    "            #number of users and movies in training data\n",
    "            n_users, n_items = data['train'].shape\n",
    "    \n",
    "            #generate recommendations for each user we input\n",
    "            for user_id in user_ids:\n",
    "        \n",
    "                #movies they already like\n",
    "                fav_movies = data['item_labels'][data['train'].tocsr()[user_id].indices]\n",
    "        \n",
    "                #movies our model predicts they will like\n",
    "                scores = model.predict(user_id,np.arange(n_items))\n",
    "                #rank them in order of most liked to least\n",
    "                top_items = data['item_labels'][np.argsort(-scores)]\n",
    "            \n",
    "                #print out the results\n",
    "                userRec(user_id,fav_movies,top_items)\n",
    "                #guiRec(user_id,fav_movies,top_items)\n",
    "    \n",
    "        def Recommend_user():\n",
    "            #print(type(u1))\n",
    "            user1 = int(u1)   \n",
    "            user2 = int(u2)\n",
    "            user3 = int(u3)\n",
    "            #print(type(user))\n",
    "            sample_recommendation(model, data, [user1,user2,user3])\n",
    "            \n",
    "        \n",
    "        def userRec(user_id,fav_movies,top_items):\n",
    "            #print out the results\n",
    "            print('------------------------------------------')\n",
    "            print('User %s' % user_id)\n",
    "            print('Favorite Movies:')\n",
    "        \n",
    "            for x in fav_movies[:5]:\n",
    "                print('%s' % x)\n",
    "            \n",
    "            print('\\nRecommended Movies:')\n",
    "        \n",
    "            for y in top_items[:5]:\n",
    "                print('%s' % y)\n",
    "    \n",
    "        #SELECTION SCREEN\n",
    "        print('Welcome to the CS4319 Movie Recommender System\\nPlease select one of the following:')\n",
    "        print('1.) Recommend movies for 3 users')\n",
    "        print('2.) Search for similar movies')\n",
    "        print('3.) Recommend most popular movies')\n",
    "        print('4.) Turicreate Compare\\n')\n",
    "        selection = input('Selection:  ')\n",
    "    \n",
    "        ## Recommend movies to 3 users using hybrid factorization collab algorithm\n",
    "        if (int(selection) == 1):\n",
    "            #input for users\n",
    "            print('Select movies for users:')\n",
    "            u1 = input('user 1: ')\n",
    "            u2 = input('user 2: ')\n",
    "            u3 = input('user 3: ')\n",
    "            Recommend_user()\n",
    "            #restart program\n",
    "            again = input('Would you like to restart the program? (y/n) ')\n",
    "        \n",
    "        ## View Similar movies to selected movie using Item similarity algorithm\n",
    "        if (int(selection) == 2):\n",
    "        \n",
    "            #used to cycle through films\n",
    "            loop=1\n",
    "            i=0\n",
    "            #print('loop =' + str(loop))\n",
    "        \n",
    "            while (loop==1):\n",
    "                #show first 5 movies in movielens list\n",
    "                def showMovies(i):\n",
    "                    #print(i)\n",
    "                    for i in range(i+5):\n",
    "                        print('(' + str(i+1) +')' + data[('item_labels')][i])\n",
    "                    print('(0) View More')\n",
    "        \n",
    "                def item_similarity(loop):\n",
    "                    print('Great! You might also like these movies: \\n ')\n",
    "                    #item similarity algorithm\n",
    "                    print(data[('item_labels')][cosine_similarity(model.item_embeddings)[like-1].argsort()][-5:][::-1])\n",
    "                    #restart program\n",
    "                    again = input('Would you like to restart the program? (y/n) ')\n",
    "                    \n",
    "                showMovies(i)\n",
    "        \n",
    "                like = input('Selection:  ')\n",
    "                like = int(like)\n",
    "\n",
    "                #show more movies\n",
    "                if (like == 0):\n",
    "                    #print(i)\n",
    "                    i = i + 5\n",
    "                    #print(i)\n",
    "                    showMovies(i)\n",
    "                \n",
    "                else:\n",
    "                    item_similarity(loop)\n",
    "                    loop-=1\n",
    "                \n",
    "                \n",
    "        ## View most popular movies to recommend to a user, using popularity algorithm\n",
    "        if (int(selection) == 3):\n",
    "            popRec = input('Recommend top 5 popular movies to user:  ')\n",
    "            turiWork(popRec)\n",
    "            #restart program\n",
    "            again = input('Would you like to restart the program? (y/n) ')\n",
    "    \n",
    "        if (int(selection) == 4):\n",
    "            print('TURICREATE COMPARE')\n",
    "            print('Compare recommender algorithms for user 1 and 2')\n",
    "            \n",
    "            print('Printing item Similarity algorithm:\\n')\n",
    "            time.sleep(4)\n",
    "            itemSim()\n",
    "            time.sleep(4)\n",
    "        \n",
    "            print('\\nPrinting Item popularity algorithm:\\n')\n",
    "            time.sleep(4)\n",
    "            itemPop()\n",
    "            time.sleep(4)\n",
    "        \n",
    "            print('\\nPrinting Rank Factorization algorithm:\\n')\n",
    "            time.sleep(4)\n",
    "            rankFactor()\n",
    "            time.sleep(4)\n",
    "        \n",
    "            print('\\nPrint Model Comparison:\\n')\n",
    "            time.sleep(4)\n",
    "            modelCompare()\n",
    "            time.sleep(4)\n",
    "        \n",
    "            again = input('Would you like to restart the program? (y/n) ')\n",
    "        "
   ]
  },
  {
   "cell_type": "code",
   "execution_count": null,
   "metadata": {},
   "outputs": [],
   "source": []
  }
 ],
 "metadata": {
  "kernelspec": {
   "display_name": "Python 3",
   "language": "python",
   "name": "python3"
  },
  "language_info": {
   "codemirror_mode": {
    "name": "ipython",
    "version": 3
   },
   "file_extension": ".py",
   "mimetype": "text/x-python",
   "name": "python",
   "nbconvert_exporter": "python",
   "pygments_lexer": "ipython3",
   "version": "3.6.4"
  }
 },
 "nbformat": 4,
 "nbformat_minor": 2
}
