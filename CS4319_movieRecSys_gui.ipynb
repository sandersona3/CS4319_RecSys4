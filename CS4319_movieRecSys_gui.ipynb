{
 "cells": [
  {
   "cell_type": "code",
   "execution_count": 1,
   "metadata": {
    "scrolled": true
   },
   "outputs": [
    {
     "name": "stdout",
     "output_type": "stream",
     "text": [
      "2018-04-29 23:17:42\n"
     ]
    }
   ],
   "source": [
    "import numpy as np\n",
    "from tkinter import *\n",
    "from lightfm.datasets import fetch_movielens\n",
    "from lightfm import LightFM\n",
    "import datetime\n",
    "import time\n",
    "\n",
    "ts = time.time()\n",
    "st = datetime.datetime.fromtimestamp(ts).strftime('%Y-%m-%d %H:%M:%S')\n",
    "print(st)"
   ]
  },
  {
   "cell_type": "code",
   "execution_count": 2,
   "metadata": {},
   "outputs": [],
   "source": [
    "# gui create\n",
    "# root is main page\n",
    "root = Tk()\n",
    "root.title('CS4319 Movie Recommender System')\n",
    "root.geometry('920x640+0+0')\n",
    "\n",
    "heading = Label(root, text=\"MOVIE RECOMMENDER SYSTEM\",font=(\"arial\",12,\"bold\"), fg=\"steelblue\").pack()\n",
    "\n",
    "label1 = Label(root, text=\"USER: \", font=(\"arial\",10,\"bold\"),fg=\"black\").place(x=10,y=100)\n",
    "label2 = Label(root, text=\"USER: \", font=(\"arial\",10,\"bold\"),fg=\"black\").place(x=10,y=125)\n",
    "label3 = Label(root, text=\"USER: \", font=(\"arial\",10,\"bold\"),fg=\"black\").place(x=10,y=150)\n",
    "\n",
    "u1 = IntVar()\n",
    "u2 = IntVar()\n",
    "u3 = IntVar()\n",
    "#u1 = ''\n",
    "entry_box1 = Entry(root, textvariable=u1, width=8,bg=\"lightblue\",exportselection=0).place(x=50, y=100)\n",
    "entry_box2 = Entry(root, textvariable=u2, width=8,bg=\"lightblue\",exportselection=0).place(x=50, y=125)\n",
    "entry_box2 = Entry(root, textvariable=u3, width=8,bg=\"lightblue\",exportselection=0).place(x=50, y=150)"
   ]
  },
  {
   "cell_type": "code",
   "execution_count": 3,
   "metadata": {},
   "outputs": [
    {
     "data": {
      "text/plain": [
       "<lightfm.lightfm.LightFM at 0x7fd480258e48>"
      ]
     },
     "execution_count": 3,
     "metadata": {},
     "output_type": "execute_result"
    }
   ],
   "source": [
    "#fetch data from Lightfm, use movies with user rating of 4.0 or greater\n",
    "data = fetch_movielens(min_rating=4.0)\n",
    "\n",
    "#create model\n",
    "model = LightFM(loss='warp')\n",
    "\n",
    "#train model\n",
    "model.fit(data['train'], epochs=32, num_threads=4)"
   ]
  },
  {
   "cell_type": "code",
   "execution_count": 4,
   "metadata": {},
   "outputs": [],
   "source": [
    "# outputs recommendation to the terminal\n",
    "def userRec(user_id,fav_movies,top_items):\n",
    "    #print out the results\n",
    "    print('------------------------------------------')\n",
    "    print('User %s' % user_id)\n",
    "    print('Favorite Movies:')\n",
    "        \n",
    "    for x in fav_movies[:5]:\n",
    "        print('%s' % x)\n",
    "            \n",
    "    print('\\nRecommended Movies:')\n",
    "        \n",
    "    for y in top_items[:5]:\n",
    "        print('%s' % y)\n",
    "\n",
    "# outputs recommendation to the GUI\n",
    "def guiRec(user_id,fav_movies,top_items):\n",
    "    #print out the results\n",
    "    \n",
    "    text = Text(root)\n",
    "    \n",
    "    text.insert(INSERT, 'User %s\\n' % user_id)\n",
    "    text.insert(INSERT, 'Favorite Movies:\\n')\n",
    "    \n",
    "    for x in fav_movies[:5]:\n",
    "        text.insert(INSERT, '%s\\n' % x)\n",
    "        text.pack()\n",
    "        \n",
    "    text.insert(INSERT, '\\nRecommended Movies:\\n')\n",
    "        \n",
    "    for y in top_items[:5]:\n",
    "        text.insert(INSERT,'%s\\n' % y)\n",
    "        text.pack()\n"
   ]
  },
  {
   "cell_type": "code",
   "execution_count": 5,
   "metadata": {},
   "outputs": [],
   "source": [
    "# movie recommender sys\n",
    "def sample_recommendation(model, data, user_ids):\n",
    "    \n",
    "    #number of users and movies in training data\n",
    "    n_users, n_items = data['train'].shape\n",
    "    \n",
    "    #generate recommendations for each user we input\n",
    "    for user_id in user_ids:\n",
    "        \n",
    "        #movies they already like\n",
    "        fav_movies = data['item_labels'][data['train'].tocsr()[user_id].indices]\n",
    "        \n",
    "        #movies our model predicts they will like\n",
    "        scores = model.predict(user_id,np.arange(n_items))\n",
    "        #rank them in order of most liked to least\n",
    "        top_items = data['item_labels'][np.argsort(-scores)]\n",
    "        \n",
    "        #print out the results\n",
    "        userRec(user_id,fav_movies,top_items)\n",
    "        guiRec(user_id,fav_movies,top_items)"
   ]
  },
  {
   "cell_type": "code",
   "execution_count": null,
   "metadata": {},
   "outputs": [
    {
     "name": "stdout",
     "output_type": "stream",
     "text": [
      "------------------------------------------\n",
      "User 4\n",
      "Favorite Movies:\n",
      "Rumble in the Bronx (1995)\n",
      "Batman Forever (1995)\n",
      "To Wong Foo, Thanks for Everything! Julie Newmar (1995)\n",
      "Clerks (1994)\n",
      "Star Wars (1977)\n",
      "\n",
      "Recommended Movies:\n",
      "Raiders of the Lost Ark (1981)\n",
      "Empire Strikes Back, The (1980)\n",
      "Terminator, The (1984)\n",
      "Star Wars (1977)\n",
      "Monty Python and the Holy Grail (1974)\n",
      "------------------------------------------\n",
      "User 8\n",
      "Favorite Movies:\n",
      "Twelve Monkeys (1995)\n",
      "Star Wars (1977)\n",
      "Evil Dead II (1987)\n",
      "Kolya (1996)\n",
      "Leaving Las Vegas (1995)\n",
      "\n",
      "Recommended Movies:\n",
      "Star Wars (1977)\n",
      "Godfather, The (1972)\n",
      "Raiders of the Lost Ark (1981)\n",
      "Return of the Jedi (1983)\n",
      "Fugitive, The (1993)\n",
      "------------------------------------------\n",
      "User 32\n",
      "Favorite Movies:\n",
      "Event Horizon (1997)\n",
      "Starship Troopers (1997)\n",
      "Scream (1996)\n",
      "Air Force One (1997)\n",
      "Dante's Peak (1997)\n",
      "\n",
      "Recommended Movies:\n",
      "Air Force One (1997)\n",
      "Conspiracy Theory (1997)\n",
      "Scream (1996)\n",
      "Dante's Peak (1997)\n",
      "Devil's Advocate, The (1997)\n"
     ]
    }
   ],
   "source": [
    "def Recommend_user():\n",
    "    #print(type(u1))\n",
    "    user1 = int(u1.get())\n",
    "    user2 = int(u2.get())\n",
    "    user3 = int(u3.get())\n",
    "    #print(type(user))\n",
    "    sample_recommendation(model, data, [user1,user2,user3])\n",
    "    \n",
    "word_type = Button(root, text=\"Recommend Movies\",\n",
    " width=16,height=2,bg=\"gray\",command=Recommend_user).place(x=8,y=175)\n",
    "\n",
    "root.mainloop()"
   ]
  },
  {
   "cell_type": "code",
   "execution_count": null,
   "metadata": {},
   "outputs": [],
   "source": [
    "#terminal input\n",
    "sample_recommendation(model, data, [128,64,32])"
   ]
  },
  {
   "cell_type": "code",
   "execution_count": null,
   "metadata": {},
   "outputs": [],
   "source": [
    "userRec(user_id,fav_movies,top_items)"
   ]
  },
  {
   "cell_type": "code",
   "execution_count": null,
   "metadata": {},
   "outputs": [],
   "source": [
    "# movie recommender sys\n",
    "def sample_recommendation(model, data, user_ids):\n",
    "    \n",
    "    #number of users and movies in training data\n",
    "    n_users, n_items = data['train'].shape\n",
    "    \n",
    "    #generate recommendations for each user we input\n",
    "    for user_id in user_ids:\n",
    "        \n",
    "        #movies they already like\n",
    "        fav_movies = data['item_labels'][data['train'].tocsr()[user_id].indices]\n",
    "        \n",
    "        #movies our model predicts they will like\n",
    "        scores = model.predict(user_id,np.arange(n_items))\n",
    "        #rank them in order of most liked to least\n",
    "        top_items = data['item_labels'][np.argsort(-scores)]\n",
    "        \n",
    "    #print out the results\n",
    "    print('------------------------------------------')\n",
    "    print('User %s' % user_id)\n",
    "    print('Favorite Movies:')\n",
    "        \n",
    "    for x in fav_movies[:5]:\n",
    "        print('%s' % x)\n",
    "            \n",
    "    print('\\nRecommended Movies:')\n",
    "        \n",
    "    for y in top_items[:5]:\n",
    "        print('%s' % y)\n",
    "        \n",
    "sample_recommendation(model, data, [128,64,32])\n",
    "        "
   ]
  },
  {
   "cell_type": "code",
   "execution_count": null,
   "metadata": {},
   "outputs": [],
   "source": []
  }
 ],
 "metadata": {
  "kernelspec": {
   "display_name": "Python 3",
   "language": "python",
   "name": "python3"
  },
  "language_info": {
   "codemirror_mode": {
    "name": "ipython",
    "version": 3
   },
   "file_extension": ".py",
   "mimetype": "text/x-python",
   "name": "python",
   "nbconvert_exporter": "python",
   "pygments_lexer": "ipython3",
   "version": "3.6.4"
  }
 },
 "nbformat": 4,
 "nbformat_minor": 2
}
