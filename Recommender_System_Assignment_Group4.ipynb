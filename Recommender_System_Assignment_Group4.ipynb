{
 "cells": [
  {
   "cell_type": "markdown",
   "metadata": {},
   "source": [
    "# Building Movie Recommender System"
   ]
  },
  {
   "cell_type": "markdown",
   "metadata": {},
   "source": [
    "### Steps of the Project\n",
    " - Import Required Libraries\n",
    " - Import data\n",
    " - Visualize the data (__Optional__)\n",
    " - Create a Recommender Model\n",
    "     - Prepare dataset (<i>K-fold cross validation for train-test-validation dataset splitting</i>)\n",
    " - Apply Recommender Algorithms\n",
    "     - Popularity Recommender Model\n",
    "     - Collaborative Filtering Model\n",
    "     - Item Similarity Filtering Model\n",
    " - Get Top-K Recommendations for three models\n",
    " - Evaluate your models : RMSE (Root Mean Squared Error)\n",
    " - Get Confusion Matrix Results : Precision/Recall metrics\n",
    " - Report the results\n",
    "     - Which model is the best fit for this dataset?\n",
    "     - What are the top-k recommendations for each model?\n",
    "     - Evaluation Results : Which model has the best performance for recommending?"
   ]
  },
  {
   "cell_type": "markdown",
   "metadata": {},
   "source": [
    "### Import Required Libraries\n",
    "\n",
    "---\n",
    "\n",
    "Since you will use Python programming language to implement this project, Python ecosystem has many recommender system libraries that you can use. [Turi Create](https://github.com/apple/turicreate) is one of them and highly recommended library that you can easily use for this project."
   ]
  },
  {
   "cell_type": "code",
   "execution_count": 4,
   "metadata": {},
   "outputs": [],
   "source": [
    "import numpy as np\n",
    "from tkinter import *\n",
    "from lightfm.datasets import fetch_movielens\n",
    "from lightfm import LightFM\n",
    "from sklearn.metrics.pairwise import cosine_similarity\n",
    "import pandas as pd\n",
    "import importlib\n",
    "import time\n",
    "\n",
    "#-----------------------------------------------------------------------------------------------------------------\n",
    "'''Used to make a time stamp print out'''\n",
    "#from recSys4t import *\n",
    "#print(clock)\n",
    "\n",
    "'''used to import turicreate file'''\n",
    "import turicreate as tc\n",
    "from recSys4tc import turiWork\n",
    "from recSys4tc import itemSim\n",
    "from tcCompare import *\n",
    "#turiWork()\n",
    "#-----------------------------------------------------------------------------------------------------------------"
   ]
  },
  {
   "cell_type": "markdown",
   "metadata": {},
   "source": [
    "### Import Dataset\n",
    "\n",
    "---\n",
    "\n",
    "Movie Review [dataset](https://grouplens.org/datasets/movielens/100k/) will be used for this project. After you download the dataset, you can import to your project by using [Pandas](http://pandas.pydata.org/) Python Data Analysis library. For more info check [here](https://pandas.pydata.org/pandas-docs/stable/io.html)."
   ]
  },
  {
   "cell_type": "code",
   "execution_count": 5,
   "metadata": {},
   "outputs": [],
   "source": [
    "#showing imported module files recSys4tc and tcCompare\n",
    "\n",
    "'''def turiWork(popRec):\n",
    "\n",
    "    #import data\n",
    "    #Reading users file:\n",
    "    u_cols = ['user_id', 'age', 'sex', 'occupation', 'zip_code']\n",
    "    users = pd.read_csv('u.user', sep='|', names=u_cols, encoding='latin-1')\n",
    "\n",
    "    #Reading ratings file:\n",
    "    r_cols = ['user_id', 'movie_id', 'rating', 'unix_timestamp']\n",
    "    ratings = pd.read_csv('u.data', sep='\\t', names=r_cols, encoding='latin-1')\n",
    "\n",
    "    #Reading items file:\n",
    "    i_cols = ['movie_id', 'movie_title' ,'release date','video release date', 'IMDb URL', 'unknown', 'Action', 'Adventure', 'Animation', 'Children\\'s', 'Comedy', 'Crime', 'Documentary', 'Drama', 'Fantasy', 'Film-Noir', 'Horror', 'Musical', 'Mystery', 'Romance', 'Sci-Fi', 'Thriller', 'War', 'Western']\n",
    "    items = pd.read_csv('u.item', sep='|', names=i_cols, encoding='latin-1')\n",
    "\n",
    "    #title columns\n",
    "    r_cols = ['user_id', 'movie_id', 'rating', 'unix_timestamp']\n",
    "    ratings_base = pd.read_csv('ua.base', sep='\\t', names=r_cols, encoding='latin-1')\n",
    "    ratings_test = pd.read_csv('ua.test', sep='\\t', names=r_cols, encoding='latin-1')\n",
    "    #ratings_base.shape, ratings_test.shape'''\n",
    "\n",
    "#fetch data from Lightfm, use movies with user rating of 4.0 or greater\n",
    "data = fetch_movielens(min_rating=4.0)\n",
    "\n",
    "#create model\n",
    "model = LightFM(loss='warp')\n",
    "\n",
    "#train model\n",
    "model.fit(data['train'], epochs=32, num_threads=4)\n",
    "\n",
    "#Create a return option to cycle through all the options\n",
    "again = 'y'"
   ]
  },
  {
   "cell_type": "markdown",
   "metadata": {},
   "source": [
    "### Visualize Dataset\n",
    "\n",
    "---\n",
    "\n",
    "Sometimes to understand the big picture of the dataset, you may want to check some visualizations to decide which algorithm would fit to solve your problem."
   ]
  },
  {
   "cell_type": "code",
   "execution_count": 6,
   "metadata": {},
   "outputs": [
    {
     "data": {
      "text/plain": [
       "\"        #SELECTION SCREEN\\n        print('Welcome to the CS4319 Movie Recommender System\\nPlease select one of the following:')\\n        print('1.) Recommend movies for 3 users')\\n        print('2.) Search for similar movies')\\n        print('3.) Recommend most popular movies')\\n        print('4.) Turicreate Compare')\\n   -->  print('5.) Visualize Model\\n')\\n        selection = input('Selection:  ')\""
      ]
     },
     "execution_count": 6,
     "metadata": {},
     "output_type": "execute_result"
    }
   ],
   "source": [
    "#added a 5th option to visualize data\n",
    "\n",
    "'''        #SELECTION SCREEN\n",
    "        print('Welcome to the CS4319 Movie Recommender System\\nPlease select one of the following:')\n",
    "        print('1.) Recommend movies for 3 users')\n",
    "        print('2.) Search for similar movies')\n",
    "        print('3.) Recommend most popular movies')\n",
    "        print('4.) Turicreate Compare')\n",
    "   -->  print('5.) Visualize Model\\n')\n",
    "        selection = input('Selection:  ')'''\n"
   ]
  },
  {
   "cell_type": "markdown",
   "metadata": {},
   "source": [
    "### Create a Recommender Model\n",
    "\n",
    "---\n",
    "A recommender system allows you to build personalized recommendation systems to users. There are many methods to do this. In this project, you will need to use three of these methods which are __popularity-based recommender model__ , __factorization recommenders model__ , and __item similarity model__ . \n",
    "\n",
    "[Turi](https://github.com/apple/turicreate) has easy-to-implement recommender models. You can use Turi's recommender models for your dataset. For more information check [here](https://apple.github.io/turicreate/docs/api/turicreate.toolkits.recommender.html#creating-a-recommender)\n",
    "<br>\n",
    "\n",
    "The steps of building a recommender system are;\n",
    " - Do not forget to convert your dataset to [SFrame](https://apple.github.io/turicreate/docs/api/generated/turicreate.SFrame.html#turicreate.SFrame) type. Also split the dataset for training, testing, and validation processes. [Write code here](#Convert-dataset-to-SFrame)\n",
    " - Create and Apply each model to your dataset. (In this assignment, you will use three different methods as listed above) [Write code here](#Create-and-Apply-Recommender-Algorithms).\n",
    " - Find top k recommendations. (Display top k=5 recommendations and check the scores of them.)[Write code here](#Get-Top-K-Recommendations-for-Three-Models)\n",
    " - Evaluate your model. (Check your model with confusion matrix metrics and find how accurate your model is to recommend movies to users.)[Write code here](#Evaluate-your-model)"
   ]
  },
  {
   "cell_type": "markdown",
   "metadata": {},
   "source": [
    "### Convert dataset to SFrame"
   ]
  },
  {
   "cell_type": "code",
   "execution_count": 7,
   "metadata": {},
   "outputs": [
    {
     "data": {
      "text/plain": [
       "\"Located in the tcCompare file:\\n    #Create rank factorization model\\n    rankFactor_model = tc.ranking_factorization_recommender.create(train_data, user_id='user_id', item_id='movie_id', target='rating')\\n    #k=5 specifies top 5 recommendations to be given\\n    rankFactor_recomm = rankFactor_model.recommend(users=[1,2],k=k)\\n    \\n    #Create popularity model\\n    popularity_model = tc.popularity_recommender.create(train_data, user_id='user_id', item_id='movie_id', target='rating')\\n    #k=5 specifies top 5 recommendations to be given\\n    popularity_recomm = popularity_model.recommend(users=[1,2],k=k)\\n    \\n    #create item similarity model\\n    item_sim_model = tc.item_similarity_recommender.create(train_data, user_id='user_id', item_id='movie_id', target='rating', similarity_type='cosine')\\n    item_sim_recomm = item_sim_model.recommend(users=[1,2],k=k)\\n    \\n\""
      ]
     },
     "execution_count": 7,
     "metadata": {},
     "output_type": "execute_result"
    }
   ],
   "source": [
    "'''Located in the tcCompare file:\n",
    "    #Create rank factorization model\n",
    "    rankFactor_model = tc.ranking_factorization_recommender.create(train_data, user_id='user_id', item_id='movie_id', target='rating')\n",
    "    #k=5 specifies top 5 recommendations to be given\n",
    "    rankFactor_recomm = rankFactor_model.recommend(users=[1,2],k=k)\n",
    "    \n",
    "    #Create popularity model\n",
    "    popularity_model = tc.popularity_recommender.create(train_data, user_id='user_id', item_id='movie_id', target='rating')\n",
    "    #k=5 specifies top 5 recommendations to be given\n",
    "    popularity_recomm = popularity_model.recommend(users=[1,2],k=k)\n",
    "    \n",
    "    #create item similarity model\n",
    "    item_sim_model = tc.item_similarity_recommender.create(train_data, user_id='user_id', item_id='movie_id', target='rating', similarity_type='cosine')\n",
    "    item_sim_recomm = item_sim_model.recommend(users=[1,2],k=k)\n",
    "    \n",
    "'''"
   ]
  },
  {
   "cell_type": "markdown",
   "metadata": {},
   "source": [
    "### Create and Apply Recommender Algorithms\n",
    "\n",
    "---\n",
    "Implement three recommender algorithms;\n",
    " - __Popularity Recommender Model__,\n",
    " - __Factorization Recommenders Model__,\n",
    " - __Item Similarity Filtering Model__ .\n",
    " \n",
    " \n"
   ]
  },
  {
   "cell_type": "code",
   "execution_count": 8,
   "metadata": {},
   "outputs": [
    {
     "name": "stdout",
     "output_type": "stream",
     "text": [
      "\n",
      "1.) Terminal \n",
      "2.) GUI \n",
      "\n",
      "Choice:  1\n",
      "Welcome to the CS4319 Movie Recommender System\n",
      "Please select one of the following:\n",
      "1.) Recommend movies for 3 users\n",
      "2.) Search for similar movies\n",
      "3.) Recommend most popular movies\n",
      "4.) Turicreate Compare\n",
      "5.) Visualize Model\n",
      "\n",
      "Selection:  1\n",
      "Select movies for users:\n",
      "user 1: 1\n",
      "user 2: 2\n",
      "user 3: 4\n",
      "------------------------------------------\n",
      "User 1\n",
      "Favorite Movies:\n",
      "Toy Story (1995)\n",
      "Postino, Il (1994)\n",
      "Birdcage, The (1996)\n",
      "Fargo (1996)\n",
      "Truth About Cats & Dogs, The (1996)\n",
      "\n",
      "Recommended Movies:\n",
      "English Patient, The (1996)\n",
      "Titanic (1997)\n",
      "Air Force One (1997)\n",
      "Good Will Hunting (1997)\n",
      "L.A. Confidential (1997)\n",
      "------------------------------------------\n",
      "User 2\n",
      "Favorite Movies:\n",
      "Return of the Jedi (1983)\n",
      "Event Horizon (1997)\n",
      "Schindler's List (1993)\n",
      "Paradise Lost: The Child Murders at Robin Hood Hills (1996)\n",
      "Mother (1996)\n",
      "\n",
      "Recommended Movies:\n",
      "L.A. Confidential (1997)\n",
      "Contact (1997)\n",
      "English Patient, The (1996)\n",
      "Air Force One (1997)\n",
      "Titanic (1997)\n",
      "------------------------------------------\n",
      "User 4\n",
      "Favorite Movies:\n",
      "Rumble in the Bronx (1995)\n",
      "Batman Forever (1995)\n",
      "To Wong Foo, Thanks for Everything! Julie Newmar (1995)\n",
      "Clerks (1994)\n",
      "Star Wars (1977)\n",
      "\n",
      "Recommended Movies:\n",
      "Terminator, The (1984)\n",
      "Raiders of the Lost Ark (1981)\n",
      "Blade Runner (1982)\n",
      "Star Trek: The Wrath of Khan (1982)\n",
      "Empire Strikes Back, The (1980)\n",
      "Would you like to restart the program? (y/n) y\n",
      "\n",
      "1.) Terminal \n",
      "2.) GUI \n",
      "\n",
      "Choice:  1\n",
      "Welcome to the CS4319 Movie Recommender System\n",
      "Please select one of the following:\n",
      "1.) Recommend movies for 3 users\n",
      "2.) Search for similar movies\n",
      "3.) Recommend most popular movies\n",
      "4.) Turicreate Compare\n",
      "5.) Visualize Model\n",
      "\n",
      "Selection:  2\n",
      "(1)Toy Story (1995)\n",
      "(2)GoldenEye (1995)\n",
      "(3)Four Rooms (1995)\n",
      "(4)Get Shorty (1995)\n",
      "(5)Copycat (1995)\n",
      "(0) View More\n",
      "Selection:  0\n",
      "(1)Toy Story (1995)\n",
      "(2)GoldenEye (1995)\n",
      "(3)Four Rooms (1995)\n",
      "(4)Get Shorty (1995)\n",
      "(5)Copycat (1995)\n",
      "(6)Shanghai Triad (Yao a yao yao dao waipo qiao) (1995)\n",
      "(7)Twelve Monkeys (1995)\n",
      "(8)Babe (1995)\n",
      "(9)Dead Man Walking (1995)\n",
      "(10)Richard III (1995)\n",
      "(0) View More\n",
      "(1)Toy Story (1995)\n",
      "(2)GoldenEye (1995)\n",
      "(3)Four Rooms (1995)\n",
      "(4)Get Shorty (1995)\n",
      "(5)Copycat (1995)\n",
      "(6)Shanghai Triad (Yao a yao yao dao waipo qiao) (1995)\n",
      "(7)Twelve Monkeys (1995)\n",
      "(8)Babe (1995)\n",
      "(9)Dead Man Walking (1995)\n",
      "(10)Richard III (1995)\n",
      "(0) View More\n",
      "Selection:  8\n",
      "Great! You might also like these movies: \n",
      " \n",
      "['Babe (1995)' 'Hamlet (1996)' 'Much Ado About Nothing (1993)'\n",
      " 'Amadeus (1984)' 'When Harry Met Sally... (1989)']\n",
      "Would you like to restart the program? (y/n) y\n",
      "\n",
      "1.) Terminal \n",
      "2.) GUI \n",
      "\n",
      "Choice:  1\n",
      "Welcome to the CS4319 Movie Recommender System\n",
      "Please select one of the following:\n",
      "1.) Recommend movies for 3 users\n",
      "2.) Search for similar movies\n",
      "3.) Recommend most popular movies\n",
      "4.) Turicreate Compare\n",
      "5.) Visualize Model\n",
      "\n",
      "Selection:  3\n",
      "Recommend top 5 popular movies to user:  16\n"
     ]
    },
    {
     "data": {
      "text/html": [
       "<pre>Recsys training: model = popularity</pre>"
      ],
      "text/plain": [
       "Recsys training: model = popularity"
      ]
     },
     "metadata": {},
     "output_type": "display_data"
    },
    {
     "data": {
      "text/html": [
       "<pre>Warning: Ignoring columns unix_timestamp;</pre>"
      ],
      "text/plain": [
       "Warning: Ignoring columns unix_timestamp;"
      ]
     },
     "metadata": {},
     "output_type": "display_data"
    },
    {
     "data": {
      "text/html": [
       "<pre>    To use these columns in scoring predictions, use a model that allows the use of additional features.</pre>"
      ],
      "text/plain": [
       "    To use these columns in scoring predictions, use a model that allows the use of additional features."
      ]
     },
     "metadata": {},
     "output_type": "display_data"
    },
    {
     "data": {
      "text/html": [
       "<pre>Preparing data set.</pre>"
      ],
      "text/plain": [
       "Preparing data set."
      ]
     },
     "metadata": {},
     "output_type": "display_data"
    },
    {
     "data": {
      "text/html": [
       "<pre>    Data has 90570 observations with 943 users and 1680 items.</pre>"
      ],
      "text/plain": [
       "    Data has 90570 observations with 943 users and 1680 items."
      ]
     },
     "metadata": {},
     "output_type": "display_data"
    },
    {
     "data": {
      "text/html": [
       "<pre>    Data prepared in: 0.074433s</pre>"
      ],
      "text/plain": [
       "    Data prepared in: 0.074433s"
      ]
     },
     "metadata": {},
     "output_type": "display_data"
    },
    {
     "data": {
      "text/html": [
       "<pre>90570 observations to process; with 1680 unique items.</pre>"
      ],
      "text/plain": [
       "90570 observations to process; with 1680 unique items."
      ]
     },
     "metadata": {},
     "output_type": "display_data"
    },
    {
     "name": "stdout",
     "output_type": "stream",
     "text": [
      "+---------+----------+-------+------+\n",
      "| user_id | movie_id | score | rank |\n",
      "+---------+----------+-------+------+\n",
      "|    16   |   1599   |  5.0  |  1   |\n",
      "|    16   |   1201   |  5.0  |  2   |\n",
      "|    16   |   1189   |  5.0  |  3   |\n",
      "|    16   |   1122   |  5.0  |  4   |\n",
      "|    16   |   814    |  5.0  |  5   |\n",
      "+---------+----------+-------+------+\n",
      "[5 rows x 4 columns]\n",
      "\n",
      "\n",
      "\n",
      "Great! User 16 may enjoy watching: \n",
      "1598    Someone Else's America (1995)\n",
      "Name: movie_title, dtype: object\n",
      "1200    Marlene Dietrich: Shadow and Light (1996) \n",
      "Name: movie_title, dtype: object\n",
      "1188    Prefontaine (1997)\n",
      "Name: movie_title, dtype: object\n",
      "1121    They Made Me a Criminal (1939)\n",
      "Name: movie_title, dtype: object\n",
      "813    Great Day in Harlem, A (1994)\n",
      "Name: movie_title, dtype: object\n",
      "Would you like to restart the program? (y/n) y\n",
      "\n",
      "1.) Terminal \n",
      "2.) GUI \n",
      "\n",
      "Choice:  1\n",
      "Welcome to the CS4319 Movie Recommender System\n",
      "Please select one of the following:\n",
      "1.) Recommend movies for 3 users\n",
      "2.) Search for similar movies\n",
      "3.) Recommend most popular movies\n",
      "4.) Turicreate Compare\n",
      "5.) Visualize Model\n",
      "\n",
      "Selection:  4\n",
      "TURICREATE COMPARE\n",
      "Compare recommender algorithms for user 1 and 2\n",
      "PRINTING ITEM SIMILARITY ALGORITHM:\n",
      "\n"
     ]
    },
    {
     "data": {
      "text/html": [
       "<pre>Recsys training: model = item_similarity</pre>"
      ],
      "text/plain": [
       "Recsys training: model = item_similarity"
      ]
     },
     "metadata": {},
     "output_type": "display_data"
    },
    {
     "data": {
      "text/html": [
       "<pre>Warning: Ignoring columns unix_timestamp;</pre>"
      ],
      "text/plain": [
       "Warning: Ignoring columns unix_timestamp;"
      ]
     },
     "metadata": {},
     "output_type": "display_data"
    },
    {
     "data": {
      "text/html": [
       "<pre>    To use these columns in scoring predictions, use a model that allows the use of additional features.</pre>"
      ],
      "text/plain": [
       "    To use these columns in scoring predictions, use a model that allows the use of additional features."
      ]
     },
     "metadata": {},
     "output_type": "display_data"
    },
    {
     "data": {
      "text/html": [
       "<pre>Preparing data set.</pre>"
      ],
      "text/plain": [
       "Preparing data set."
      ]
     },
     "metadata": {},
     "output_type": "display_data"
    },
    {
     "data": {
      "text/html": [
       "<pre>    Data has 90570 observations with 943 users and 1680 items.</pre>"
      ],
      "text/plain": [
       "    Data has 90570 observations with 943 users and 1680 items."
      ]
     },
     "metadata": {},
     "output_type": "display_data"
    },
    {
     "data": {
      "text/html": [
       "<pre>    Data prepared in: 0.083705s</pre>"
      ],
      "text/plain": [
       "    Data prepared in: 0.083705s"
      ]
     },
     "metadata": {},
     "output_type": "display_data"
    },
    {
     "data": {
      "text/html": [
       "<pre>Training model from provided data.</pre>"
      ],
      "text/plain": [
       "Training model from provided data."
      ]
     },
     "metadata": {},
     "output_type": "display_data"
    },
    {
     "data": {
      "text/html": [
       "<pre>Gathering per-item and per-user statistics.</pre>"
      ],
      "text/plain": [
       "Gathering per-item and per-user statistics."
      ]
     },
     "metadata": {},
     "output_type": "display_data"
    },
    {
     "data": {
      "text/html": [
       "<pre>+--------------------------------+------------+</pre>"
      ],
      "text/plain": [
       "+--------------------------------+------------+"
      ]
     },
     "metadata": {},
     "output_type": "display_data"
    },
    {
     "data": {
      "text/html": [
       "<pre>| Elapsed Time (Item Statistics) | % Complete |</pre>"
      ],
      "text/plain": [
       "| Elapsed Time (Item Statistics) | % Complete |"
      ]
     },
     "metadata": {},
     "output_type": "display_data"
    },
    {
     "data": {
      "text/html": [
       "<pre>+--------------------------------+------------+</pre>"
      ],
      "text/plain": [
       "+--------------------------------+------------+"
      ]
     },
     "metadata": {},
     "output_type": "display_data"
    },
    {
     "data": {
      "text/html": [
       "<pre>| 16.055ms                       | 100        |</pre>"
      ],
      "text/plain": [
       "| 16.055ms                       | 100        |"
      ]
     },
     "metadata": {},
     "output_type": "display_data"
    },
    {
     "data": {
      "text/html": [
       "<pre>+--------------------------------+------------+</pre>"
      ],
      "text/plain": [
       "+--------------------------------+------------+"
      ]
     },
     "metadata": {},
     "output_type": "display_data"
    },
    {
     "data": {
      "text/html": [
       "<pre>Setting up lookup tables.</pre>"
      ],
      "text/plain": [
       "Setting up lookup tables."
      ]
     },
     "metadata": {},
     "output_type": "display_data"
    },
    {
     "data": {
      "text/html": [
       "<pre>Processing data in one pass using dense lookup tables.</pre>"
      ],
      "text/plain": [
       "Processing data in one pass using dense lookup tables."
      ]
     },
     "metadata": {},
     "output_type": "display_data"
    },
    {
     "data": {
      "text/html": [
       "<pre>+-------------------------------------+------------------+-----------------+</pre>"
      ],
      "text/plain": [
       "+-------------------------------------+------------------+-----------------+"
      ]
     },
     "metadata": {},
     "output_type": "display_data"
    },
    {
     "data": {
      "text/html": [
       "<pre>| Elapsed Time (Constructing Lookups) | Total % Complete | Items Processed |</pre>"
      ],
      "text/plain": [
       "| Elapsed Time (Constructing Lookups) | Total % Complete | Items Processed |"
      ]
     },
     "metadata": {},
     "output_type": "display_data"
    },
    {
     "data": {
      "text/html": [
       "<pre>+-------------------------------------+------------------+-----------------+</pre>"
      ],
      "text/plain": [
       "+-------------------------------------+------------------+-----------------+"
      ]
     },
     "metadata": {},
     "output_type": "display_data"
    },
    {
     "data": {
      "text/html": [
       "<pre>| 28.881ms                            | 0.25             | 6               |</pre>"
      ],
      "text/plain": [
       "| 28.881ms                            | 0.25             | 6               |"
      ]
     },
     "metadata": {},
     "output_type": "display_data"
    },
    {
     "data": {
      "text/html": [
       "<pre>| 339.343ms                           | 100              | 1680            |</pre>"
      ],
      "text/plain": [
       "| 339.343ms                           | 100              | 1680            |"
      ]
     },
     "metadata": {},
     "output_type": "display_data"
    },
    {
     "data": {
      "text/html": [
       "<pre>+-------------------------------------+------------------+-----------------+</pre>"
      ],
      "text/plain": [
       "+-------------------------------------+------------------+-----------------+"
      ]
     },
     "metadata": {},
     "output_type": "display_data"
    },
    {
     "data": {
      "text/html": [
       "<pre>Finalizing lookup tables.</pre>"
      ],
      "text/plain": [
       "Finalizing lookup tables."
      ]
     },
     "metadata": {},
     "output_type": "display_data"
    },
    {
     "data": {
      "text/html": [
       "<pre>Generating candidate set for working with new users.</pre>"
      ],
      "text/plain": [
       "Generating candidate set for working with new users."
      ]
     },
     "metadata": {},
     "output_type": "display_data"
    },
    {
     "data": {
      "text/html": [
       "<pre>Finished training in 1.35904s</pre>"
      ],
      "text/plain": [
       "Finished training in 1.35904s"
      ]
     },
     "metadata": {},
     "output_type": "display_data"
    },
    {
     "name": "stdout",
     "output_type": "stream",
     "text": [
      "+---------+----------+--------------------+------+\n",
      "| user_id | movie_id |       score        | rank |\n",
      "+---------+----------+--------------------+------+\n",
      "|    1    |   423    | 0.9834008066708805 |  1   |\n",
      "|    1    |   202    | 0.9495907992352056 |  2   |\n",
      "|    1    |   655    | 0.7962183331260244 |  3   |\n",
      "|    1    |   403    | 0.765623665037956  |  4   |\n",
      "|    1    |   568    | 0.7511795292828829 |  5   |\n",
      "|    2    |    50    | 1.1256258487701416 |  1   |\n",
      "|    2    |   181    | 1.0651773168490484 |  2   |\n",
      "|    2    |    7     | 0.9998190838557023 |  3   |\n",
      "|    2    |   121    |  0.94162796323116  |  4   |\n",
      "|    2    |    9     | 0.831989913032605  |  5   |\n",
      "+---------+----------+--------------------+------+\n",
      "[10 rows x 4 columns]\n",
      "\n",
      "\n",
      "\n",
      "Great! User 1 may enjoy watching: \n",
      "422    E.T. the Extra-Terrestrial (1982)\n",
      "Name: movie_title, dtype: object\n",
      "201    Groundhog Day (1993)\n",
      "Name: movie_title, dtype: object\n",
      "654    Stand by Me (1986)\n",
      "Name: movie_title, dtype: object\n",
      "402    Batman (1989)\n",
      "Name: movie_title, dtype: object\n",
      "567    Speed (1994)\n",
      "Name: movie_title, dtype: object\n",
      "\n",
      "\n",
      "Great! User 2 may enjoy watching: \n",
      "49    Star Wars (1977)\n",
      "Name: movie_title, dtype: object\n",
      "180    Return of the Jedi (1983)\n",
      "Name: movie_title, dtype: object\n",
      "6    Twelve Monkeys (1995)\n",
      "Name: movie_title, dtype: object\n",
      "120    Independence Day (ID4) (1996)\n",
      "Name: movie_title, dtype: object\n",
      "8    Dead Man Walking (1995)\n",
      "Name: movie_title, dtype: object\n",
      "\n",
      "PRINTING ITEM POPULARITY ALGORITHM:\n",
      "\n"
     ]
    },
    {
     "data": {
      "text/html": [
       "<pre>Recsys training: model = popularity</pre>"
      ],
      "text/plain": [
       "Recsys training: model = popularity"
      ]
     },
     "metadata": {},
     "output_type": "display_data"
    },
    {
     "data": {
      "text/html": [
       "<pre>Warning: Ignoring columns unix_timestamp;</pre>"
      ],
      "text/plain": [
       "Warning: Ignoring columns unix_timestamp;"
      ]
     },
     "metadata": {},
     "output_type": "display_data"
    },
    {
     "data": {
      "text/html": [
       "<pre>    To use these columns in scoring predictions, use a model that allows the use of additional features.</pre>"
      ],
      "text/plain": [
       "    To use these columns in scoring predictions, use a model that allows the use of additional features."
      ]
     },
     "metadata": {},
     "output_type": "display_data"
    },
    {
     "data": {
      "text/html": [
       "<pre>Preparing data set.</pre>"
      ],
      "text/plain": [
       "Preparing data set."
      ]
     },
     "metadata": {},
     "output_type": "display_data"
    },
    {
     "data": {
      "text/html": [
       "<pre>    Data has 90570 observations with 943 users and 1680 items.</pre>"
      ],
      "text/plain": [
       "    Data has 90570 observations with 943 users and 1680 items."
      ]
     },
     "metadata": {},
     "output_type": "display_data"
    },
    {
     "data": {
      "text/html": [
       "<pre>    Data prepared in: 0.106367s</pre>"
      ],
      "text/plain": [
       "    Data prepared in: 0.106367s"
      ]
     },
     "metadata": {},
     "output_type": "display_data"
    },
    {
     "data": {
      "text/html": [
       "<pre>90570 observations to process; with 1680 unique items.</pre>"
      ],
      "text/plain": [
       "90570 observations to process; with 1680 unique items."
      ]
     },
     "metadata": {},
     "output_type": "display_data"
    },
    {
     "name": "stdout",
     "output_type": "stream",
     "text": [
      "+---------+----------+-------+------+\n",
      "| user_id | movie_id | score | rank |\n",
      "+---------+----------+-------+------+\n",
      "|    1    |   1293   |  5.0  |  1   |\n",
      "|    1    |   1201   |  5.0  |  2   |\n",
      "|    1    |   1189   |  5.0  |  3   |\n",
      "|    1    |   1122   |  5.0  |  4   |\n",
      "|    1    |   814    |  5.0  |  5   |\n",
      "|    2    |   1293   |  5.0  |  1   |\n",
      "|    2    |   1201   |  5.0  |  2   |\n",
      "|    2    |   1189   |  5.0  |  3   |\n",
      "|    2    |   1122   |  5.0  |  4   |\n",
      "|    2    |   814    |  5.0  |  5   |\n",
      "+---------+----------+-------+------+\n",
      "[10 rows x 4 columns]\n",
      "\n",
      "\n",
      "\n",
      "Great! User 1 may enjoy watching: \n",
      "1292    Star Kid (1997)\n",
      "Name: movie_title, dtype: object\n",
      "1200    Marlene Dietrich: Shadow and Light (1996) \n",
      "Name: movie_title, dtype: object\n",
      "1188    Prefontaine (1997)\n",
      "Name: movie_title, dtype: object\n",
      "1121    They Made Me a Criminal (1939)\n",
      "Name: movie_title, dtype: object\n",
      "813    Great Day in Harlem, A (1994)\n",
      "Name: movie_title, dtype: object\n",
      "\n",
      "\n",
      "Great! User 2 may enjoy watching: \n",
      "1292    Star Kid (1997)\n",
      "Name: movie_title, dtype: object\n",
      "1200    Marlene Dietrich: Shadow and Light (1996) \n",
      "Name: movie_title, dtype: object\n",
      "1188    Prefontaine (1997)\n",
      "Name: movie_title, dtype: object\n",
      "1121    They Made Me a Criminal (1939)\n",
      "Name: movie_title, dtype: object\n",
      "813    Great Day in Harlem, A (1994)\n",
      "Name: movie_title, dtype: object\n",
      "\n",
      "PRINTING RANK FACTORIZATION ALGORITHM:\n",
      "\n"
     ]
    },
    {
     "data": {
      "text/html": [
       "<pre>Recsys training: model = ranking_factorization_recommender</pre>"
      ],
      "text/plain": [
       "Recsys training: model = ranking_factorization_recommender"
      ]
     },
     "metadata": {},
     "output_type": "display_data"
    },
    {
     "data": {
      "text/html": [
       "<pre>Preparing data set.</pre>"
      ],
      "text/plain": [
       "Preparing data set."
      ]
     },
     "metadata": {},
     "output_type": "display_data"
    },
    {
     "data": {
      "text/html": [
       "<pre>    Data has 90570 observations with 943 users and 1680 items.</pre>"
      ],
      "text/plain": [
       "    Data has 90570 observations with 943 users and 1680 items."
      ]
     },
     "metadata": {},
     "output_type": "display_data"
    },
    {
     "data": {
      "text/html": [
       "<pre>    Data prepared in: 0.087073s</pre>"
      ],
      "text/plain": [
       "    Data prepared in: 0.087073s"
      ]
     },
     "metadata": {},
     "output_type": "display_data"
    },
    {
     "data": {
      "text/html": [
       "<pre>Training ranking_factorization_recommender for recommendations.</pre>"
      ],
      "text/plain": [
       "Training ranking_factorization_recommender for recommendations."
      ]
     },
     "metadata": {},
     "output_type": "display_data"
    },
    {
     "data": {
      "text/html": [
       "<pre>+--------------------------------+--------------------------------------------------+----------+</pre>"
      ],
      "text/plain": [
       "+--------------------------------+--------------------------------------------------+----------+"
      ]
     },
     "metadata": {},
     "output_type": "display_data"
    },
    {
     "data": {
      "text/html": [
       "<pre>| Parameter                      | Description                                      | Value    |</pre>"
      ],
      "text/plain": [
       "| Parameter                      | Description                                      | Value    |"
      ]
     },
     "metadata": {},
     "output_type": "display_data"
    },
    {
     "data": {
      "text/html": [
       "<pre>+--------------------------------+--------------------------------------------------+----------+</pre>"
      ],
      "text/plain": [
       "+--------------------------------+--------------------------------------------------+----------+"
      ]
     },
     "metadata": {},
     "output_type": "display_data"
    },
    {
     "data": {
      "text/html": [
       "<pre>| num_factors                    | Factor Dimension                                 | 32       |</pre>"
      ],
      "text/plain": [
       "| num_factors                    | Factor Dimension                                 | 32       |"
      ]
     },
     "metadata": {},
     "output_type": "display_data"
    },
    {
     "data": {
      "text/html": [
       "<pre>| regularization                 | L2 Regularization on Factors                     | 1e-09    |</pre>"
      ],
      "text/plain": [
       "| regularization                 | L2 Regularization on Factors                     | 1e-09    |"
      ]
     },
     "metadata": {},
     "output_type": "display_data"
    },
    {
     "data": {
      "text/html": [
       "<pre>| solver                         | Solver used for training                         | adagrad  |</pre>"
      ],
      "text/plain": [
       "| solver                         | Solver used for training                         | adagrad  |"
      ]
     },
     "metadata": {},
     "output_type": "display_data"
    },
    {
     "data": {
      "text/html": [
       "<pre>| linear_regularization          | L2 Regularization on Linear Coefficients         | 1e-09    |</pre>"
      ],
      "text/plain": [
       "| linear_regularization          | L2 Regularization on Linear Coefficients         | 1e-09    |"
      ]
     },
     "metadata": {},
     "output_type": "display_data"
    },
    {
     "data": {
      "text/html": [
       "<pre>| ranking_regularization         | Rank-based Regularization Weight                 | 0.25     |</pre>"
      ],
      "text/plain": [
       "| ranking_regularization         | Rank-based Regularization Weight                 | 0.25     |"
      ]
     },
     "metadata": {},
     "output_type": "display_data"
    },
    {
     "data": {
      "text/html": [
       "<pre>| max_iterations                 | Maximum Number of Iterations                     | 25       |</pre>"
      ],
      "text/plain": [
       "| max_iterations                 | Maximum Number of Iterations                     | 25       |"
      ]
     },
     "metadata": {},
     "output_type": "display_data"
    },
    {
     "data": {
      "text/html": [
       "<pre>+--------------------------------+--------------------------------------------------+----------+</pre>"
      ],
      "text/plain": [
       "+--------------------------------+--------------------------------------------------+----------+"
      ]
     },
     "metadata": {},
     "output_type": "display_data"
    },
    {
     "data": {
      "text/html": [
       "<pre>  Optimizing model using SGD; tuning step size.</pre>"
      ],
      "text/plain": [
       "  Optimizing model using SGD; tuning step size."
      ]
     },
     "metadata": {},
     "output_type": "display_data"
    },
    {
     "data": {
      "text/html": [
       "<pre>  Using 11321 / 90570 points for tuning the step size.</pre>"
      ],
      "text/plain": [
       "  Using 11321 / 90570 points for tuning the step size."
      ]
     },
     "metadata": {},
     "output_type": "display_data"
    },
    {
     "data": {
      "text/html": [
       "<pre>+---------+-------------------+------------------------------------------+</pre>"
      ],
      "text/plain": [
       "+---------+-------------------+------------------------------------------+"
      ]
     },
     "metadata": {},
     "output_type": "display_data"
    },
    {
     "data": {
      "text/html": [
       "<pre>| Attempt | Initial Step Size | Estimated Objective Value                |</pre>"
      ],
      "text/plain": [
       "| Attempt | Initial Step Size | Estimated Objective Value                |"
      ]
     },
     "metadata": {},
     "output_type": "display_data"
    },
    {
     "data": {
      "text/html": [
       "<pre>+---------+-------------------+------------------------------------------+</pre>"
      ],
      "text/plain": [
       "+---------+-------------------+------------------------------------------+"
      ]
     },
     "metadata": {},
     "output_type": "display_data"
    },
    {
     "data": {
      "text/html": [
       "<pre>| 0       | 16.6667           | Not Viable                               |</pre>"
      ],
      "text/plain": [
       "| 0       | 16.6667           | Not Viable                               |"
      ]
     },
     "metadata": {},
     "output_type": "display_data"
    },
    {
     "data": {
      "text/html": [
       "<pre>| 1       | 4.16667           | Not Viable                               |</pre>"
      ],
      "text/plain": [
       "| 1       | 4.16667           | Not Viable                               |"
      ]
     },
     "metadata": {},
     "output_type": "display_data"
    },
    {
     "data": {
      "text/html": [
       "<pre>| 2       | 1.04167           | Not Viable                               |</pre>"
      ],
      "text/plain": [
       "| 2       | 1.04167           | Not Viable                               |"
      ]
     },
     "metadata": {},
     "output_type": "display_data"
    },
    {
     "data": {
      "text/html": [
       "<pre>| 3       | 0.260417          | 1.40544                                  |</pre>"
      ],
      "text/plain": [
       "| 3       | 0.260417          | 1.40544                                  |"
      ]
     },
     "metadata": {},
     "output_type": "display_data"
    },
    {
     "data": {
      "text/html": [
       "<pre>| 4       | 0.130208          | 1.35364                                  |</pre>"
      ],
      "text/plain": [
       "| 4       | 0.130208          | 1.35364                                  |"
      ]
     },
     "metadata": {},
     "output_type": "display_data"
    },
    {
     "data": {
      "text/html": [
       "<pre>| 5       | 0.0651042         | 1.63149                                  |</pre>"
      ],
      "text/plain": [
       "| 5       | 0.0651042         | 1.63149                                  |"
      ]
     },
     "metadata": {},
     "output_type": "display_data"
    },
    {
     "data": {
      "text/html": [
       "<pre>| 6       | 0.0325521         | 1.82466                                  |</pre>"
      ],
      "text/plain": [
       "| 6       | 0.0325521         | 1.82466                                  |"
      ]
     },
     "metadata": {},
     "output_type": "display_data"
    },
    {
     "data": {
      "text/html": [
       "<pre>| 7       | 0.016276          | 1.97251                                  |</pre>"
      ],
      "text/plain": [
       "| 7       | 0.016276          | 1.97251                                  |"
      ]
     },
     "metadata": {},
     "output_type": "display_data"
    },
    {
     "data": {
      "text/html": [
       "<pre>+---------+-------------------+------------------------------------------+</pre>"
      ],
      "text/plain": [
       "+---------+-------------------+------------------------------------------+"
      ]
     },
     "metadata": {},
     "output_type": "display_data"
    },
    {
     "data": {
      "text/html": [
       "<pre>| Final   | 0.130208          | 1.35364                                  |</pre>"
      ],
      "text/plain": [
       "| Final   | 0.130208          | 1.35364                                  |"
      ]
     },
     "metadata": {},
     "output_type": "display_data"
    },
    {
     "data": {
      "text/html": [
       "<pre>+---------+-------------------+------------------------------------------+</pre>"
      ],
      "text/plain": [
       "+---------+-------------------+------------------------------------------+"
      ]
     },
     "metadata": {},
     "output_type": "display_data"
    },
    {
     "data": {
      "text/html": [
       "<pre>Starting Optimization.</pre>"
      ],
      "text/plain": [
       "Starting Optimization."
      ]
     },
     "metadata": {},
     "output_type": "display_data"
    },
    {
     "data": {
      "text/html": [
       "<pre>+---------+--------------+-------------------+-----------------------+-------------+</pre>"
      ],
      "text/plain": [
       "+---------+--------------+-------------------+-----------------------+-------------+"
      ]
     },
     "metadata": {},
     "output_type": "display_data"
    },
    {
     "data": {
      "text/html": [
       "<pre>| Iter.   | Elapsed Time | Approx. Objective | Approx. Training RMSE | Step Size   |</pre>"
      ],
      "text/plain": [
       "| Iter.   | Elapsed Time | Approx. Objective | Approx. Training RMSE | Step Size   |"
      ]
     },
     "metadata": {},
     "output_type": "display_data"
    },
    {
     "data": {
      "text/html": [
       "<pre>+---------+--------------+-------------------+-----------------------+-------------+</pre>"
      ],
      "text/plain": [
       "+---------+--------------+-------------------+-----------------------+-------------+"
      ]
     },
     "metadata": {},
     "output_type": "display_data"
    },
    {
     "data": {
      "text/html": [
       "<pre>| Initial | 72us         | 2.48617           | 1.12605               |             |</pre>"
      ],
      "text/plain": [
       "| Initial | 72us         | 2.48617           | 1.12605               |             |"
      ]
     },
     "metadata": {},
     "output_type": "display_data"
    },
    {
     "data": {
      "text/html": [
       "<pre>+---------+--------------+-------------------+-----------------------+-------------+</pre>"
      ],
      "text/plain": [
       "+---------+--------------+-------------------+-----------------------+-------------+"
      ]
     },
     "metadata": {},
     "output_type": "display_data"
    },
    {
     "data": {
      "text/html": [
       "<pre>| 1       | 618.295ms    | 2.11192           | 1.16258               | 0.130208    |</pre>"
      ],
      "text/plain": [
       "| 1       | 618.295ms    | 2.11192           | 1.16258               | 0.130208    |"
      ]
     },
     "metadata": {},
     "output_type": "display_data"
    },
    {
     "data": {
      "text/html": [
       "<pre>| 2       | 1.06s        | 1.70885           | 1.01698               | 0.130208    |</pre>"
      ],
      "text/plain": [
       "| 2       | 1.06s        | 1.70885           | 1.01698               | 0.130208    |"
      ]
     },
     "metadata": {},
     "output_type": "display_data"
    },
    {
     "data": {
      "text/html": [
       "<pre>| 3       | 1.42s        | 1.56967           | 0.961165              | 0.130208    |</pre>"
      ],
      "text/plain": [
       "| 3       | 1.42s        | 1.56967           | 0.961165              | 0.130208    |"
      ]
     },
     "metadata": {},
     "output_type": "display_data"
    },
    {
     "data": {
      "text/html": [
       "<pre>| 4       | 1.77s        | 1.44825           | 0.911946              | 0.130208    |</pre>"
      ],
      "text/plain": [
       "| 4       | 1.77s        | 1.44825           | 0.911946              | 0.130208    |"
      ]
     },
     "metadata": {},
     "output_type": "display_data"
    },
    {
     "data": {
      "text/html": [
       "<pre>| 5       | 2.45s        | 1.36759           | 0.881378              | 0.130208    |</pre>"
      ],
      "text/plain": [
       "| 5       | 2.45s        | 1.36759           | 0.881378              | 0.130208    |"
      ]
     },
     "metadata": {},
     "output_type": "display_data"
    },
    {
     "data": {
      "text/html": [
       "<pre>| 6       | 2.94s        | 1.3097            | 0.858645              | 0.130208    |</pre>"
      ],
      "text/plain": [
       "| 6       | 2.94s        | 1.3097            | 0.858645              | 0.130208    |"
      ]
     },
     "metadata": {},
     "output_type": "display_data"
    },
    {
     "data": {
      "text/html": [
       "<pre>| 10      | 4.85s        | 1.17448           | 0.796874              | 0.130208    |</pre>"
      ],
      "text/plain": [
       "| 10      | 4.85s        | 1.17448           | 0.796874              | 0.130208    |"
      ]
     },
     "metadata": {},
     "output_type": "display_data"
    },
    {
     "data": {
      "text/html": [
       "<pre>| 11      | 5.42s        | 1.15684           | 0.789215              | 0.130208    |</pre>"
      ],
      "text/plain": [
       "| 11      | 5.42s        | 1.15684           | 0.789215              | 0.130208    |"
      ]
     },
     "metadata": {},
     "output_type": "display_data"
    },
    {
     "data": {
      "text/html": [
       "<pre>| 15      | 7.10s        | 1.07468           | 0.763034              | 0.130208    |</pre>"
      ],
      "text/plain": [
       "| 15      | 7.10s        | 1.07468           | 0.763034              | 0.130208    |"
      ]
     },
     "metadata": {},
     "output_type": "display_data"
    },
    {
     "data": {
      "text/html": [
       "<pre>| 20      | 9.20s        | 1.01576           | 0.742673              | 0.130208    |</pre>"
      ],
      "text/plain": [
       "| 20      | 9.20s        | 1.01576           | 0.742673              | 0.130208    |"
      ]
     },
     "metadata": {},
     "output_type": "display_data"
    },
    {
     "data": {
      "text/html": [
       "<pre>| 25      | 11.53s       | 0.974571          | 0.726041              | 0.130208    |</pre>"
      ],
      "text/plain": [
       "| 25      | 11.53s       | 0.974571          | 0.726041              | 0.130208    |"
      ]
     },
     "metadata": {},
     "output_type": "display_data"
    },
    {
     "data": {
      "text/html": [
       "<pre>+---------+--------------+-------------------+-----------------------+-------------+</pre>"
      ],
      "text/plain": [
       "+---------+--------------+-------------------+-----------------------+-------------+"
      ]
     },
     "metadata": {},
     "output_type": "display_data"
    },
    {
     "data": {
      "text/html": [
       "<pre>Optimization Complete: Maximum number of passes through the data reached.</pre>"
      ],
      "text/plain": [
       "Optimization Complete: Maximum number of passes through the data reached."
      ]
     },
     "metadata": {},
     "output_type": "display_data"
    },
    {
     "data": {
      "text/html": [
       "<pre>Computing final objective value and training RMSE.</pre>"
      ],
      "text/plain": [
       "Computing final objective value and training RMSE."
      ]
     },
     "metadata": {},
     "output_type": "display_data"
    },
    {
     "data": {
      "text/html": [
       "<pre>       Final objective value: 0.986887</pre>"
      ],
      "text/plain": [
       "       Final objective value: 0.986887"
      ]
     },
     "metadata": {},
     "output_type": "display_data"
    },
    {
     "data": {
      "text/html": [
       "<pre>       Final training RMSE: 0.699282</pre>"
      ],
      "text/plain": [
       "       Final training RMSE: 0.699282"
      ]
     },
     "metadata": {},
     "output_type": "display_data"
    },
    {
     "name": "stdout",
     "output_type": "stream",
     "text": [
      "+---------+----------+--------------------+------+\n",
      "| user_id | movie_id |       score        | rank |\n",
      "+---------+----------+--------------------+------+\n",
      "|    1    |   408    | 4.941061950668388  |  1   |\n",
      "|    1    |   792    | 4.875267408236557  |  2   |\n",
      "|    1    |   652    | 4.871374658688598  |  3   |\n",
      "|    1    |   1101   | 4.868810808665746  |  4   |\n",
      "|    1    |   171    | 4.7975234458294445 |  5   |\n",
      "|    2    |   129    | 5.813312148123675  |  1   |\n",
      "|    2    |    15    | 5.735869025259905  |  2   |\n",
      "|    2    |   126    | 5.666187202006274  |  3   |\n",
      "|    2    |   124    | 5.656520461111956  |  4   |\n",
      "|    2    |    9     | 5.510597383051806  |  5   |\n",
      "+---------+----------+--------------------+------+\n",
      "[10 rows x 4 columns]\n",
      "\n",
      "\n",
      "\n",
      "Great! User 1 may enjoy watching: \n",
      "407    Close Shave, A (1995)\n",
      "Name: movie_title, dtype: object\n",
      "791    Bullets Over Broadway (1994)\n",
      "Name: movie_title, dtype: object\n",
      "651    Rosencrantz and Guildenstern Are Dead (1990)\n",
      "Name: movie_title, dtype: object\n",
      "1100    Six Degrees of Separation (1993)\n",
      "Name: movie_title, dtype: object\n",
      "170    Delicatessen (1991)\n",
      "Name: movie_title, dtype: object\n",
      "\n",
      "\n",
      "Great! User 2 may enjoy watching: \n",
      "128    Bound (1996)\n",
      "Name: movie_title, dtype: object\n",
      "14    Mr. Holland's Opus (1995)\n",
      "Name: movie_title, dtype: object\n",
      "125    Spitfire Grill, The (1996)\n",
      "Name: movie_title, dtype: object\n",
      "123    Lone Star (1996)\n",
      "Name: movie_title, dtype: object\n",
      "8    Dead Man Walking (1995)\n",
      "Name: movie_title, dtype: object\n",
      "\n",
      "PRINT MODEL COMPARISON:\n",
      "\n"
     ]
    },
    {
     "data": {
      "text/html": [
       "<pre>Recsys training: model = ranking_factorization_recommender</pre>"
      ],
      "text/plain": [
       "Recsys training: model = ranking_factorization_recommender"
      ]
     },
     "metadata": {},
     "output_type": "display_data"
    },
    {
     "data": {
      "text/html": [
       "<pre>Preparing data set.</pre>"
      ],
      "text/plain": [
       "Preparing data set."
      ]
     },
     "metadata": {},
     "output_type": "display_data"
    },
    {
     "data": {
      "text/html": [
       "<pre>    Data has 90570 observations with 943 users and 1680 items.</pre>"
      ],
      "text/plain": [
       "    Data has 90570 observations with 943 users and 1680 items."
      ]
     },
     "metadata": {},
     "output_type": "display_data"
    },
    {
     "data": {
      "text/html": [
       "<pre>    Data prepared in: 0.151352s</pre>"
      ],
      "text/plain": [
       "    Data prepared in: 0.151352s"
      ]
     },
     "metadata": {},
     "output_type": "display_data"
    },
    {
     "data": {
      "text/html": [
       "<pre>Training ranking_factorization_recommender for recommendations.</pre>"
      ],
      "text/plain": [
       "Training ranking_factorization_recommender for recommendations."
      ]
     },
     "metadata": {},
     "output_type": "display_data"
    },
    {
     "data": {
      "text/html": [
       "<pre>+--------------------------------+--------------------------------------------------+----------+</pre>"
      ],
      "text/plain": [
       "+--------------------------------+--------------------------------------------------+----------+"
      ]
     },
     "metadata": {},
     "output_type": "display_data"
    },
    {
     "data": {
      "text/html": [
       "<pre>| Parameter                      | Description                                      | Value    |</pre>"
      ],
      "text/plain": [
       "| Parameter                      | Description                                      | Value    |"
      ]
     },
     "metadata": {},
     "output_type": "display_data"
    },
    {
     "data": {
      "text/html": [
       "<pre>+--------------------------------+--------------------------------------------------+----------+</pre>"
      ],
      "text/plain": [
       "+--------------------------------+--------------------------------------------------+----------+"
      ]
     },
     "metadata": {},
     "output_type": "display_data"
    },
    {
     "data": {
      "text/html": [
       "<pre>| num_factors                    | Factor Dimension                                 | 32       |</pre>"
      ],
      "text/plain": [
       "| num_factors                    | Factor Dimension                                 | 32       |"
      ]
     },
     "metadata": {},
     "output_type": "display_data"
    },
    {
     "data": {
      "text/html": [
       "<pre>| regularization                 | L2 Regularization on Factors                     | 1e-09    |</pre>"
      ],
      "text/plain": [
       "| regularization                 | L2 Regularization on Factors                     | 1e-09    |"
      ]
     },
     "metadata": {},
     "output_type": "display_data"
    },
    {
     "data": {
      "text/html": [
       "<pre>| solver                         | Solver used for training                         | adagrad  |</pre>"
      ],
      "text/plain": [
       "| solver                         | Solver used for training                         | adagrad  |"
      ]
     },
     "metadata": {},
     "output_type": "display_data"
    },
    {
     "data": {
      "text/html": [
       "<pre>| linear_regularization          | L2 Regularization on Linear Coefficients         | 1e-09    |</pre>"
      ],
      "text/plain": [
       "| linear_regularization          | L2 Regularization on Linear Coefficients         | 1e-09    |"
      ]
     },
     "metadata": {},
     "output_type": "display_data"
    },
    {
     "data": {
      "text/html": [
       "<pre>| ranking_regularization         | Rank-based Regularization Weight                 | 0.25     |</pre>"
      ],
      "text/plain": [
       "| ranking_regularization         | Rank-based Regularization Weight                 | 0.25     |"
      ]
     },
     "metadata": {},
     "output_type": "display_data"
    },
    {
     "data": {
      "text/html": [
       "<pre>| max_iterations                 | Maximum Number of Iterations                     | 25       |</pre>"
      ],
      "text/plain": [
       "| max_iterations                 | Maximum Number of Iterations                     | 25       |"
      ]
     },
     "metadata": {},
     "output_type": "display_data"
    },
    {
     "data": {
      "text/html": [
       "<pre>+--------------------------------+--------------------------------------------------+----------+</pre>"
      ],
      "text/plain": [
       "+--------------------------------+--------------------------------------------------+----------+"
      ]
     },
     "metadata": {},
     "output_type": "display_data"
    },
    {
     "data": {
      "text/html": [
       "<pre>  Optimizing model using SGD; tuning step size.</pre>"
      ],
      "text/plain": [
       "  Optimizing model using SGD; tuning step size."
      ]
     },
     "metadata": {},
     "output_type": "display_data"
    },
    {
     "data": {
      "text/html": [
       "<pre>  Using 11321 / 90570 points for tuning the step size.</pre>"
      ],
      "text/plain": [
       "  Using 11321 / 90570 points for tuning the step size."
      ]
     },
     "metadata": {},
     "output_type": "display_data"
    },
    {
     "data": {
      "text/html": [
       "<pre>+---------+-------------------+------------------------------------------+</pre>"
      ],
      "text/plain": [
       "+---------+-------------------+------------------------------------------+"
      ]
     },
     "metadata": {},
     "output_type": "display_data"
    },
    {
     "data": {
      "text/html": [
       "<pre>| Attempt | Initial Step Size | Estimated Objective Value                |</pre>"
      ],
      "text/plain": [
       "| Attempt | Initial Step Size | Estimated Objective Value                |"
      ]
     },
     "metadata": {},
     "output_type": "display_data"
    },
    {
     "data": {
      "text/html": [
       "<pre>+---------+-------------------+------------------------------------------+</pre>"
      ],
      "text/plain": [
       "+---------+-------------------+------------------------------------------+"
      ]
     },
     "metadata": {},
     "output_type": "display_data"
    },
    {
     "data": {
      "text/html": [
       "<pre>| 0       | 16.6667           | Not Viable                               |</pre>"
      ],
      "text/plain": [
       "| 0       | 16.6667           | Not Viable                               |"
      ]
     },
     "metadata": {},
     "output_type": "display_data"
    },
    {
     "data": {
      "text/html": [
       "<pre>| 1       | 4.16667           | Not Viable                               |</pre>"
      ],
      "text/plain": [
       "| 1       | 4.16667           | Not Viable                               |"
      ]
     },
     "metadata": {},
     "output_type": "display_data"
    },
    {
     "data": {
      "text/html": [
       "<pre>| 2       | 1.04167           | Not Viable                               |</pre>"
      ],
      "text/plain": [
       "| 2       | 1.04167           | Not Viable                               |"
      ]
     },
     "metadata": {},
     "output_type": "display_data"
    },
    {
     "data": {
      "text/html": [
       "<pre>| 3       | 0.260417          | 1.56804                                  |</pre>"
      ],
      "text/plain": [
       "| 3       | 0.260417          | 1.56804                                  |"
      ]
     },
     "metadata": {},
     "output_type": "display_data"
    },
    {
     "data": {
      "text/html": [
       "<pre>| 4       | 0.130208          | 1.36608                                  |</pre>"
      ],
      "text/plain": [
       "| 4       | 0.130208          | 1.36608                                  |"
      ]
     },
     "metadata": {},
     "output_type": "display_data"
    },
    {
     "data": {
      "text/html": [
       "<pre>| 5       | 0.0651042         | 1.70479                                  |</pre>"
      ],
      "text/plain": [
       "| 5       | 0.0651042         | 1.70479                                  |"
      ]
     },
     "metadata": {},
     "output_type": "display_data"
    },
    {
     "data": {
      "text/html": [
       "<pre>| 6       | 0.0325521         | 1.80907                                  |</pre>"
      ],
      "text/plain": [
       "| 6       | 0.0325521         | 1.80907                                  |"
      ]
     },
     "metadata": {},
     "output_type": "display_data"
    },
    {
     "data": {
      "text/html": [
       "<pre>| 7       | 0.016276          | 1.99075                                  |</pre>"
      ],
      "text/plain": [
       "| 7       | 0.016276          | 1.99075                                  |"
      ]
     },
     "metadata": {},
     "output_type": "display_data"
    },
    {
     "data": {
      "text/html": [
       "<pre>+---------+-------------------+------------------------------------------+</pre>"
      ],
      "text/plain": [
       "+---------+-------------------+------------------------------------------+"
      ]
     },
     "metadata": {},
     "output_type": "display_data"
    },
    {
     "data": {
      "text/html": [
       "<pre>| Final   | 0.130208          | 1.36608                                  |</pre>"
      ],
      "text/plain": [
       "| Final   | 0.130208          | 1.36608                                  |"
      ]
     },
     "metadata": {},
     "output_type": "display_data"
    },
    {
     "data": {
      "text/html": [
       "<pre>+---------+-------------------+------------------------------------------+</pre>"
      ],
      "text/plain": [
       "+---------+-------------------+------------------------------------------+"
      ]
     },
     "metadata": {},
     "output_type": "display_data"
    },
    {
     "data": {
      "text/html": [
       "<pre>Starting Optimization.</pre>"
      ],
      "text/plain": [
       "Starting Optimization."
      ]
     },
     "metadata": {},
     "output_type": "display_data"
    },
    {
     "data": {
      "text/html": [
       "<pre>+---------+--------------+-------------------+-----------------------+-------------+</pre>"
      ],
      "text/plain": [
       "+---------+--------------+-------------------+-----------------------+-------------+"
      ]
     },
     "metadata": {},
     "output_type": "display_data"
    },
    {
     "data": {
      "text/html": [
       "<pre>| Iter.   | Elapsed Time | Approx. Objective | Approx. Training RMSE | Step Size   |</pre>"
      ],
      "text/plain": [
       "| Iter.   | Elapsed Time | Approx. Objective | Approx. Training RMSE | Step Size   |"
      ]
     },
     "metadata": {},
     "output_type": "display_data"
    },
    {
     "data": {
      "text/html": [
       "<pre>+---------+--------------+-------------------+-----------------------+-------------+</pre>"
      ],
      "text/plain": [
       "+---------+--------------+-------------------+-----------------------+-------------+"
      ]
     },
     "metadata": {},
     "output_type": "display_data"
    },
    {
     "data": {
      "text/html": [
       "<pre>| Initial | 84us         | 2.48616           | 1.12605               |             |</pre>"
      ],
      "text/plain": [
       "| Initial | 84us         | 2.48616           | 1.12605               |             |"
      ]
     },
     "metadata": {},
     "output_type": "display_data"
    },
    {
     "data": {
      "text/html": [
       "<pre>+---------+--------------+-------------------+-----------------------+-------------+</pre>"
      ],
      "text/plain": [
       "+---------+--------------+-------------------+-----------------------+-------------+"
      ]
     },
     "metadata": {},
     "output_type": "display_data"
    },
    {
     "data": {
      "text/html": [
       "<pre>| 1       | 313.422ms    | 2.23071           | 1.20054               | 0.130208    |</pre>"
      ],
      "text/plain": [
       "| 1       | 313.422ms    | 2.23071           | 1.20054               | 0.130208    |"
      ]
     },
     "metadata": {},
     "output_type": "display_data"
    },
    {
     "data": {
      "text/html": [
       "<pre>| 2       | 632.253ms    | 1.79428           | 1.05499               | 0.130208    |</pre>"
      ],
      "text/plain": [
       "| 2       | 632.253ms    | 1.79428           | 1.05499               | 0.130208    |"
      ]
     },
     "metadata": {},
     "output_type": "display_data"
    },
    {
     "data": {
      "text/html": [
       "<pre>| 3       | 932.629ms    | 1.64487           | 0.996738              | 0.130208    |</pre>"
      ],
      "text/plain": [
       "| 3       | 932.629ms    | 1.64487           | 0.996738              | 0.130208    |"
      ]
     },
     "metadata": {},
     "output_type": "display_data"
    },
    {
     "data": {
      "text/html": [
       "<pre>| 4       | 1.23s        | 1.52825           | 0.954996              | 0.130208    |</pre>"
      ],
      "text/plain": [
       "| 4       | 1.23s        | 1.52825           | 0.954996              | 0.130208    |"
      ]
     },
     "metadata": {},
     "output_type": "display_data"
    },
    {
     "data": {
      "text/html": [
       "<pre>| 5       | 1.55s        | 1.4578            | 0.931643              | 0.130208    |</pre>"
      ],
      "text/plain": [
       "| 5       | 1.55s        | 1.4578            | 0.931643              | 0.130208    |"
      ]
     },
     "metadata": {},
     "output_type": "display_data"
    },
    {
     "data": {
      "text/html": [
       "<pre>| 6       | 1.85s        | 1.40056           | 0.909146              | 0.130208    |</pre>"
      ],
      "text/plain": [
       "| 6       | 1.85s        | 1.40056           | 0.909146              | 0.130208    |"
      ]
     },
     "metadata": {},
     "output_type": "display_data"
    },
    {
     "data": {
      "text/html": [
       "<pre>| 10      | 3.79s        | 1.25544           | 0.851279              | 0.130208    |</pre>"
      ],
      "text/plain": [
       "| 10      | 3.79s        | 1.25544           | 0.851279              | 0.130208    |"
      ]
     },
     "metadata": {},
     "output_type": "display_data"
    },
    {
     "data": {
      "text/html": [
       "<pre>| 11      | 4.46s        | 1.23036           | 0.841548              | 0.130208    |</pre>"
      ],
      "text/plain": [
       "| 11      | 4.46s        | 1.23036           | 0.841548              | 0.130208    |"
      ]
     },
     "metadata": {},
     "output_type": "display_data"
    },
    {
     "data": {
      "text/html": [
       "<pre>| 15      | 6.22s        | 1.15561           | 0.80928               | 0.130208    |</pre>"
      ],
      "text/plain": [
       "| 15      | 6.22s        | 1.15561           | 0.80928               | 0.130208    |"
      ]
     },
     "metadata": {},
     "output_type": "display_data"
    },
    {
     "data": {
      "text/html": [
       "<pre>| 20      | 8.13s        | 1.08894           | 0.780645              | 0.130208    |</pre>"
      ],
      "text/plain": [
       "| 20      | 8.13s        | 1.08894           | 0.780645              | 0.130208    |"
      ]
     },
     "metadata": {},
     "output_type": "display_data"
    },
    {
     "data": {
      "text/html": [
       "<pre>| 25      | 9.93s        | 1.04304           | 0.760338              | 0.130208    |</pre>"
      ],
      "text/plain": [
       "| 25      | 9.93s        | 1.04304           | 0.760338              | 0.130208    |"
      ]
     },
     "metadata": {},
     "output_type": "display_data"
    },
    {
     "data": {
      "text/html": [
       "<pre>+---------+--------------+-------------------+-----------------------+-------------+</pre>"
      ],
      "text/plain": [
       "+---------+--------------+-------------------+-----------------------+-------------+"
      ]
     },
     "metadata": {},
     "output_type": "display_data"
    },
    {
     "data": {
      "text/html": [
       "<pre>Optimization Complete: Maximum number of passes through the data reached.</pre>"
      ],
      "text/plain": [
       "Optimization Complete: Maximum number of passes through the data reached."
      ]
     },
     "metadata": {},
     "output_type": "display_data"
    },
    {
     "data": {
      "text/html": [
       "<pre>Computing final objective value and training RMSE.</pre>"
      ],
      "text/plain": [
       "Computing final objective value and training RMSE."
      ]
     },
     "metadata": {},
     "output_type": "display_data"
    },
    {
     "data": {
      "text/html": [
       "<pre>       Final objective value: 1.0679</pre>"
      ],
      "text/plain": [
       "       Final objective value: 1.0679"
      ]
     },
     "metadata": {},
     "output_type": "display_data"
    },
    {
     "data": {
      "text/html": [
       "<pre>       Final training RMSE: 0.739017</pre>"
      ],
      "text/plain": [
       "       Final training RMSE: 0.739017"
      ]
     },
     "metadata": {},
     "output_type": "display_data"
    },
    {
     "data": {
      "text/html": [
       "<pre>Recsys training: model = popularity</pre>"
      ],
      "text/plain": [
       "Recsys training: model = popularity"
      ]
     },
     "metadata": {},
     "output_type": "display_data"
    },
    {
     "data": {
      "text/html": [
       "<pre>Warning: Ignoring columns unix_timestamp;</pre>"
      ],
      "text/plain": [
       "Warning: Ignoring columns unix_timestamp;"
      ]
     },
     "metadata": {},
     "output_type": "display_data"
    },
    {
     "data": {
      "text/html": [
       "<pre>    To use these columns in scoring predictions, use a model that allows the use of additional features.</pre>"
      ],
      "text/plain": [
       "    To use these columns in scoring predictions, use a model that allows the use of additional features."
      ]
     },
     "metadata": {},
     "output_type": "display_data"
    },
    {
     "data": {
      "text/html": [
       "<pre>Preparing data set.</pre>"
      ],
      "text/plain": [
       "Preparing data set."
      ]
     },
     "metadata": {},
     "output_type": "display_data"
    },
    {
     "data": {
      "text/html": [
       "<pre>    Data has 90570 observations with 943 users and 1680 items.</pre>"
      ],
      "text/plain": [
       "    Data has 90570 observations with 943 users and 1680 items."
      ]
     },
     "metadata": {},
     "output_type": "display_data"
    },
    {
     "data": {
      "text/html": [
       "<pre>    Data prepared in: 0.125851s</pre>"
      ],
      "text/plain": [
       "    Data prepared in: 0.125851s"
      ]
     },
     "metadata": {},
     "output_type": "display_data"
    },
    {
     "data": {
      "text/html": [
       "<pre>90570 observations to process; with 1680 unique items.</pre>"
      ],
      "text/plain": [
       "90570 observations to process; with 1680 unique items."
      ]
     },
     "metadata": {},
     "output_type": "display_data"
    },
    {
     "data": {
      "text/html": [
       "<pre>Recsys training: model = item_similarity</pre>"
      ],
      "text/plain": [
       "Recsys training: model = item_similarity"
      ]
     },
     "metadata": {},
     "output_type": "display_data"
    },
    {
     "data": {
      "text/html": [
       "<pre>Warning: Ignoring columns unix_timestamp;</pre>"
      ],
      "text/plain": [
       "Warning: Ignoring columns unix_timestamp;"
      ]
     },
     "metadata": {},
     "output_type": "display_data"
    },
    {
     "data": {
      "text/html": [
       "<pre>    To use these columns in scoring predictions, use a model that allows the use of additional features.</pre>"
      ],
      "text/plain": [
       "    To use these columns in scoring predictions, use a model that allows the use of additional features."
      ]
     },
     "metadata": {},
     "output_type": "display_data"
    },
    {
     "data": {
      "text/html": [
       "<pre>Preparing data set.</pre>"
      ],
      "text/plain": [
       "Preparing data set."
      ]
     },
     "metadata": {},
     "output_type": "display_data"
    },
    {
     "data": {
      "text/html": [
       "<pre>    Data has 90570 observations with 943 users and 1680 items.</pre>"
      ],
      "text/plain": [
       "    Data has 90570 observations with 943 users and 1680 items."
      ]
     },
     "metadata": {},
     "output_type": "display_data"
    },
    {
     "data": {
      "text/html": [
       "<pre>    Data prepared in: 0.149842s</pre>"
      ],
      "text/plain": [
       "    Data prepared in: 0.149842s"
      ]
     },
     "metadata": {},
     "output_type": "display_data"
    },
    {
     "data": {
      "text/html": [
       "<pre>Training model from provided data.</pre>"
      ],
      "text/plain": [
       "Training model from provided data."
      ]
     },
     "metadata": {},
     "output_type": "display_data"
    },
    {
     "data": {
      "text/html": [
       "<pre>Gathering per-item and per-user statistics.</pre>"
      ],
      "text/plain": [
       "Gathering per-item and per-user statistics."
      ]
     },
     "metadata": {},
     "output_type": "display_data"
    },
    {
     "data": {
      "text/html": [
       "<pre>+--------------------------------+------------+</pre>"
      ],
      "text/plain": [
       "+--------------------------------+------------+"
      ]
     },
     "metadata": {},
     "output_type": "display_data"
    },
    {
     "data": {
      "text/html": [
       "<pre>| Elapsed Time (Item Statistics) | % Complete |</pre>"
      ],
      "text/plain": [
       "| Elapsed Time (Item Statistics) | % Complete |"
      ]
     },
     "metadata": {},
     "output_type": "display_data"
    },
    {
     "data": {
      "text/html": [
       "<pre>+--------------------------------+------------+</pre>"
      ],
      "text/plain": [
       "+--------------------------------+------------+"
      ]
     },
     "metadata": {},
     "output_type": "display_data"
    },
    {
     "data": {
      "text/html": [
       "<pre>| 5.907ms                        | 100        |</pre>"
      ],
      "text/plain": [
       "| 5.907ms                        | 100        |"
      ]
     },
     "metadata": {},
     "output_type": "display_data"
    },
    {
     "data": {
      "text/html": [
       "<pre>+--------------------------------+------------+</pre>"
      ],
      "text/plain": [
       "+--------------------------------+------------+"
      ]
     },
     "metadata": {},
     "output_type": "display_data"
    },
    {
     "data": {
      "text/html": [
       "<pre>Setting up lookup tables.</pre>"
      ],
      "text/plain": [
       "Setting up lookup tables."
      ]
     },
     "metadata": {},
     "output_type": "display_data"
    },
    {
     "data": {
      "text/html": [
       "<pre>Processing data in one pass using dense lookup tables.</pre>"
      ],
      "text/plain": [
       "Processing data in one pass using dense lookup tables."
      ]
     },
     "metadata": {},
     "output_type": "display_data"
    },
    {
     "data": {
      "text/html": [
       "<pre>+-------------------------------------+------------------+-----------------+</pre>"
      ],
      "text/plain": [
       "+-------------------------------------+------------------+-----------------+"
      ]
     },
     "metadata": {},
     "output_type": "display_data"
    },
    {
     "data": {
      "text/html": [
       "<pre>| Elapsed Time (Constructing Lookups) | Total % Complete | Items Processed |</pre>"
      ],
      "text/plain": [
       "| Elapsed Time (Constructing Lookups) | Total % Complete | Items Processed |"
      ]
     },
     "metadata": {},
     "output_type": "display_data"
    },
    {
     "data": {
      "text/html": [
       "<pre>+-------------------------------------+------------------+-----------------+</pre>"
      ],
      "text/plain": [
       "+-------------------------------------+------------------+-----------------+"
      ]
     },
     "metadata": {},
     "output_type": "display_data"
    },
    {
     "data": {
      "text/html": [
       "<pre>| 16.708ms                            | 0.25             | 6               |</pre>"
      ],
      "text/plain": [
       "| 16.708ms                            | 0.25             | 6               |"
      ]
     },
     "metadata": {},
     "output_type": "display_data"
    },
    {
     "data": {
      "text/html": [
       "<pre>| 301.867ms                           | 100              | 1680            |</pre>"
      ],
      "text/plain": [
       "| 301.867ms                           | 100              | 1680            |"
      ]
     },
     "metadata": {},
     "output_type": "display_data"
    },
    {
     "data": {
      "text/html": [
       "<pre>+-------------------------------------+------------------+-----------------+</pre>"
      ],
      "text/plain": [
       "+-------------------------------------+------------------+-----------------+"
      ]
     },
     "metadata": {},
     "output_type": "display_data"
    },
    {
     "data": {
      "text/html": [
       "<pre>Finalizing lookup tables.</pre>"
      ],
      "text/plain": [
       "Finalizing lookup tables."
      ]
     },
     "metadata": {},
     "output_type": "display_data"
    },
    {
     "data": {
      "text/html": [
       "<pre>Generating candidate set for working with new users.</pre>"
      ],
      "text/plain": [
       "Generating candidate set for working with new users."
      ]
     },
     "metadata": {},
     "output_type": "display_data"
    },
    {
     "data": {
      "text/html": [
       "<pre>Finished training in 0.312698s</pre>"
      ],
      "text/plain": [
       "Finished training in 0.312698s"
      ]
     },
     "metadata": {},
     "output_type": "display_data"
    },
    {
     "name": "stdout",
     "output_type": "stream",
     "text": [
      "PROGRESS: Evaluate model Rank Factorization Model\n",
      "\n",
      "Precision and recall summary statistics by cutoff\n",
      "+--------+---------------------+----------------------+\n",
      "| cutoff |    mean_precision   |     mean_recall      |\n",
      "+--------+---------------------+----------------------+\n",
      "|   1    | 0.09331919406150571 | 0.009331919406150595 |\n",
      "|   2    | 0.11505832449628839 | 0.023011664899257683 |\n",
      "|   3    |  0.1244255920820078 | 0.03732767762460233  |\n",
      "|   4    |  0.1211558854718982 | 0.04846235418875934  |\n",
      "|   5    |  0.1172852598091199 | 0.05864262990455995  |\n",
      "|   6    | 0.11223047013078834 | 0.06733828207847303  |\n",
      "|   7    | 0.10831692167853364 | 0.07582184517497345  |\n",
      "|   8    | 0.10538176033934252 | 0.08430540827147398  |\n",
      "|   9    | 0.10250972074938138 | 0.09225874867444339  |\n",
      "|   10   | 0.10084835630965008 | 0.10084835630965008  |\n",
      "+--------+---------------------+----------------------+\n",
      "[10 rows x 3 columns]\n",
      "\n",
      "\n",
      "Overall RMSE: 1.1560744967866963\n",
      "\n",
      "Per User RMSE (best)\n",
      "+---------+---------------------+-------+\n",
      "| user_id |         rmse        | count |\n",
      "+---------+---------------------+-------+\n",
      "|   660   | 0.38199843600130856 |   10  |\n",
      "+---------+---------------------+-------+\n",
      "[1 rows x 3 columns]\n",
      "\n",
      "\n",
      "Per User RMSE (worst)\n",
      "+---------+-------------------+-------+\n",
      "| user_id |        rmse       | count |\n",
      "+---------+-------------------+-------+\n",
      "|   887   | 2.547451099596381 |   10  |\n",
      "+---------+-------------------+-------+\n",
      "[1 rows x 3 columns]\n",
      "\n",
      "\n",
      "Per Item RMSE (best)\n",
      "+----------+----------------------+-------+\n",
      "| movie_id |         rmse         | count |\n",
      "+----------+----------------------+-------+\n",
      "|   1032   | 0.022755492832644775 |   1   |\n",
      "+----------+----------------------+-------+\n",
      "[1 rows x 3 columns]\n",
      "\n",
      "\n",
      "Per Item RMSE (worst)\n",
      "+----------+--------------------+-------+\n",
      "| movie_id |        rmse        | count |\n",
      "+----------+--------------------+-------+\n",
      "|   1104   | 4.1288444795742425 |   1   |\n",
      "+----------+--------------------+-------+\n",
      "[1 rows x 3 columns]\n",
      "\n",
      "PROGRESS: Evaluate model Item Popularity Model\n",
      "\n",
      "Precision and recall summary statistics by cutoff\n",
      "+--------+------------------------+------------------------+\n",
      "| cutoff |     mean_precision     |      mean_recall       |\n",
      "+--------+------------------------+------------------------+\n",
      "|   1    | 0.0010604453870625672  | 0.00010604453870625672 |\n",
      "|   2    | 0.0005302226935312836  | 0.00010604453870625672 |\n",
      "|   3    | 0.0003534817956875224  | 0.00010604453870625672 |\n",
      "|   4    | 0.0002651113467656418  | 0.00010604453870625672 |\n",
      "|   5    | 0.00021208907741251343 | 0.00010604453870625672 |\n",
      "|   6    | 0.0001767408978437612  | 0.00010604453870625672 |\n",
      "|   7    | 0.00015149219815179524 | 0.00010604453870625672 |\n",
      "|   8    | 0.0001325556733828209  | 0.00010604453870625672 |\n",
      "|   9    | 0.00023565453045834805 | 0.00021208907741251343 |\n",
      "|   10   | 0.00021208907741251343 | 0.00021208907741251343 |\n",
      "+--------+------------------------+------------------------+\n",
      "[10 rows x 3 columns]\n",
      "\n",
      "\n",
      "Overall RMSE: 1.0417647969439832\n",
      "\n",
      "Per User RMSE (best)\n",
      "+---------+--------------------+-------+\n",
      "| user_id |        rmse        | count |\n",
      "+---------+--------------------+-------+\n",
      "|    2    | 0.3905909929967786 |   10  |\n",
      "+---------+--------------------+-------+\n",
      "[1 rows x 3 columns]\n",
      "\n",
      "\n",
      "Per User RMSE (worst)\n",
      "+---------+--------------------+-------+\n",
      "| user_id |        rmse        | count |\n",
      "+---------+--------------------+-------+\n",
      "|   519   | 2.3300010092772054 |   10  |\n",
      "+---------+--------------------+-------+\n",
      "[1 rows x 3 columns]\n",
      "\n",
      "\n",
      "Per Item RMSE (best)\n",
      "+----------+------+-------+\n",
      "| movie_id | rmse | count |\n",
      "+----------+------+-------+\n",
      "|   643    | 0.0  |   1   |\n",
      "+----------+------+-------+\n",
      "[1 rows x 3 columns]\n",
      "\n",
      "\n",
      "Per Item RMSE (worst)\n",
      "+----------+------+-------+\n",
      "| movie_id | rmse | count |\n",
      "+----------+------+-------+\n",
      "|   1306   | 4.0  |   1   |\n",
      "+----------+------+-------+\n",
      "[1 rows x 3 columns]\n",
      "\n",
      "PROGRESS: Evaluate model Item Similarity Model\n",
      "\n",
      "Precision and recall summary statistics by cutoff\n",
      "+--------+---------------------+----------------------+\n",
      "| cutoff |    mean_precision   |     mean_recall      |\n",
      "+--------+---------------------+----------------------+\n",
      "|   1    | 0.08377518557794278 | 0.008377518557794278 |\n",
      "|   2    |  0.0843054082714741 | 0.016861081654294802 |\n",
      "|   3    | 0.07211028632025453 | 0.021633085896076345 |\n",
      "|   4    | 0.06813361611876984 | 0.02725344644750797  |\n",
      "|   5    | 0.06808059384941685 | 0.034040296924708426 |\n",
      "|   6    | 0.06981265464828569 | 0.04188759278897143  |\n",
      "|   7    | 0.07226177851840623 | 0.050583244962884424 |\n",
      "|   8    | 0.07277306468716876 | 0.05821845174973494  |\n",
      "|   9    |  0.0709320136679628 | 0.06383881230116648  |\n",
      "|   10   | 0.07211028632025451 | 0.07211028632025451  |\n",
      "+--------+---------------------+----------------------+\n",
      "[10 rows x 3 columns]\n",
      "\n",
      "\n",
      "Overall RMSE: 3.3611173142529913\n",
      "\n",
      "Per User RMSE (best)\n",
      "+---------+-------------------+-------+\n",
      "| user_id |        rmse       | count |\n",
      "+---------+-------------------+-------+\n",
      "|   774   | 1.628349819703496 |   10  |\n",
      "+---------+-------------------+-------+\n",
      "[1 rows x 3 columns]\n",
      "\n",
      "\n",
      "Per User RMSE (worst)\n",
      "+---------+-------------------+-------+\n",
      "| user_id |        rmse       | count |\n",
      "+---------+-------------------+-------+\n",
      "|   200   | 4.596519001186289 |   10  |\n",
      "+---------+-------------------+-------+\n",
      "[1 rows x 3 columns]\n",
      "\n",
      "\n",
      "Per Item RMSE (best)\n",
      "+----------+--------------------+-------+\n",
      "| movie_id |        rmse        | count |\n",
      "+----------+--------------------+-------+\n",
      "|   1255   | 0.8007337326804796 |   1   |\n",
      "+----------+--------------------+-------+\n",
      "[1 rows x 3 columns]\n",
      "\n",
      "\n",
      "Per Item RMSE (worst)\n",
      "+----------+------+-------+\n",
      "| movie_id | rmse | count |\n",
      "+----------+------+-------+\n",
      "|   718    | 5.0  |   1   |\n",
      "+----------+------+-------+\n",
      "[1 rows x 3 columns]\n",
      "\n",
      "Would you like to restart the program? (y/n) n\n"
     ]
    }
   ],
   "source": [
    "while again == 'y':\n",
    "   \n",
    "    print('\\n1.) Terminal \\n2.) GUI \\n')\n",
    "    terminalGUI = input('Choice:  ')\n",
    "\n",
    "    if (int(terminalGUI) == 1 ):\n",
    "    \n",
    "        # movie recommender sys\n",
    "        def sample_recommendation(model, data, user_ids):\n",
    "    \n",
    "            user1 = int(u1)   \n",
    "            user2 = int(u2)\n",
    "            user3 = int(u3)\n",
    "    \n",
    "            #number of users and movies in training data\n",
    "            n_users, n_items = data['train'].shape\n",
    "    \n",
    "            #generate recommendations for each user we input\n",
    "            for user_id in user_ids:\n",
    "        \n",
    "                #movies they already like\n",
    "                fav_movies = data['item_labels'][data['train'].tocsr()[user_id].indices]\n",
    "        \n",
    "                #movies our model predicts they will like\n",
    "                scores = model.predict(user_id,np.arange(n_items))\n",
    "                #rank them in order of most liked to least\n",
    "                top_items = data['item_labels'][np.argsort(-scores)]\n",
    "            \n",
    "                #print out the results\n",
    "                userRec(user_id,fav_movies,top_items)\n",
    "                #guiRec(user_id,fav_movies,top_items)\n",
    "    \n",
    "        def Recommend_user():\n",
    "            #print(type(u1))\n",
    "            user1 = int(u1)   \n",
    "            user2 = int(u2)\n",
    "            user3 = int(u3)\n",
    "            #print(type(user))\n",
    "            sample_recommendation(model, data, [user1,user2,user3])\n",
    "            \n",
    "        \n",
    "        def userRec(user_id,fav_movies,top_items):\n",
    "            #print out the results\n",
    "            print('------------------------------------------')\n",
    "            print('User %s' % user_id)\n",
    "            print('Favorite Movies:')\n",
    "        \n",
    "            for x in fav_movies[:5]:\n",
    "                print('%s' % x)\n",
    "            \n",
    "            print('\\nRecommended Movies:')\n",
    "        \n",
    "            for y in top_items[:5]:\n",
    "                print('%s' % y)\n",
    "    \n",
    "        #SELECTION SCREEN\n",
    "        print('Welcome to the CS4319 Movie Recommender System\\nPlease select one of the following:')\n",
    "        print('1.) Recommend movies for 3 users')\n",
    "        print('2.) Search for similar movies')\n",
    "        print('3.) Recommend most popular movies')\n",
    "        print('4.) Turicreate Compare')\n",
    "        print('5.) Visualize Model\\n')\n",
    "        selection = input('Selection:  ')\n",
    "    \n",
    "        ## Recommend movies to 3 users using hybrid factorization collab algorithm\n",
    "        if (int(selection) == 1):\n",
    "            #input for users\n",
    "            print('Select movies for users:')\n",
    "            u1 = input('user 1: ')\n",
    "            u2 = input('user 2: ')\n",
    "            u3 = input('user 3: ')\n",
    "            Recommend_user()\n",
    "            #restart program\n",
    "            again = input('Would you like to restart the program? (y/n) ')\n",
    "        \n",
    "        ## View Similar movies to selected movie using Item similarity algorithm\n",
    "        if (int(selection) == 2):\n",
    "        \n",
    "            #used to cycle through films\n",
    "            loop=1\n",
    "            i=0\n",
    "            #print('loop =' + str(loop))\n",
    "        \n",
    "            while (loop==1):\n",
    "                #show first 5 movies in movielens list\n",
    "                def showMovies(i):\n",
    "                    #print(i)\n",
    "                    for i in range(i+5):\n",
    "                        print('(' + str(i+1) +')' + data[('item_labels')][i])\n",
    "                    print('(0) View More')\n",
    "        \n",
    "                def item_similarity(loop):\n",
    "                    print('Great! You might also like these movies: \\n ')\n",
    "                    #item similarity algorithm\n",
    "                    print(data[('item_labels')][cosine_similarity(model.item_embeddings)[like-1].argsort()][-5:][::-1])\n",
    "                    #restart program\n",
    "                    again = input('Would you like to restart the program? (y/n) ')\n",
    "                    \n",
    "                showMovies(i)\n",
    "        \n",
    "                like = input('Selection:  ')\n",
    "                like = int(like)\n",
    "\n",
    "                #show more movies\n",
    "                if (like == 0):\n",
    "                    #print(i)\n",
    "                    i = i + 5\n",
    "                    #print(i)\n",
    "                    showMovies(i)\n",
    "                \n",
    "                else:\n",
    "                    item_similarity(loop)\n",
    "                    loop-=1\n",
    "                \n",
    "                \n",
    "        ## View most popular movies to recommend to a user, using popularity algorithm\n",
    "        if (int(selection) == 3):\n",
    "            popRec = input('Recommend top 5 popular movies to user:  ')\n",
    "            turiWork(popRec)\n",
    "            #restart program\n",
    "            again = input('Would you like to restart the program? (y/n) ')\n",
    "    \n",
    "        if (int(selection) == 4):\n",
    "            print('TURICREATE COMPARE')\n",
    "            print('Compare recommender algorithms for user 1 and 2')\n",
    "            \n",
    "            print('PRINTING ITEM SIMILARITY ALGORITHM:\\n')\n",
    "            time.sleep(4)\n",
    "            itemSim()\n",
    "            time.sleep(4)\n",
    "        \n",
    "            print('\\nPRINTING ITEM POPULARITY ALGORITHM:\\n')\n",
    "            time.sleep(4)\n",
    "            itemPop()\n",
    "            time.sleep(4)\n",
    "        \n",
    "            print('\\nPRINTING RANK FACTORIZATION ALGORITHM:\\n')\n",
    "            time.sleep(4)\n",
    "            rankFactor()\n",
    "            time.sleep(4)\n",
    "        \n",
    "            print('\\nPRINT MODEL COMPARISON:\\n')\n",
    "            time.sleep(4)\n",
    "            modelCompare()\n",
    "            time.sleep(4)\n",
    "        \n",
    "            again = input('Would you like to restart the program? (y/n) ')\n",
    "            if again == 'n':\n",
    "                exit()\n",
    "                \n",
    "        if (int(selection) == 5):\n",
    "            print('VISUALIZE MODELS\\n')\n",
    "            print('PRINTING ITEM SIMILARITY ALGORITHM:\\n')\n",
    "            time.sleep(4)\n",
    "            itemSim()\n",
    "            time.sleep(4)"
   ]
  },
  {
   "cell_type": "markdown",
   "metadata": {},
   "source": [
    "### Get Top-K Recommendations for Three Models\n",
    "\n",
    "---\n",
    "\n",
    "Test your recommender models by finding top k=5 movies. Write your outcomes about the result of testing. <i>What are the scores of each recommendations?</i> <i>How are they accurate?</i> <i>Which model test results are the highest one?</i>"
   ]
  },
  {
   "cell_type": "code",
   "execution_count": 1,
   "metadata": {},
   "outputs": [
    {
     "data": {
      "text/plain": [
       "\"top 5 for 3 models was tested above:\\nTop 5 tested on user 1 and user 2\\n\\nITEM SIMILARITY:\\nGreat! User 1 may enjoy watching: \\n422    E.T. the Extra-Terrestrial (1982)\\n201    Groundhog Day (1993)\\n654    Stand by Me (1986)\\n402    Batman (1989)\\n567    Speed (1994)\\n\\nGreat! User 2 may enjoy watching: \\n49    Star Wars (1977)t\\n180    Return of the Jedi (1983)\\n6    Twelve Monkeys (1995)\\n120    Independence Day (ID4) (1996)\\n8    Dead Man Walking (1995)\\n\\nSCORE RANGE: [0.751,1.126]\\n\\nITEM POPULARITY:\\nGreat! User 1 may enjoy watching: \\n1292    Star Kid (1997)\\n1200    Marlene Dietrich: Shadow and Light (1996) \\n1188    Prefontaine (1997)\\n1121    They Made Me a Criminal (1939)\\n813    Great Day in Harlem, A (1994)\\n\\nGreat! User 2 may enjoy watching: \\n1292    Star Kid (1997)\\n1200    Marlene Dietrich: Shadow and Light (1996) \\n1188    Prefontaine (1997)\\n1121    They Made Me a Criminal (1939)\\n813    Great Day in Harlem, A (1994)\\n\\nSCORE RANGE: [5.0]\\n\\nRANK FACTORIZATION:\\nGreat! User 1 may enjoy watching: \\n407    Close Shave, A (1995)\\n791    Bullets Over Broadway (1994)\\n651    Rosencrantz and Guildenstern Are Dead (1990)\\n1100    Six Degrees of Separation (1993)\\n170    Delicatessen (1991)\\n\\nGreat! User 2 may enjoy watching: \\n128    Bound (1996)\\n14    Mr. Holland's Opus (1995)\\n125    Spitfire Grill, The (1996)\\n123    Lone Star (1996)\\n8    Dead Man Walking (1995)\\n\\nSCORE RANGE: [4.47,5.40]\\n\\n\\n\\nMODEL ACCURACY: The item similarity is accurate is in finding similar movies, but it is not very diverse and can recommend movies with low scores\\n\""
      ]
     },
     "execution_count": 1,
     "metadata": {},
     "output_type": "execute_result"
    }
   ],
   "source": [
    "'''top 5 for 3 models was tested above:\n",
    "Top 5 tested on user 1 and user 2\n",
    "\n",
    "ITEM SIMILARITY:\n",
    "Great! User 1 may enjoy watching: \n",
    "422    E.T. the Extra-Terrestrial (1982)\n",
    "201    Groundhog Day (1993)\n",
    "654    Stand by Me (1986)\n",
    "402    Batman (1989)\n",
    "567    Speed (1994)\n",
    "\n",
    "Great! User 2 may enjoy watching: \n",
    "49    Star Wars (1977)t\n",
    "180    Return of the Jedi (1983)\n",
    "6    Twelve Monkeys (1995)\n",
    "120    Independence Day (ID4) (1996)\n",
    "8    Dead Man Walking (1995)\n",
    "\n",
    "SCORE RANGE: [0.751,1.126]\n",
    "\n",
    "ITEM POPULARITY:\n",
    "Great! User 1 may enjoy watching: \n",
    "1292    Star Kid (1997)\n",
    "1200    Marlene Dietrich: Shadow and Light (1996) \n",
    "1188    Prefontaine (1997)\n",
    "1121    They Made Me a Criminal (1939)\n",
    "813    Great Day in Harlem, A (1994)\n",
    "\n",
    "Great! User 2 may enjoy watching: \n",
    "1292    Star Kid (1997)\n",
    "1200    Marlene Dietrich: Shadow and Light (1996) \n",
    "1188    Prefontaine (1997)\n",
    "1121    They Made Me a Criminal (1939)\n",
    "813    Great Day in Harlem, A (1994)\n",
    "\n",
    "SCORE RANGE: [5.0]\n",
    "\n",
    "RANK FACTORIZATION:\n",
    "Great! User 1 may enjoy watching: \n",
    "407    Close Shave, A (1995)\n",
    "791    Bullets Over Broadway (1994)\n",
    "651    Rosencrantz and Guildenstern Are Dead (1990)\n",
    "1100    Six Degrees of Separation (1993)\n",
    "170    Delicatessen (1991)\n",
    "\n",
    "Great! User 2 may enjoy watching: \n",
    "128    Bound (1996)\n",
    "14    Mr. Holland's Opus (1995)\n",
    "125    Spitfire Grill, The (1996)\n",
    "123    Lone Star (1996)\n",
    "8    Dead Man Walking (1995)\n",
    "\n",
    "SCORE RANGE: [4.47,5.40]\n",
    "\n",
    "\n",
    "MODEL ACCURACY: \n",
    "Item similarity is accurate is in finding similar movies, but it is not very diverse and can recommend movies with low scores\n",
    "Item Popularity finds the top 5 movies, high scores, but may not be what the customer would appreciate\n",
    "Rank factorization has the most diversity with great scores. Scores are not solid 5, but that offers similar movies with good ratings\n",
    "\n",
    "Rank Factorization model has the highest scores but it has some lower scores than item popularity.\n",
    "'''\n"
   ]
  },
  {
   "cell_type": "markdown",
   "metadata": {},
   "source": [
    "### Evaluate your model"
   ]
  },
  {
   "cell_type": "markdown",
   "metadata": {},
   "source": [
    "#### Step 1: Calculate RMSE Score for Three Models\n",
    "\n",
    "---\n",
    "\n",
    "**RMSE : Root Mean Squared Error**\n",
    "\n",
    "Write outcomes about rmse scores for each recommender model. Compare results in your report."
   ]
  },
  {
   "cell_type": "code",
   "execution_count": null,
   "metadata": {},
   "outputs": [],
   "source": [
    "'''\n",
    "Computing final objective value and training RMSE.\n",
    "\n",
    "       Final objective value: 0.986887\n",
    "\n",
    "       Final training RMSE: 0.699282\n",
    "        \n",
    "RANK FACTORIZATION: \n",
    "    Overall RMSE: 1.1560744967866963\n",
    "ITEM POPULARITY:\n",
    "    Overall RMSE: 1.0417647969439832\n",
    "ITEM SIMILARITY:\n",
    "    Overall RMSE: 3.3611173142529913 \n",
    "'''\n",
    "    \n",
    "    "
   ]
  },
  {
   "cell_type": "markdown",
   "metadata": {},
   "source": [
    "#### Step 2: Report Confusion Matrix Metrics, Precision and Recall\n",
    "\n",
    "---\n",
    "\n",
    "Precision and Recall are two metrices to evaluate the performance of recommender model. Compare and report all three recommender models according to their precision and recall scores."
   ]
  },
  {
   "cell_type": "code",
   "execution_count": null,
   "metadata": {},
   "outputs": [],
   "source": [
    "'''\n",
    "PROGRESS: Evaluate model Rank Factorization Model\n",
    "\n",
    "Precision and recall summary statistics by cutoff\n",
    "+--------+---------------------+----------------------+\n",
    "| cutoff |    mean_precision   |     mean_recall      |\n",
    "+--------+---------------------+----------------------+\n",
    "|   1    | 0.09331919406150571 | 0.009331919406150595 |\n",
    "|   2    | 0.11505832449628839 | 0.023011664899257683 |\n",
    "|   3    |  0.1244255920820078 | 0.03732767762460233  |\n",
    "|   4    |  0.1211558854718982 | 0.04846235418875934  |\n",
    "|   5    |  0.1172852598091199 | 0.05864262990455995  |\n",
    "|   6    | 0.11223047013078834 | 0.06733828207847303  |\n",
    "|   7    | 0.10831692167853364 | 0.07582184517497345  |\n",
    "|   8    | 0.10538176033934252 | 0.08430540827147398  |\n",
    "|   9    | 0.10250972074938138 | 0.09225874867444339  |\n",
    "|   10   | 0.10084835630965008 | 0.10084835630965008  |\n",
    "+--------+---------------------+----------------------+\n",
    "[10 rows x 3 columns]\n",
    "\n",
    "PROGRESS: Evaluate model Item Popularity Model\n",
    "\n",
    "Precision and recall summary statistics by cutoff\n",
    "+--------+------------------------+------------------------+\n",
    "| cutoff |     mean_precision     |      mean_recall       |\n",
    "+--------+------------------------+------------------------+\n",
    "|   1    | 0.0010604453870625672  | 0.00010604453870625672 |\n",
    "|   2    | 0.0005302226935312836  | 0.00010604453870625672 |\n",
    "|   3    | 0.0003534817956875224  | 0.00010604453870625672 |\n",
    "|   4    | 0.0002651113467656418  | 0.00010604453870625672 |\n",
    "|   5    | 0.00021208907741251343 | 0.00010604453870625672 |\n",
    "|   6    | 0.0001767408978437612  | 0.00010604453870625672 |\n",
    "|   7    | 0.00015149219815179524 | 0.00010604453870625672 |\n",
    "|   8    | 0.0001325556733828209  | 0.00010604453870625672 |\n",
    "|   9    | 0.00023565453045834805 | 0.00021208907741251343 |\n",
    "|   10   | 0.00021208907741251343 | 0.00021208907741251343 |\n",
    "+--------+------------------------+------------------------+\n",
    "[10 rows x 3 columns]\n",
    "\n",
    "PROGRESS: Evaluate model Item Similarity Model\n",
    "\n",
    "Precision and recall summary statistics by cutoff\n",
    "+--------+---------------------+----------------------+\n",
    "| cutoff |    mean_precision   |     mean_recall      |\n",
    "+--------+---------------------+----------------------+\n",
    "|   1    | 0.08377518557794278 | 0.008377518557794278 |\n",
    "|   2    |  0.0843054082714741 | 0.016861081654294802 |\n",
    "|   3    | 0.07211028632025453 | 0.021633085896076345 |\n",
    "|   4    | 0.06813361611876984 | 0.02725344644750797  |\n",
    "|   5    | 0.06808059384941685 | 0.034040296924708426 |\n",
    "|   6    | 0.06981265464828569 | 0.04188759278897143  |\n",
    "|   7    | 0.07226177851840623 | 0.050583244962884424 |\n",
    "|   8    | 0.07277306468716876 | 0.05821845174973494  |\n",
    "|   9    |  0.0709320136679628 | 0.06383881230116648  |\n",
    "|   10   | 0.07211028632025451 | 0.07211028632025451  |\n",
    "+--------+---------------------+----------------------+\n",
    "'''\n",
    "\n"
   ]
  },
  {
   "cell_type": "markdown",
   "metadata": {},
   "source": [
    "### Final Report\n",
    "\n",
    "---\n",
    "\n",
    "Summary the whole process. What did you understand? What kind of actions that may increase the accuracy of recommender models? Write some suggestions."
   ]
  },
  {
   "cell_type": "code",
   "execution_count": null,
   "metadata": {},
   "outputs": [],
   "source": []
  },
  {
   "cell_type": "markdown",
   "metadata": {},
   "source": [
    "## Submission\n",
    "\n",
    "---\n",
    "\n",
    "You need to submit your source code as .py file or .ipynb (ipython notebook). The report of your study should be in .pdf format. Take snapshots of the results that you get in each step of the project and explain your outcomes below of these snap."
   ]
  },
  {
   "cell_type": "code",
   "execution_count": null,
   "metadata": {},
   "outputs": [],
   "source": []
  }
 ],
 "metadata": {
  "kernelspec": {
   "display_name": "Python 3",
   "language": "python",
   "name": "python3"
  },
  "language_info": {
   "codemirror_mode": {
    "name": "ipython",
    "version": 3
   },
   "file_extension": ".py",
   "mimetype": "text/x-python",
   "name": "python",
   "nbconvert_exporter": "python",
   "pygments_lexer": "ipython3",
   "version": "3.6.4"
  }
 },
 "nbformat": 4,
 "nbformat_minor": 2
}
