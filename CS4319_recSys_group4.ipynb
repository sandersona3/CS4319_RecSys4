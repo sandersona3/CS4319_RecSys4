{
 "cells": [
  {
   "cell_type": "code",
   "execution_count": 1,
   "metadata": {},
   "outputs": [],
   "source": [
    "import numpy as np\n",
    "from tkinter import *\n",
    "from lightfm.datasets import fetch_movielens\n",
    "from lightfm import LightFM\n",
    "from sklearn.metrics.pairwise import cosine_similarity\n",
    "import pandas as pd\n",
    "import importlib\n",
    "import time\n",
    "\n",
    "#-----------------------------------------------------------------------------------------------------------------\n",
    "'''Used to make a time stamp print out'''\n",
    "#from recSys4t import *\n",
    "#print(clock)\n",
    "\n",
    "'''used to import turicreate file'''\n",
    "import turicreate as tc\n",
    "from recSys4tc import turiWork\n",
    "from recSys4tc import itemSim\n",
    "from tcCompare import *\n",
    "#turiWork()\n",
    "#-----------------------------------------------------------------------------------------------------------------\n"
   ]
  },
  {
   "cell_type": "code",
   "execution_count": 2,
   "metadata": {},
   "outputs": [],
   "source": [
    "#fetch data from Lightfm, use movies with user rating of 4.0 or greater\n",
    "data = fetch_movielens(min_rating=4.0)\n",
    "\n",
    "#create model\n",
    "model = LightFM(loss='warp')\n",
    "\n",
    "#train model\n",
    "model.fit(data['train'], epochs=32, num_threads=4)\n",
    "\n",
    "#Create a return option to cycle through all the options\n",
    "again = 'y'\n",
    "        "
   ]
  },
  {
   "cell_type": "code",
   "execution_count": 3,
   "metadata": {},
   "outputs": [
    {
     "name": "stdout",
     "output_type": "stream",
     "text": [
      "\n",
      "1.) Terminal \n",
      "2.) GUI \n",
      "\n",
      "Choice:  1\n",
      "Welcome to the CS4319 Movie Recommender System\n",
      "Please select one of the following:\n",
      "1.) Recommend movies for 3 users\n",
      "2.) Search for similar movies\n",
      "3.) Recommend most popular movies\n",
      "4.) Turicreate Compare\n",
      "\n",
      "Selection:  1\n",
      "Select movies for users:\n",
      "user 1: 1\n",
      "user 2: 2\n",
      "user 3: 4\n",
      "------------------------------------------\n",
      "User 1\n",
      "Favorite Movies:\n",
      "Toy Story (1995)\n",
      "Postino, Il (1994)\n",
      "Birdcage, The (1996)\n",
      "Fargo (1996)\n",
      "Truth About Cats & Dogs, The (1996)\n",
      "\n",
      "Recommended Movies:\n",
      "English Patient, The (1996)\n",
      "Sense and Sensibility (1995)\n",
      "L.A. Confidential (1997)\n",
      "Full Monty, The (1997)\n",
      "Contact (1997)\n",
      "------------------------------------------\n",
      "User 2\n",
      "Favorite Movies:\n",
      "Return of the Jedi (1983)\n",
      "Event Horizon (1997)\n",
      "Schindler's List (1993)\n",
      "Paradise Lost: The Child Murders at Robin Hood Hills (1996)\n",
      "Mother (1996)\n",
      "\n",
      "Recommended Movies:\n",
      "Scream (1996)\n",
      "Titanic (1997)\n",
      "L.A. Confidential (1997)\n",
      "Game, The (1997)\n",
      "Contact (1997)\n",
      "------------------------------------------\n",
      "User 4\n",
      "Favorite Movies:\n",
      "Rumble in the Bronx (1995)\n",
      "Batman Forever (1995)\n",
      "To Wong Foo, Thanks for Everything! Julie Newmar (1995)\n",
      "Clerks (1994)\n",
      "Star Wars (1977)\n",
      "\n",
      "Recommended Movies:\n",
      "Empire Strikes Back, The (1980)\n",
      "Star Wars (1977)\n",
      "Raiders of the Lost Ark (1981)\n",
      "Star Trek: The Wrath of Khan (1982)\n",
      "Blade Runner (1982)\n",
      "Would you like to restart the program? (y/n) y\n",
      "\n",
      "1.) Terminal \n",
      "2.) GUI \n",
      "\n",
      "Choice:  1\n",
      "Welcome to the CS4319 Movie Recommender System\n",
      "Please select one of the following:\n",
      "1.) Recommend movies for 3 users\n",
      "2.) Search for similar movies\n",
      "3.) Recommend most popular movies\n",
      "4.) Turicreate Compare\n",
      "\n",
      "Selection:  2\n",
      "(1)Toy Story (1995)\n",
      "(2)GoldenEye (1995)\n",
      "(3)Four Rooms (1995)\n",
      "(4)Get Shorty (1995)\n",
      "(5)Copycat (1995)\n",
      "(0) View More\n",
      "Selection:  0\n",
      "(1)Toy Story (1995)\n",
      "(2)GoldenEye (1995)\n",
      "(3)Four Rooms (1995)\n",
      "(4)Get Shorty (1995)\n",
      "(5)Copycat (1995)\n",
      "(6)Shanghai Triad (Yao a yao yao dao waipo qiao) (1995)\n",
      "(7)Twelve Monkeys (1995)\n",
      "(8)Babe (1995)\n",
      "(9)Dead Man Walking (1995)\n",
      "(10)Richard III (1995)\n",
      "(0) View More\n",
      "(1)Toy Story (1995)\n",
      "(2)GoldenEye (1995)\n",
      "(3)Four Rooms (1995)\n",
      "(4)Get Shorty (1995)\n",
      "(5)Copycat (1995)\n",
      "(6)Shanghai Triad (Yao a yao yao dao waipo qiao) (1995)\n",
      "(7)Twelve Monkeys (1995)\n",
      "(8)Babe (1995)\n",
      "(9)Dead Man Walking (1995)\n",
      "(10)Richard III (1995)\n",
      "(0) View More\n",
      "Selection:  8\n",
      "Great! You might also like these movies: \n",
      " \n",
      "['Babe (1995)' 'Four Weddings and a Funeral (1994)' 'Rob Roy (1995)'\n",
      " 'Much Ado About Nothing (1993)' 'Fried Green Tomatoes (1991)']\n",
      "Would you like to restart the program? (y/n) y\n",
      "\n",
      "1.) Terminal \n",
      "2.) GUI \n",
      "\n",
      "Choice:  1\n",
      "Welcome to the CS4319 Movie Recommender System\n",
      "Please select one of the following:\n",
      "1.) Recommend movies for 3 users\n",
      "2.) Search for similar movies\n",
      "3.) Recommend most popular movies\n",
      "4.) Turicreate Compare\n",
      "\n",
      "Selection:  3\n",
      "Recommend top 5 popular movies to user:  16\n"
     ]
    },
    {
     "data": {
      "text/html": [
       "<pre>Recsys training: model = popularity</pre>"
      ],
      "text/plain": [
       "Recsys training: model = popularity"
      ]
     },
     "metadata": {},
     "output_type": "display_data"
    },
    {
     "data": {
      "text/html": [
       "<pre>Warning: Ignoring columns unix_timestamp;</pre>"
      ],
      "text/plain": [
       "Warning: Ignoring columns unix_timestamp;"
      ]
     },
     "metadata": {},
     "output_type": "display_data"
    },
    {
     "data": {
      "text/html": [
       "<pre>    To use these columns in scoring predictions, use a model that allows the use of additional features.</pre>"
      ],
      "text/plain": [
       "    To use these columns in scoring predictions, use a model that allows the use of additional features."
      ]
     },
     "metadata": {},
     "output_type": "display_data"
    },
    {
     "data": {
      "text/html": [
       "<pre>Preparing data set.</pre>"
      ],
      "text/plain": [
       "Preparing data set."
      ]
     },
     "metadata": {},
     "output_type": "display_data"
    },
    {
     "data": {
      "text/html": [
       "<pre>    Data has 90570 observations with 943 users and 1680 items.</pre>"
      ],
      "text/plain": [
       "    Data has 90570 observations with 943 users and 1680 items."
      ]
     },
     "metadata": {},
     "output_type": "display_data"
    },
    {
     "data": {
      "text/html": [
       "<pre>    Data prepared in: 0.074288s</pre>"
      ],
      "text/plain": [
       "    Data prepared in: 0.074288s"
      ]
     },
     "metadata": {},
     "output_type": "display_data"
    },
    {
     "data": {
      "text/html": [
       "<pre>90570 observations to process; with 1680 unique items.</pre>"
      ],
      "text/plain": [
       "90570 observations to process; with 1680 unique items."
      ]
     },
     "metadata": {},
     "output_type": "display_data"
    },
    {
     "name": "stdout",
     "output_type": "stream",
     "text": [
      "\n",
      "\n",
      "Great! User 16 may enjoy watching: \n",
      "1598    Someone Else's America (1995)\n",
      "Name: movie_title, dtype: object\n",
      "1200    Marlene Dietrich: Shadow and Light (1996) \n",
      "Name: movie_title, dtype: object\n",
      "1188    Prefontaine (1997)\n",
      "Name: movie_title, dtype: object\n",
      "1121    They Made Me a Criminal (1939)\n",
      "Name: movie_title, dtype: object\n",
      "813    Great Day in Harlem, A (1994)\n",
      "Name: movie_title, dtype: object\n",
      "Would you like to restart the program? (y/n) y\n",
      "\n",
      "1.) Terminal \n",
      "2.) GUI \n",
      "\n",
      "Choice:  1\n",
      "Welcome to the CS4319 Movie Recommender System\n",
      "Please select one of the following:\n",
      "1.) Recommend movies for 3 users\n",
      "2.) Search for similar movies\n",
      "3.) Recommend most popular movies\n",
      "4.) Turicreate Compare\n",
      "\n",
      "Selection:  4\n",
      "TURICREATE COMPARE\n",
      "Compare recommender algorithms for user 1 and 2\n",
      "Printing item Similarity algorithm:\n",
      "\n"
     ]
    },
    {
     "data": {
      "text/html": [
       "<pre>Recsys training: model = item_similarity</pre>"
      ],
      "text/plain": [
       "Recsys training: model = item_similarity"
      ]
     },
     "metadata": {},
     "output_type": "display_data"
    },
    {
     "data": {
      "text/html": [
       "<pre>Warning: Ignoring columns unix_timestamp;</pre>"
      ],
      "text/plain": [
       "Warning: Ignoring columns unix_timestamp;"
      ]
     },
     "metadata": {},
     "output_type": "display_data"
    },
    {
     "data": {
      "text/html": [
       "<pre>    To use these columns in scoring predictions, use a model that allows the use of additional features.</pre>"
      ],
      "text/plain": [
       "    To use these columns in scoring predictions, use a model that allows the use of additional features."
      ]
     },
     "metadata": {},
     "output_type": "display_data"
    },
    {
     "data": {
      "text/html": [
       "<pre>Preparing data set.</pre>"
      ],
      "text/plain": [
       "Preparing data set."
      ]
     },
     "metadata": {},
     "output_type": "display_data"
    },
    {
     "data": {
      "text/html": [
       "<pre>    Data has 90570 observations with 943 users and 1680 items.</pre>"
      ],
      "text/plain": [
       "    Data has 90570 observations with 943 users and 1680 items."
      ]
     },
     "metadata": {},
     "output_type": "display_data"
    },
    {
     "data": {
      "text/html": [
       "<pre>    Data prepared in: 0.102719s</pre>"
      ],
      "text/plain": [
       "    Data prepared in: 0.102719s"
      ]
     },
     "metadata": {},
     "output_type": "display_data"
    },
    {
     "data": {
      "text/html": [
       "<pre>Training model from provided data.</pre>"
      ],
      "text/plain": [
       "Training model from provided data."
      ]
     },
     "metadata": {},
     "output_type": "display_data"
    },
    {
     "data": {
      "text/html": [
       "<pre>Gathering per-item and per-user statistics.</pre>"
      ],
      "text/plain": [
       "Gathering per-item and per-user statistics."
      ]
     },
     "metadata": {},
     "output_type": "display_data"
    },
    {
     "data": {
      "text/html": [
       "<pre>+--------------------------------+------------+</pre>"
      ],
      "text/plain": [
       "+--------------------------------+------------+"
      ]
     },
     "metadata": {},
     "output_type": "display_data"
    },
    {
     "data": {
      "text/html": [
       "<pre>| Elapsed Time (Item Statistics) | % Complete |</pre>"
      ],
      "text/plain": [
       "| Elapsed Time (Item Statistics) | % Complete |"
      ]
     },
     "metadata": {},
     "output_type": "display_data"
    },
    {
     "data": {
      "text/html": [
       "<pre>+--------------------------------+------------+</pre>"
      ],
      "text/plain": [
       "+--------------------------------+------------+"
      ]
     },
     "metadata": {},
     "output_type": "display_data"
    },
    {
     "data": {
      "text/html": [
       "<pre>| 20.34ms                        | 100        |</pre>"
      ],
      "text/plain": [
       "| 20.34ms                        | 100        |"
      ]
     },
     "metadata": {},
     "output_type": "display_data"
    },
    {
     "data": {
      "text/html": [
       "<pre>+--------------------------------+------------+</pre>"
      ],
      "text/plain": [
       "+--------------------------------+------------+"
      ]
     },
     "metadata": {},
     "output_type": "display_data"
    },
    {
     "data": {
      "text/html": [
       "<pre>Setting up lookup tables.</pre>"
      ],
      "text/plain": [
       "Setting up lookup tables."
      ]
     },
     "metadata": {},
     "output_type": "display_data"
    },
    {
     "data": {
      "text/html": [
       "<pre>Processing data in one pass using dense lookup tables.</pre>"
      ],
      "text/plain": [
       "Processing data in one pass using dense lookup tables."
      ]
     },
     "metadata": {},
     "output_type": "display_data"
    },
    {
     "data": {
      "text/html": [
       "<pre>+-------------------------------------+------------------+-----------------+</pre>"
      ],
      "text/plain": [
       "+-------------------------------------+------------------+-----------------+"
      ]
     },
     "metadata": {},
     "output_type": "display_data"
    },
    {
     "data": {
      "text/html": [
       "<pre>| Elapsed Time (Constructing Lookups) | Total % Complete | Items Processed |</pre>"
      ],
      "text/plain": [
       "| Elapsed Time (Constructing Lookups) | Total % Complete | Items Processed |"
      ]
     },
     "metadata": {},
     "output_type": "display_data"
    },
    {
     "data": {
      "text/html": [
       "<pre>+-------------------------------------+------------------+-----------------+</pre>"
      ],
      "text/plain": [
       "+-------------------------------------+------------------+-----------------+"
      ]
     },
     "metadata": {},
     "output_type": "display_data"
    },
    {
     "data": {
      "text/html": [
       "<pre>| 45.874ms                            | 0.25             | 6               |</pre>"
      ],
      "text/plain": [
       "| 45.874ms                            | 0.25             | 6               |"
      ]
     },
     "metadata": {},
     "output_type": "display_data"
    },
    {
     "data": {
      "text/html": [
       "<pre>| 256.696ms                           | 100              | 1680            |</pre>"
      ],
      "text/plain": [
       "| 256.696ms                           | 100              | 1680            |"
      ]
     },
     "metadata": {},
     "output_type": "display_data"
    },
    {
     "data": {
      "text/html": [
       "<pre>+-------------------------------------+------------------+-----------------+</pre>"
      ],
      "text/plain": [
       "+-------------------------------------+------------------+-----------------+"
      ]
     },
     "metadata": {},
     "output_type": "display_data"
    },
    {
     "data": {
      "text/html": [
       "<pre>Finalizing lookup tables.</pre>"
      ],
      "text/plain": [
       "Finalizing lookup tables."
      ]
     },
     "metadata": {},
     "output_type": "display_data"
    },
    {
     "data": {
      "text/html": [
       "<pre>Generating candidate set for working with new users.</pre>"
      ],
      "text/plain": [
       "Generating candidate set for working with new users."
      ]
     },
     "metadata": {},
     "output_type": "display_data"
    },
    {
     "data": {
      "text/html": [
       "<pre>Finished training in 1.27211s</pre>"
      ],
      "text/plain": [
       "Finished training in 1.27211s"
      ]
     },
     "metadata": {},
     "output_type": "display_data"
    },
    {
     "name": "stdout",
     "output_type": "stream",
     "text": [
      "+---------+----------+--------------------+------+\n",
      "| user_id | movie_id |       score        | rank |\n",
      "+---------+----------+--------------------+------+\n",
      "|    1    |   423    | 0.9834008066708805 |  1   |\n",
      "|    1    |   202    | 0.9495907992352056 |  2   |\n",
      "|    1    |   655    | 0.7962183331260244 |  3   |\n",
      "|    1    |   403    | 0.765623665037956  |  4   |\n",
      "|    1    |   568    | 0.7563624343344273 |  5   |\n",
      "|    2    |    50    | 1.1256258487701416 |  1   |\n",
      "|    2    |   181    | 1.0651773168490484 |  2   |\n",
      "|    2    |    7     | 0.9998190838557023 |  3   |\n",
      "|    2    |   121    | 0.9225130241650802 |  4   |\n",
      "|    2    |    98    | 0.8564303609041067 |  5   |\n",
      "+---------+----------+--------------------+------+\n",
      "[10 rows x 4 columns]\n",
      "\n",
      "\n",
      "\n",
      "Great! User 1 may enjoy watching: \n",
      "422    E.T. the Extra-Terrestrial (1982)\n",
      "Name: movie_title, dtype: object\n",
      "201    Groundhog Day (1993)\n",
      "Name: movie_title, dtype: object\n",
      "654    Stand by Me (1986)\n",
      "Name: movie_title, dtype: object\n",
      "402    Batman (1989)\n",
      "Name: movie_title, dtype: object\n",
      "567    Speed (1994)\n",
      "Name: movie_title, dtype: object\n",
      "\n",
      "\n",
      "Great! User 2 may enjoy watching: \n",
      "49    Star Wars (1977)\n",
      "Name: movie_title, dtype: object\n",
      "180    Return of the Jedi (1983)\n",
      "Name: movie_title, dtype: object\n",
      "6    Twelve Monkeys (1995)\n",
      "Name: movie_title, dtype: object\n",
      "120    Independence Day (ID4) (1996)\n",
      "Name: movie_title, dtype: object\n",
      "97    Silence of the Lambs, The (1991)\n",
      "Name: movie_title, dtype: object\n",
      "\n",
      "Printing Item popularity algorithm:\n",
      "\n"
     ]
    },
    {
     "data": {
      "text/html": [
       "<pre>Recsys training: model = popularity</pre>"
      ],
      "text/plain": [
       "Recsys training: model = popularity"
      ]
     },
     "metadata": {},
     "output_type": "display_data"
    },
    {
     "data": {
      "text/html": [
       "<pre>Warning: Ignoring columns unix_timestamp;</pre>"
      ],
      "text/plain": [
       "Warning: Ignoring columns unix_timestamp;"
      ]
     },
     "metadata": {},
     "output_type": "display_data"
    },
    {
     "data": {
      "text/html": [
       "<pre>    To use these columns in scoring predictions, use a model that allows the use of additional features.</pre>"
      ],
      "text/plain": [
       "    To use these columns in scoring predictions, use a model that allows the use of additional features."
      ]
     },
     "metadata": {},
     "output_type": "display_data"
    },
    {
     "data": {
      "text/html": [
       "<pre>Preparing data set.</pre>"
      ],
      "text/plain": [
       "Preparing data set."
      ]
     },
     "metadata": {},
     "output_type": "display_data"
    },
    {
     "data": {
      "text/html": [
       "<pre>    Data has 90570 observations with 943 users and 1680 items.</pre>"
      ],
      "text/plain": [
       "    Data has 90570 observations with 943 users and 1680 items."
      ]
     },
     "metadata": {},
     "output_type": "display_data"
    },
    {
     "data": {
      "text/html": [
       "<pre>    Data prepared in: 0.086554s</pre>"
      ],
      "text/plain": [
       "    Data prepared in: 0.086554s"
      ]
     },
     "metadata": {},
     "output_type": "display_data"
    },
    {
     "data": {
      "text/html": [
       "<pre>90570 observations to process; with 1680 unique items.</pre>"
      ],
      "text/plain": [
       "90570 observations to process; with 1680 unique items."
      ]
     },
     "metadata": {},
     "output_type": "display_data"
    },
    {
     "name": "stdout",
     "output_type": "stream",
     "text": [
      "\n",
      "\n",
      "Great! User 1 may enjoy watching: \n",
      "1598    Someone Else's America (1995)\n",
      "Name: movie_title, dtype: object\n",
      "1200    Marlene Dietrich: Shadow and Light (1996) \n",
      "Name: movie_title, dtype: object\n",
      "1188    Prefontaine (1997)\n",
      "Name: movie_title, dtype: object\n",
      "1121    They Made Me a Criminal (1939)\n",
      "Name: movie_title, dtype: object\n",
      "813    Great Day in Harlem, A (1994)\n",
      "Name: movie_title, dtype: object\n",
      "\n",
      "\n",
      "Great! User 2 may enjoy watching: \n",
      "1598    Someone Else's America (1995)\n",
      "Name: movie_title, dtype: object\n",
      "1200    Marlene Dietrich: Shadow and Light (1996) \n",
      "Name: movie_title, dtype: object\n",
      "1188    Prefontaine (1997)\n",
      "Name: movie_title, dtype: object\n",
      "1121    They Made Me a Criminal (1939)\n",
      "Name: movie_title, dtype: object\n",
      "813    Great Day in Harlem, A (1994)\n",
      "Name: movie_title, dtype: object\n",
      "\n",
      "Printing Rank Factorization algorithm:\n",
      "\n"
     ]
    },
    {
     "data": {
      "text/html": [
       "<pre>Recsys training: model = ranking_factorization_recommender</pre>"
      ],
      "text/plain": [
       "Recsys training: model = ranking_factorization_recommender"
      ]
     },
     "metadata": {},
     "output_type": "display_data"
    },
    {
     "data": {
      "text/html": [
       "<pre>Preparing data set.</pre>"
      ],
      "text/plain": [
       "Preparing data set."
      ]
     },
     "metadata": {},
     "output_type": "display_data"
    },
    {
     "data": {
      "text/html": [
       "<pre>    Data has 90570 observations with 943 users and 1680 items.</pre>"
      ],
      "text/plain": [
       "    Data has 90570 observations with 943 users and 1680 items."
      ]
     },
     "metadata": {},
     "output_type": "display_data"
    },
    {
     "data": {
      "text/html": [
       "<pre>    Data prepared in: 0.083923s</pre>"
      ],
      "text/plain": [
       "    Data prepared in: 0.083923s"
      ]
     },
     "metadata": {},
     "output_type": "display_data"
    },
    {
     "data": {
      "text/html": [
       "<pre>Training ranking_factorization_recommender for recommendations.</pre>"
      ],
      "text/plain": [
       "Training ranking_factorization_recommender for recommendations."
      ]
     },
     "metadata": {},
     "output_type": "display_data"
    },
    {
     "data": {
      "text/html": [
       "<pre>+--------------------------------+--------------------------------------------------+----------+</pre>"
      ],
      "text/plain": [
       "+--------------------------------+--------------------------------------------------+----------+"
      ]
     },
     "metadata": {},
     "output_type": "display_data"
    },
    {
     "data": {
      "text/html": [
       "<pre>| Parameter                      | Description                                      | Value    |</pre>"
      ],
      "text/plain": [
       "| Parameter                      | Description                                      | Value    |"
      ]
     },
     "metadata": {},
     "output_type": "display_data"
    },
    {
     "data": {
      "text/html": [
       "<pre>+--------------------------------+--------------------------------------------------+----------+</pre>"
      ],
      "text/plain": [
       "+--------------------------------+--------------------------------------------------+----------+"
      ]
     },
     "metadata": {},
     "output_type": "display_data"
    },
    {
     "data": {
      "text/html": [
       "<pre>| num_factors                    | Factor Dimension                                 | 32       |</pre>"
      ],
      "text/plain": [
       "| num_factors                    | Factor Dimension                                 | 32       |"
      ]
     },
     "metadata": {},
     "output_type": "display_data"
    },
    {
     "data": {
      "text/html": [
       "<pre>| regularization                 | L2 Regularization on Factors                     | 1e-09    |</pre>"
      ],
      "text/plain": [
       "| regularization                 | L2 Regularization on Factors                     | 1e-09    |"
      ]
     },
     "metadata": {},
     "output_type": "display_data"
    },
    {
     "data": {
      "text/html": [
       "<pre>| solver                         | Solver used for training                         | adagrad  |</pre>"
      ],
      "text/plain": [
       "| solver                         | Solver used for training                         | adagrad  |"
      ]
     },
     "metadata": {},
     "output_type": "display_data"
    },
    {
     "data": {
      "text/html": [
       "<pre>| linear_regularization          | L2 Regularization on Linear Coefficients         | 1e-09    |</pre>"
      ],
      "text/plain": [
       "| linear_regularization          | L2 Regularization on Linear Coefficients         | 1e-09    |"
      ]
     },
     "metadata": {},
     "output_type": "display_data"
    },
    {
     "data": {
      "text/html": [
       "<pre>| ranking_regularization         | Rank-based Regularization Weight                 | 0.25     |</pre>"
      ],
      "text/plain": [
       "| ranking_regularization         | Rank-based Regularization Weight                 | 0.25     |"
      ]
     },
     "metadata": {},
     "output_type": "display_data"
    },
    {
     "data": {
      "text/html": [
       "<pre>| max_iterations                 | Maximum Number of Iterations                     | 25       |</pre>"
      ],
      "text/plain": [
       "| max_iterations                 | Maximum Number of Iterations                     | 25       |"
      ]
     },
     "metadata": {},
     "output_type": "display_data"
    },
    {
     "data": {
      "text/html": [
       "<pre>+--------------------------------+--------------------------------------------------+----------+</pre>"
      ],
      "text/plain": [
       "+--------------------------------+--------------------------------------------------+----------+"
      ]
     },
     "metadata": {},
     "output_type": "display_data"
    },
    {
     "data": {
      "text/html": [
       "<pre>  Optimizing model using SGD; tuning step size.</pre>"
      ],
      "text/plain": [
       "  Optimizing model using SGD; tuning step size."
      ]
     },
     "metadata": {},
     "output_type": "display_data"
    },
    {
     "data": {
      "text/html": [
       "<pre>  Using 11321 / 90570 points for tuning the step size.</pre>"
      ],
      "text/plain": [
       "  Using 11321 / 90570 points for tuning the step size."
      ]
     },
     "metadata": {},
     "output_type": "display_data"
    },
    {
     "data": {
      "text/html": [
       "<pre>+---------+-------------------+------------------------------------------+</pre>"
      ],
      "text/plain": [
       "+---------+-------------------+------------------------------------------+"
      ]
     },
     "metadata": {},
     "output_type": "display_data"
    },
    {
     "data": {
      "text/html": [
       "<pre>| Attempt | Initial Step Size | Estimated Objective Value                |</pre>"
      ],
      "text/plain": [
       "| Attempt | Initial Step Size | Estimated Objective Value                |"
      ]
     },
     "metadata": {},
     "output_type": "display_data"
    },
    {
     "data": {
      "text/html": [
       "<pre>+---------+-------------------+------------------------------------------+</pre>"
      ],
      "text/plain": [
       "+---------+-------------------+------------------------------------------+"
      ]
     },
     "metadata": {},
     "output_type": "display_data"
    },
    {
     "data": {
      "text/html": [
       "<pre>| 0       | 16.6667           | Not Viable                               |</pre>"
      ],
      "text/plain": [
       "| 0       | 16.6667           | Not Viable                               |"
      ]
     },
     "metadata": {},
     "output_type": "display_data"
    },
    {
     "data": {
      "text/html": [
       "<pre>| 1       | 4.16667           | Not Viable                               |</pre>"
      ],
      "text/plain": [
       "| 1       | 4.16667           | Not Viable                               |"
      ]
     },
     "metadata": {},
     "output_type": "display_data"
    },
    {
     "data": {
      "text/html": [
       "<pre>| 2       | 1.04167           | Not Viable                               |</pre>"
      ],
      "text/plain": [
       "| 2       | 1.04167           | Not Viable                               |"
      ]
     },
     "metadata": {},
     "output_type": "display_data"
    },
    {
     "data": {
      "text/html": [
       "<pre>| 3       | 0.260417          | 1.29626                                  |</pre>"
      ],
      "text/plain": [
       "| 3       | 0.260417          | 1.29626                                  |"
      ]
     },
     "metadata": {},
     "output_type": "display_data"
    },
    {
     "data": {
      "text/html": [
       "<pre>| 4       | 0.130208          | 1.35861                                  |</pre>"
      ],
      "text/plain": [
       "| 4       | 0.130208          | 1.35861                                  |"
      ]
     },
     "metadata": {},
     "output_type": "display_data"
    },
    {
     "data": {
      "text/html": [
       "<pre>| 5       | 0.0651042         | 1.68705                                  |</pre>"
      ],
      "text/plain": [
       "| 5       | 0.0651042         | 1.68705                                  |"
      ]
     },
     "metadata": {},
     "output_type": "display_data"
    },
    {
     "data": {
      "text/html": [
       "<pre>| 6       | 0.0325521         | 1.746                                    |</pre>"
      ],
      "text/plain": [
       "| 6       | 0.0325521         | 1.746                                    |"
      ]
     },
     "metadata": {},
     "output_type": "display_data"
    },
    {
     "data": {
      "text/html": [
       "<pre>+---------+-------------------+------------------------------------------+</pre>"
      ],
      "text/plain": [
       "+---------+-------------------+------------------------------------------+"
      ]
     },
     "metadata": {},
     "output_type": "display_data"
    },
    {
     "data": {
      "text/html": [
       "<pre>| Final   | 0.260417          | 1.29626                                  |</pre>"
      ],
      "text/plain": [
       "| Final   | 0.260417          | 1.29626                                  |"
      ]
     },
     "metadata": {},
     "output_type": "display_data"
    },
    {
     "data": {
      "text/html": [
       "<pre>+---------+-------------------+------------------------------------------+</pre>"
      ],
      "text/plain": [
       "+---------+-------------------+------------------------------------------+"
      ]
     },
     "metadata": {},
     "output_type": "display_data"
    },
    {
     "data": {
      "text/html": [
       "<pre>Starting Optimization.</pre>"
      ],
      "text/plain": [
       "Starting Optimization."
      ]
     },
     "metadata": {},
     "output_type": "display_data"
    },
    {
     "data": {
      "text/html": [
       "<pre>+---------+--------------+-------------------+-----------------------+-------------+</pre>"
      ],
      "text/plain": [
       "+---------+--------------+-------------------+-----------------------+-------------+"
      ]
     },
     "metadata": {},
     "output_type": "display_data"
    },
    {
     "data": {
      "text/html": [
       "<pre>| Iter.   | Elapsed Time | Approx. Objective | Approx. Training RMSE | Step Size   |</pre>"
      ],
      "text/plain": [
       "| Iter.   | Elapsed Time | Approx. Objective | Approx. Training RMSE | Step Size   |"
      ]
     },
     "metadata": {},
     "output_type": "display_data"
    },
    {
     "data": {
      "text/html": [
       "<pre>+---------+--------------+-------------------+-----------------------+-------------+</pre>"
      ],
      "text/plain": [
       "+---------+--------------+-------------------+-----------------------+-------------+"
      ]
     },
     "metadata": {},
     "output_type": "display_data"
    },
    {
     "data": {
      "text/html": [
       "<pre>| Initial | 72us         | 2.48614           | 1.12604               |             |</pre>"
      ],
      "text/plain": [
       "| Initial | 72us         | 2.48614           | 1.12604               |             |"
      ]
     },
     "metadata": {},
     "output_type": "display_data"
    },
    {
     "data": {
      "text/html": [
       "<pre>+---------+--------------+-------------------+-----------------------+-------------+</pre>"
      ],
      "text/plain": [
       "+---------+--------------+-------------------+-----------------------+-------------+"
      ]
     },
     "metadata": {},
     "output_type": "display_data"
    },
    {
     "data": {
      "text/html": [
       "<pre>| 1       | 400.695ms    | DIVERGED          | DIVERGED              | 0.260417    |</pre>"
      ],
      "text/plain": [
       "| 1       | 400.695ms    | DIVERGED          | DIVERGED              | 0.260417    |"
      ]
     },
     "metadata": {},
     "output_type": "display_data"
    },
    {
     "data": {
      "text/html": [
       "<pre>| RESET   | 516.539ms    | 2.4862            | 1.12607               |             |</pre>"
      ],
      "text/plain": [
       "| RESET   | 516.539ms    | 2.4862            | 1.12607               |             |"
      ]
     },
     "metadata": {},
     "output_type": "display_data"
    },
    {
     "data": {
      "text/html": [
       "<pre>| 1       | 1.10s        | 2.17835           | 1.18084               | 0.130208    |</pre>"
      ],
      "text/plain": [
       "| 1       | 1.10s        | 2.17835           | 1.18084               | 0.130208    |"
      ]
     },
     "metadata": {},
     "output_type": "display_data"
    },
    {
     "data": {
      "text/html": [
       "<pre>| 2       | 1.39s        | 1.65208           | 0.986313              | 0.130208    |</pre>"
      ],
      "text/plain": [
       "| 2       | 1.39s        | 1.65208           | 0.986313              | 0.130208    |"
      ]
     },
     "metadata": {},
     "output_type": "display_data"
    },
    {
     "data": {
      "text/html": [
       "<pre>| 3       | 1.71s        | 1.48785           | 0.924316              | 0.130208    |</pre>"
      ],
      "text/plain": [
       "| 3       | 1.71s        | 1.48785           | 0.924316              | 0.130208    |"
      ]
     },
     "metadata": {},
     "output_type": "display_data"
    },
    {
     "data": {
      "text/html": [
       "<pre>| 4       | 2.33s        | 1.38287           | 0.885861              | 0.130208    |</pre>"
      ],
      "text/plain": [
       "| 4       | 2.33s        | 1.38287           | 0.885861              | 0.130208    |"
      ]
     },
     "metadata": {},
     "output_type": "display_data"
    },
    {
     "data": {
      "text/html": [
       "<pre>| 5       | 2.67s        | 1.31134           | 0.856633              | 0.130208    |</pre>"
      ],
      "text/plain": [
       "| 5       | 2.67s        | 1.31134           | 0.856633              | 0.130208    |"
      ]
     },
     "metadata": {},
     "output_type": "display_data"
    },
    {
     "data": {
      "text/html": [
       "<pre>| 6       | 2.96s        | 1.25686           | 0.828233              | 0.130208    |</pre>"
      ],
      "text/plain": [
       "| 6       | 2.96s        | 1.25686           | 0.828233              | 0.130208    |"
      ]
     },
     "metadata": {},
     "output_type": "display_data"
    },
    {
     "data": {
      "text/html": [
       "<pre>| 9       | 4.22s        | 1.23489           | 0.791609              | 0.130208    |</pre>"
      ],
      "text/plain": [
       "| 9       | 4.22s        | 1.23489           | 0.791609              | 0.130208    |"
      ]
     },
     "metadata": {},
     "output_type": "display_data"
    },
    {
     "data": {
      "text/html": [
       "<pre>| 11      | 4.78s        | 1.17625           | 0.777203              | 0.130208    |</pre>"
      ],
      "text/plain": [
       "| 11      | 4.78s        | 1.17625           | 0.777203              | 0.130208    |"
      ]
     },
     "metadata": {},
     "output_type": "display_data"
    },
    {
     "data": {
      "text/html": [
       "<pre>| 14      | 5.72s        | 1.08537           | 0.761052              | 0.130208    |</pre>"
      ],
      "text/plain": [
       "| 14      | 5.72s        | 1.08537           | 0.761052              | 0.130208    |"
      ]
     },
     "metadata": {},
     "output_type": "display_data"
    },
    {
     "data": {
      "text/html": [
       "<pre>| 19      | 7.08s        | 1.00893           | 0.73719               | 0.130208    |</pre>"
      ],
      "text/plain": [
       "| 19      | 7.08s        | 1.00893           | 0.73719               | 0.130208    |"
      ]
     },
     "metadata": {},
     "output_type": "display_data"
    },
    {
     "data": {
      "text/html": [
       "<pre>| 24      | 8.55s        | 0.962114          | 0.718398              | 0.130208    |</pre>"
      ],
      "text/plain": [
       "| 24      | 8.55s        | 0.962114          | 0.718398              | 0.130208    |"
      ]
     },
     "metadata": {},
     "output_type": "display_data"
    },
    {
     "data": {
      "text/html": [
       "<pre>+---------+--------------+-------------------+-----------------------+-------------+</pre>"
      ],
      "text/plain": [
       "+---------+--------------+-------------------+-----------------------+-------------+"
      ]
     },
     "metadata": {},
     "output_type": "display_data"
    },
    {
     "data": {
      "text/html": [
       "<pre>Optimization Complete: Maximum number of passes through the data reached.</pre>"
      ],
      "text/plain": [
       "Optimization Complete: Maximum number of passes through the data reached."
      ]
     },
     "metadata": {},
     "output_type": "display_data"
    },
    {
     "data": {
      "text/html": [
       "<pre>Computing final objective value and training RMSE.</pre>"
      ],
      "text/plain": [
       "Computing final objective value and training RMSE."
      ]
     },
     "metadata": {},
     "output_type": "display_data"
    },
    {
     "data": {
      "text/html": [
       "<pre>       Final objective value: 0.96961</pre>"
      ],
      "text/plain": [
       "       Final objective value: 0.96961"
      ]
     },
     "metadata": {},
     "output_type": "display_data"
    },
    {
     "data": {
      "text/html": [
       "<pre>       Final training RMSE: 0.692909</pre>"
      ],
      "text/plain": [
       "       Final training RMSE: 0.692909"
      ]
     },
     "metadata": {},
     "output_type": "display_data"
    },
    {
     "name": "stdout",
     "output_type": "stream",
     "text": [
      "\n",
      "\n",
      "Great! User 1 may enjoy watching: \n",
      "407    Close Shave, A (1995)\n",
      "Name: movie_title, dtype: object\n",
      "473    Dr. Strangelove or: How I Learned to Stop Worr...\n",
      "Name: movie_title, dtype: object\n",
      "431    Fantasia (1940)\n",
      "Name: movie_title, dtype: object\n",
      "201    Groundhog Day (1993)\n",
      "Name: movie_title, dtype: object\n",
      "918    City of Lost Children, The (1995)\n",
      "Name: movie_title, dtype: object\n",
      "\n",
      "\n",
      "Great! User 2 may enjoy watching: \n",
      "125    Spitfire Grill, The (1996)\n",
      "Name: movie_title, dtype: object\n",
      "123    Lone Star (1996)\n",
      "Name: movie_title, dtype: object\n",
      "250    Shall We Dance? (1996)\n",
      "Name: movie_title, dtype: object\n",
      "291    Rosewood (1997)\n",
      "Name: movie_title, dtype: object\n",
      "514    Boot, Das (1981)\n",
      "Name: movie_title, dtype: object\n",
      "\n",
      "Print Model Comparison:\n",
      "\n"
     ]
    },
    {
     "data": {
      "text/html": [
       "<pre>Recsys training: model = ranking_factorization_recommender</pre>"
      ],
      "text/plain": [
       "Recsys training: model = ranking_factorization_recommender"
      ]
     },
     "metadata": {},
     "output_type": "display_data"
    },
    {
     "data": {
      "text/html": [
       "<pre>Preparing data set.</pre>"
      ],
      "text/plain": [
       "Preparing data set."
      ]
     },
     "metadata": {},
     "output_type": "display_data"
    },
    {
     "data": {
      "text/html": [
       "<pre>    Data has 90570 observations with 943 users and 1680 items.</pre>"
      ],
      "text/plain": [
       "    Data has 90570 observations with 943 users and 1680 items."
      ]
     },
     "metadata": {},
     "output_type": "display_data"
    },
    {
     "data": {
      "text/html": [
       "<pre>    Data prepared in: 0.079419s</pre>"
      ],
      "text/plain": [
       "    Data prepared in: 0.079419s"
      ]
     },
     "metadata": {},
     "output_type": "display_data"
    },
    {
     "data": {
      "text/html": [
       "<pre>Training ranking_factorization_recommender for recommendations.</pre>"
      ],
      "text/plain": [
       "Training ranking_factorization_recommender for recommendations."
      ]
     },
     "metadata": {},
     "output_type": "display_data"
    },
    {
     "data": {
      "text/html": [
       "<pre>+--------------------------------+--------------------------------------------------+----------+</pre>"
      ],
      "text/plain": [
       "+--------------------------------+--------------------------------------------------+----------+"
      ]
     },
     "metadata": {},
     "output_type": "display_data"
    },
    {
     "data": {
      "text/html": [
       "<pre>| Parameter                      | Description                                      | Value    |</pre>"
      ],
      "text/plain": [
       "| Parameter                      | Description                                      | Value    |"
      ]
     },
     "metadata": {},
     "output_type": "display_data"
    },
    {
     "data": {
      "text/html": [
       "<pre>+--------------------------------+--------------------------------------------------+----------+</pre>"
      ],
      "text/plain": [
       "+--------------------------------+--------------------------------------------------+----------+"
      ]
     },
     "metadata": {},
     "output_type": "display_data"
    },
    {
     "data": {
      "text/html": [
       "<pre>| num_factors                    | Factor Dimension                                 | 32       |</pre>"
      ],
      "text/plain": [
       "| num_factors                    | Factor Dimension                                 | 32       |"
      ]
     },
     "metadata": {},
     "output_type": "display_data"
    },
    {
     "data": {
      "text/html": [
       "<pre>| regularization                 | L2 Regularization on Factors                     | 1e-09    |</pre>"
      ],
      "text/plain": [
       "| regularization                 | L2 Regularization on Factors                     | 1e-09    |"
      ]
     },
     "metadata": {},
     "output_type": "display_data"
    },
    {
     "data": {
      "text/html": [
       "<pre>| solver                         | Solver used for training                         | adagrad  |</pre>"
      ],
      "text/plain": [
       "| solver                         | Solver used for training                         | adagrad  |"
      ]
     },
     "metadata": {},
     "output_type": "display_data"
    },
    {
     "data": {
      "text/html": [
       "<pre>| linear_regularization          | L2 Regularization on Linear Coefficients         | 1e-09    |</pre>"
      ],
      "text/plain": [
       "| linear_regularization          | L2 Regularization on Linear Coefficients         | 1e-09    |"
      ]
     },
     "metadata": {},
     "output_type": "display_data"
    },
    {
     "data": {
      "text/html": [
       "<pre>| ranking_regularization         | Rank-based Regularization Weight                 | 0.25     |</pre>"
      ],
      "text/plain": [
       "| ranking_regularization         | Rank-based Regularization Weight                 | 0.25     |"
      ]
     },
     "metadata": {},
     "output_type": "display_data"
    },
    {
     "data": {
      "text/html": [
       "<pre>| max_iterations                 | Maximum Number of Iterations                     | 25       |</pre>"
      ],
      "text/plain": [
       "| max_iterations                 | Maximum Number of Iterations                     | 25       |"
      ]
     },
     "metadata": {},
     "output_type": "display_data"
    },
    {
     "data": {
      "text/html": [
       "<pre>+--------------------------------+--------------------------------------------------+----------+</pre>"
      ],
      "text/plain": [
       "+--------------------------------+--------------------------------------------------+----------+"
      ]
     },
     "metadata": {},
     "output_type": "display_data"
    },
    {
     "data": {
      "text/html": [
       "<pre>  Optimizing model using SGD; tuning step size.</pre>"
      ],
      "text/plain": [
       "  Optimizing model using SGD; tuning step size."
      ]
     },
     "metadata": {},
     "output_type": "display_data"
    },
    {
     "data": {
      "text/html": [
       "<pre>  Using 11321 / 90570 points for tuning the step size.</pre>"
      ],
      "text/plain": [
       "  Using 11321 / 90570 points for tuning the step size."
      ]
     },
     "metadata": {},
     "output_type": "display_data"
    },
    {
     "data": {
      "text/html": [
       "<pre>+---------+-------------------+------------------------------------------+</pre>"
      ],
      "text/plain": [
       "+---------+-------------------+------------------------------------------+"
      ]
     },
     "metadata": {},
     "output_type": "display_data"
    },
    {
     "data": {
      "text/html": [
       "<pre>| Attempt | Initial Step Size | Estimated Objective Value                |</pre>"
      ],
      "text/plain": [
       "| Attempt | Initial Step Size | Estimated Objective Value                |"
      ]
     },
     "metadata": {},
     "output_type": "display_data"
    },
    {
     "data": {
      "text/html": [
       "<pre>+---------+-------------------+------------------------------------------+</pre>"
      ],
      "text/plain": [
       "+---------+-------------------+------------------------------------------+"
      ]
     },
     "metadata": {},
     "output_type": "display_data"
    },
    {
     "data": {
      "text/html": [
       "<pre>| 0       | 16.6667           | Not Viable                               |</pre>"
      ],
      "text/plain": [
       "| 0       | 16.6667           | Not Viable                               |"
      ]
     },
     "metadata": {},
     "output_type": "display_data"
    },
    {
     "data": {
      "text/html": [
       "<pre>| 1       | 4.16667           | Not Viable                               |</pre>"
      ],
      "text/plain": [
       "| 1       | 4.16667           | Not Viable                               |"
      ]
     },
     "metadata": {},
     "output_type": "display_data"
    },
    {
     "data": {
      "text/html": [
       "<pre>| 2       | 1.04167           | Not Viable                               |</pre>"
      ],
      "text/plain": [
       "| 2       | 1.04167           | Not Viable                               |"
      ]
     },
     "metadata": {},
     "output_type": "display_data"
    },
    {
     "data": {
      "text/html": [
       "<pre>| 3       | 0.260417          | 1.19683                                  |</pre>"
      ],
      "text/plain": [
       "| 3       | 0.260417          | 1.19683                                  |"
      ]
     },
     "metadata": {},
     "output_type": "display_data"
    },
    {
     "data": {
      "text/html": [
       "<pre>| 4       | 0.130208          | 1.55902                                  |</pre>"
      ],
      "text/plain": [
       "| 4       | 0.130208          | 1.55902                                  |"
      ]
     },
     "metadata": {},
     "output_type": "display_data"
    },
    {
     "data": {
      "text/html": [
       "<pre>| 5       | 0.0651042         | 1.41411                                  |</pre>"
      ],
      "text/plain": [
       "| 5       | 0.0651042         | 1.41411                                  |"
      ]
     },
     "metadata": {},
     "output_type": "display_data"
    },
    {
     "data": {
      "text/html": [
       "<pre>| 6       | 0.0325521         | 1.76148                                  |</pre>"
      ],
      "text/plain": [
       "| 6       | 0.0325521         | 1.76148                                  |"
      ]
     },
     "metadata": {},
     "output_type": "display_data"
    },
    {
     "data": {
      "text/html": [
       "<pre>+---------+-------------------+------------------------------------------+</pre>"
      ],
      "text/plain": [
       "+---------+-------------------+------------------------------------------+"
      ]
     },
     "metadata": {},
     "output_type": "display_data"
    },
    {
     "data": {
      "text/html": [
       "<pre>| Final   | 0.260417          | 1.19683                                  |</pre>"
      ],
      "text/plain": [
       "| Final   | 0.260417          | 1.19683                                  |"
      ]
     },
     "metadata": {},
     "output_type": "display_data"
    },
    {
     "data": {
      "text/html": [
       "<pre>+---------+-------------------+------------------------------------------+</pre>"
      ],
      "text/plain": [
       "+---------+-------------------+------------------------------------------+"
      ]
     },
     "metadata": {},
     "output_type": "display_data"
    },
    {
     "data": {
      "text/html": [
       "<pre>Starting Optimization.</pre>"
      ],
      "text/plain": [
       "Starting Optimization."
      ]
     },
     "metadata": {},
     "output_type": "display_data"
    },
    {
     "data": {
      "text/html": [
       "<pre>+---------+--------------+-------------------+-----------------------+-------------+</pre>"
      ],
      "text/plain": [
       "+---------+--------------+-------------------+-----------------------+-------------+"
      ]
     },
     "metadata": {},
     "output_type": "display_data"
    },
    {
     "data": {
      "text/html": [
       "<pre>| Iter.   | Elapsed Time | Approx. Objective | Approx. Training RMSE | Step Size   |</pre>"
      ],
      "text/plain": [
       "| Iter.   | Elapsed Time | Approx. Objective | Approx. Training RMSE | Step Size   |"
      ]
     },
     "metadata": {},
     "output_type": "display_data"
    },
    {
     "data": {
      "text/html": [
       "<pre>+---------+--------------+-------------------+-----------------------+-------------+</pre>"
      ],
      "text/plain": [
       "+---------+--------------+-------------------+-----------------------+-------------+"
      ]
     },
     "metadata": {},
     "output_type": "display_data"
    },
    {
     "data": {
      "text/html": [
       "<pre>| Initial | 70us         | 2.48615           | 1.12605               |             |</pre>"
      ],
      "text/plain": [
       "| Initial | 70us         | 2.48615           | 1.12605               |             |"
      ]
     },
     "metadata": {},
     "output_type": "display_data"
    },
    {
     "data": {
      "text/html": [
       "<pre>+---------+--------------+-------------------+-----------------------+-------------+</pre>"
      ],
      "text/plain": [
       "+---------+--------------+-------------------+-----------------------+-------------+"
      ]
     },
     "metadata": {},
     "output_type": "display_data"
    },
    {
     "data": {
      "text/html": [
       "<pre>| 1       | 319.258ms    | 2.76031           | 1.36949               | 0.260417    |</pre>"
      ],
      "text/plain": [
       "| 1       | 319.258ms    | 2.76031           | 1.36949               | 0.260417    |"
      ]
     },
     "metadata": {},
     "output_type": "display_data"
    },
    {
     "data": {
      "text/html": [
       "<pre>| 2       | 620.957ms    | 1.65208           | 0.982694              | 0.260417    |</pre>"
      ],
      "text/plain": [
       "| 2       | 620.957ms    | 1.65208           | 0.982694              | 0.260417    |"
      ]
     },
     "metadata": {},
     "output_type": "display_data"
    },
    {
     "data": {
      "text/html": [
       "<pre>| 3       | 979.381ms    | 1.4152            | 0.897207              | 0.260417    |</pre>"
      ],
      "text/plain": [
       "| 3       | 979.381ms    | 1.4152            | 0.897207              | 0.260417    |"
      ]
     },
     "metadata": {},
     "output_type": "display_data"
    },
    {
     "data": {
      "text/html": [
       "<pre>| 4       | 1.29s        | 1.2971            | 0.843112              | 0.260417    |</pre>"
      ],
      "text/plain": [
       "| 4       | 1.29s        | 1.2971            | 0.843112              | 0.260417    |"
      ]
     },
     "metadata": {},
     "output_type": "display_data"
    },
    {
     "data": {
      "text/html": [
       "<pre>| 5       | 1.60s        | 1.35043           | 0.84009               | 0.260417    |</pre>"
      ],
      "text/plain": [
       "| 5       | 1.60s        | 1.35043           | 0.84009               | 0.260417    |"
      ]
     },
     "metadata": {},
     "output_type": "display_data"
    },
    {
     "data": {
      "text/html": [
       "<pre>| 6       | 1.91s        | 1.27142           | 0.830501              | 0.260417    |</pre>"
      ],
      "text/plain": [
       "| 6       | 1.91s        | 1.27142           | 0.830501              | 0.260417    |"
      ]
     },
     "metadata": {},
     "output_type": "display_data"
    },
    {
     "data": {
      "text/html": [
       "<pre>| 10      | 3.70s        | 1.05936           | 0.765284              | 0.260417    |</pre>"
      ],
      "text/plain": [
       "| 10      | 3.70s        | 1.05936           | 0.765284              | 0.260417    |"
      ]
     },
     "metadata": {},
     "output_type": "display_data"
    },
    {
     "data": {
      "text/html": [
       "<pre>| 11      | 4.20s        | 1.03228           | 0.755821              | 0.260417    |</pre>"
      ],
      "text/plain": [
       "| 11      | 4.20s        | 1.03228           | 0.755821              | 0.260417    |"
      ]
     },
     "metadata": {},
     "output_type": "display_data"
    },
    {
     "data": {
      "text/html": [
       "<pre>| 15      | 5.49s        | 0.968543          | 0.731171              | 0.260417    |</pre>"
      ],
      "text/plain": [
       "| 15      | 5.49s        | 0.968543          | 0.731171              | 0.260417    |"
      ]
     },
     "metadata": {},
     "output_type": "display_data"
    },
    {
     "data": {
      "text/html": [
       "<pre>| 20      | 6.92s        | 0.920236          | 0.710179              | 0.260417    |</pre>"
      ],
      "text/plain": [
       "| 20      | 6.92s        | 0.920236          | 0.710179              | 0.260417    |"
      ]
     },
     "metadata": {},
     "output_type": "display_data"
    },
    {
     "data": {
      "text/html": [
       "<pre>| 25      | 8.32s        | 0.889603          | 0.697146              | 0.260417    |</pre>"
      ],
      "text/plain": [
       "| 25      | 8.32s        | 0.889603          | 0.697146              | 0.260417    |"
      ]
     },
     "metadata": {},
     "output_type": "display_data"
    },
    {
     "data": {
      "text/html": [
       "<pre>+---------+--------------+-------------------+-----------------------+-------------+</pre>"
      ],
      "text/plain": [
       "+---------+--------------+-------------------+-----------------------+-------------+"
      ]
     },
     "metadata": {},
     "output_type": "display_data"
    },
    {
     "data": {
      "text/html": [
       "<pre>Optimization Complete: Maximum number of passes through the data reached.</pre>"
      ],
      "text/plain": [
       "Optimization Complete: Maximum number of passes through the data reached."
      ]
     },
     "metadata": {},
     "output_type": "display_data"
    },
    {
     "data": {
      "text/html": [
       "<pre>Computing final objective value and training RMSE.</pre>"
      ],
      "text/plain": [
       "Computing final objective value and training RMSE."
      ]
     },
     "metadata": {},
     "output_type": "display_data"
    },
    {
     "data": {
      "text/html": [
       "<pre>       Final objective value: 0.900435</pre>"
      ],
      "text/plain": [
       "       Final objective value: 0.900435"
      ]
     },
     "metadata": {},
     "output_type": "display_data"
    },
    {
     "data": {
      "text/html": [
       "<pre>       Final training RMSE: 0.663463</pre>"
      ],
      "text/plain": [
       "       Final training RMSE: 0.663463"
      ]
     },
     "metadata": {},
     "output_type": "display_data"
    },
    {
     "data": {
      "text/html": [
       "<pre>Recsys training: model = popularity</pre>"
      ],
      "text/plain": [
       "Recsys training: model = popularity"
      ]
     },
     "metadata": {},
     "output_type": "display_data"
    },
    {
     "data": {
      "text/html": [
       "<pre>Warning: Ignoring columns unix_timestamp;</pre>"
      ],
      "text/plain": [
       "Warning: Ignoring columns unix_timestamp;"
      ]
     },
     "metadata": {},
     "output_type": "display_data"
    },
    {
     "data": {
      "text/html": [
       "<pre>    To use these columns in scoring predictions, use a model that allows the use of additional features.</pre>"
      ],
      "text/plain": [
       "    To use these columns in scoring predictions, use a model that allows the use of additional features."
      ]
     },
     "metadata": {},
     "output_type": "display_data"
    },
    {
     "data": {
      "text/html": [
       "<pre>Preparing data set.</pre>"
      ],
      "text/plain": [
       "Preparing data set."
      ]
     },
     "metadata": {},
     "output_type": "display_data"
    },
    {
     "data": {
      "text/html": [
       "<pre>    Data has 90570 observations with 943 users and 1680 items.</pre>"
      ],
      "text/plain": [
       "    Data has 90570 observations with 943 users and 1680 items."
      ]
     },
     "metadata": {},
     "output_type": "display_data"
    },
    {
     "data": {
      "text/html": [
       "<pre>    Data prepared in: 0.064497s</pre>"
      ],
      "text/plain": [
       "    Data prepared in: 0.064497s"
      ]
     },
     "metadata": {},
     "output_type": "display_data"
    },
    {
     "data": {
      "text/html": [
       "<pre>90570 observations to process; with 1680 unique items.</pre>"
      ],
      "text/plain": [
       "90570 observations to process; with 1680 unique items."
      ]
     },
     "metadata": {},
     "output_type": "display_data"
    },
    {
     "data": {
      "text/html": [
       "<pre>Recsys training: model = item_similarity</pre>"
      ],
      "text/plain": [
       "Recsys training: model = item_similarity"
      ]
     },
     "metadata": {},
     "output_type": "display_data"
    },
    {
     "data": {
      "text/html": [
       "<pre>Warning: Ignoring columns unix_timestamp;</pre>"
      ],
      "text/plain": [
       "Warning: Ignoring columns unix_timestamp;"
      ]
     },
     "metadata": {},
     "output_type": "display_data"
    },
    {
     "data": {
      "text/html": [
       "<pre>    To use these columns in scoring predictions, use a model that allows the use of additional features.</pre>"
      ],
      "text/plain": [
       "    To use these columns in scoring predictions, use a model that allows the use of additional features."
      ]
     },
     "metadata": {},
     "output_type": "display_data"
    },
    {
     "data": {
      "text/html": [
       "<pre>Preparing data set.</pre>"
      ],
      "text/plain": [
       "Preparing data set."
      ]
     },
     "metadata": {},
     "output_type": "display_data"
    },
    {
     "data": {
      "text/html": [
       "<pre>    Data has 90570 observations with 943 users and 1680 items.</pre>"
      ],
      "text/plain": [
       "    Data has 90570 observations with 943 users and 1680 items."
      ]
     },
     "metadata": {},
     "output_type": "display_data"
    },
    {
     "data": {
      "text/html": [
       "<pre>    Data prepared in: 0.072394s</pre>"
      ],
      "text/plain": [
       "    Data prepared in: 0.072394s"
      ]
     },
     "metadata": {},
     "output_type": "display_data"
    },
    {
     "data": {
      "text/html": [
       "<pre>Training model from provided data.</pre>"
      ],
      "text/plain": [
       "Training model from provided data."
      ]
     },
     "metadata": {},
     "output_type": "display_data"
    },
    {
     "data": {
      "text/html": [
       "<pre>Gathering per-item and per-user statistics.</pre>"
      ],
      "text/plain": [
       "Gathering per-item and per-user statistics."
      ]
     },
     "metadata": {},
     "output_type": "display_data"
    },
    {
     "data": {
      "text/html": [
       "<pre>+--------------------------------+------------+</pre>"
      ],
      "text/plain": [
       "+--------------------------------+------------+"
      ]
     },
     "metadata": {},
     "output_type": "display_data"
    },
    {
     "data": {
      "text/html": [
       "<pre>| Elapsed Time (Item Statistics) | % Complete |</pre>"
      ],
      "text/plain": [
       "| Elapsed Time (Item Statistics) | % Complete |"
      ]
     },
     "metadata": {},
     "output_type": "display_data"
    },
    {
     "data": {
      "text/html": [
       "<pre>+--------------------------------+------------+</pre>"
      ],
      "text/plain": [
       "+--------------------------------+------------+"
      ]
     },
     "metadata": {},
     "output_type": "display_data"
    },
    {
     "data": {
      "text/html": [
       "<pre>| 4.632ms                        | 100        |</pre>"
      ],
      "text/plain": [
       "| 4.632ms                        | 100        |"
      ]
     },
     "metadata": {},
     "output_type": "display_data"
    },
    {
     "data": {
      "text/html": [
       "<pre>+--------------------------------+------------+</pre>"
      ],
      "text/plain": [
       "+--------------------------------+------------+"
      ]
     },
     "metadata": {},
     "output_type": "display_data"
    },
    {
     "data": {
      "text/html": [
       "<pre>Setting up lookup tables.</pre>"
      ],
      "text/plain": [
       "Setting up lookup tables."
      ]
     },
     "metadata": {},
     "output_type": "display_data"
    },
    {
     "data": {
      "text/html": [
       "<pre>Processing data in one pass using dense lookup tables.</pre>"
      ],
      "text/plain": [
       "Processing data in one pass using dense lookup tables."
      ]
     },
     "metadata": {},
     "output_type": "display_data"
    },
    {
     "data": {
      "text/html": [
       "<pre>+-------------------------------------+------------------+-----------------+</pre>"
      ],
      "text/plain": [
       "+-------------------------------------+------------------+-----------------+"
      ]
     },
     "metadata": {},
     "output_type": "display_data"
    },
    {
     "data": {
      "text/html": [
       "<pre>| Elapsed Time (Constructing Lookups) | Total % Complete | Items Processed |</pre>"
      ],
      "text/plain": [
       "| Elapsed Time (Constructing Lookups) | Total % Complete | Items Processed |"
      ]
     },
     "metadata": {},
     "output_type": "display_data"
    },
    {
     "data": {
      "text/html": [
       "<pre>+-------------------------------------+------------------+-----------------+</pre>"
      ],
      "text/plain": [
       "+-------------------------------------+------------------+-----------------+"
      ]
     },
     "metadata": {},
     "output_type": "display_data"
    },
    {
     "data": {
      "text/html": [
       "<pre>| 12.839ms                            | 0.25             | 6               |</pre>"
      ],
      "text/plain": [
       "| 12.839ms                            | 0.25             | 6               |"
      ]
     },
     "metadata": {},
     "output_type": "display_data"
    },
    {
     "data": {
      "text/html": [
       "<pre>| 219.633ms                           | 100              | 1680            |</pre>"
      ],
      "text/plain": [
       "| 219.633ms                           | 100              | 1680            |"
      ]
     },
     "metadata": {},
     "output_type": "display_data"
    },
    {
     "data": {
      "text/html": [
       "<pre>+-------------------------------------+------------------+-----------------+</pre>"
      ],
      "text/plain": [
       "+-------------------------------------+------------------+-----------------+"
      ]
     },
     "metadata": {},
     "output_type": "display_data"
    },
    {
     "data": {
      "text/html": [
       "<pre>Finalizing lookup tables.</pre>"
      ],
      "text/plain": [
       "Finalizing lookup tables."
      ]
     },
     "metadata": {},
     "output_type": "display_data"
    },
    {
     "data": {
      "text/html": [
       "<pre>Generating candidate set for working with new users.</pre>"
      ],
      "text/plain": [
       "Generating candidate set for working with new users."
      ]
     },
     "metadata": {},
     "output_type": "display_data"
    },
    {
     "data": {
      "text/html": [
       "<pre>Finished training in 0.231675s</pre>"
      ],
      "text/plain": [
       "Finished training in 0.231675s"
      ]
     },
     "metadata": {},
     "output_type": "display_data"
    },
    {
     "name": "stdout",
     "output_type": "stream",
     "text": [
      "PROGRESS: Evaluate model Rank Factorization Model\n",
      "\n",
      "Precision and recall summary statistics by cutoff\n",
      "+--------+---------------------+----------------------+\n",
      "| cutoff |    mean_precision   |     mean_recall      |\n",
      "+--------+---------------------+----------------------+\n",
      "|   1    | 0.11346765641569474 | 0.011346765641569459 |\n",
      "|   2    | 0.11346765641569465 | 0.022693531283138935 |\n",
      "|   3    | 0.11806291975963241 | 0.03541887592788974  |\n",
      "|   4    | 0.11585365853658551 | 0.04634146341463414  |\n",
      "|   5    | 0.11283138918345693 | 0.05641569459172847  |\n",
      "|   6    |  0.1081654294803818 |  0.0648992576882293  |\n",
      "|   7    | 0.11028632025450695 | 0.07720042417815476  |\n",
      "|   8    |  0.1061770943796394 | 0.08494167550371157  |\n",
      "|   9    | 0.10286320254506894 | 0.09257688229056202  |\n",
      "|   10   |  0.1007423117709438 |  0.1007423117709438  |\n",
      "+--------+---------------------+----------------------+\n",
      "[10 rows x 3 columns]\n",
      "\n",
      "\n",
      "Overall RMSE: 1.3673558000829704\n",
      "\n",
      "Per User RMSE (best)\n",
      "+---------+--------------------+-------+\n",
      "| user_id |        rmse        | count |\n",
      "+---------+--------------------+-------+\n",
      "|   259   | 0.3861161038819999 |   10  |\n",
      "+---------+--------------------+-------+\n",
      "[1 rows x 3 columns]\n",
      "\n",
      "\n",
      "Per User RMSE (worst)\n",
      "+---------+-------------------+-------+\n",
      "| user_id |        rmse       | count |\n",
      "+---------+-------------------+-------+\n",
      "|   675   | 2.893074222451913 |   10  |\n",
      "+---------+-------------------+-------+\n",
      "[1 rows x 3 columns]\n",
      "\n",
      "\n",
      "Per Item RMSE (best)\n",
      "+----------+----------------------+-------+\n",
      "| movie_id |         rmse         | count |\n",
      "+----------+----------------------+-------+\n",
      "|   1081   | 0.005781413857814943 |   1   |\n",
      "+----------+----------------------+-------+\n",
      "[1 rows x 3 columns]\n",
      "\n",
      "\n",
      "Per Item RMSE (worst)\n",
      "+----------+-------------------+-------+\n",
      "| movie_id |        rmse       | count |\n",
      "+----------+-------------------+-------+\n",
      "|   1591   | 5.133078524029164 |   1   |\n",
      "+----------+-------------------+-------+\n",
      "[1 rows x 3 columns]\n",
      "\n",
      "PROGRESS: Evaluate model Item Popularity Model\n",
      "\n",
      "Precision and recall summary statistics by cutoff\n",
      "+--------+------------------------+------------------------+\n",
      "| cutoff |     mean_precision     |      mean_recall       |\n",
      "+--------+------------------------+------------------------+\n",
      "|   1    |          0.0           |          0.0           |\n",
      "|   2    |          0.0           |          0.0           |\n",
      "|   3    |          0.0           |          0.0           |\n",
      "|   4    |          0.0           |          0.0           |\n",
      "|   5    |          0.0           |          0.0           |\n",
      "|   6    |          0.0           |          0.0           |\n",
      "|   7    | 0.0001514921981517952  | 0.00010604453870625677 |\n",
      "|   8    | 0.0001325556733828209  | 0.00010604453870625677 |\n",
      "|   9    | 0.00023565453045834795 | 0.0002120890774125135  |\n",
      "|   10   | 0.0002120890774125135  | 0.0002120890774125135  |\n",
      "+--------+------------------------+------------------------+\n",
      "[10 rows x 3 columns]\n",
      "\n",
      "\n",
      "Overall RMSE: 1.0417647969439832\n",
      "\n",
      "Per User RMSE (best)\n",
      "+---------+--------------------+-------+\n",
      "| user_id |        rmse        | count |\n",
      "+---------+--------------------+-------+\n",
      "|    2    | 0.3905909929967786 |   10  |\n",
      "+---------+--------------------+-------+\n",
      "[1 rows x 3 columns]\n",
      "\n",
      "\n",
      "Per User RMSE (worst)\n",
      "+---------+--------------------+-------+\n",
      "| user_id |        rmse        | count |\n",
      "+---------+--------------------+-------+\n",
      "|   519   | 2.3300010092772054 |   10  |\n",
      "+---------+--------------------+-------+\n",
      "[1 rows x 3 columns]\n",
      "\n",
      "\n",
      "Per Item RMSE (best)\n",
      "+----------+------+-------+\n",
      "| movie_id | rmse | count |\n",
      "+----------+------+-------+\n",
      "|   643    | 0.0  |   1   |\n",
      "+----------+------+-------+\n",
      "[1 rows x 3 columns]\n",
      "\n",
      "\n",
      "Per Item RMSE (worst)\n",
      "+----------+------+-------+\n",
      "| movie_id | rmse | count |\n",
      "+----------+------+-------+\n",
      "|   1306   | 4.0  |   1   |\n",
      "+----------+------+-------+\n",
      "[1 rows x 3 columns]\n",
      "\n",
      "PROGRESS: Evaluate model Item Similarity Model\n",
      "\n",
      "Precision and recall summary statistics by cutoff\n",
      "+--------+---------------------+----------------------+\n",
      "| cutoff |    mean_precision   |     mean_recall      |\n",
      "+--------+---------------------+----------------------+\n",
      "|   1    | 0.08377518557794267 | 0.008377518557794285 |\n",
      "|   2    | 0.08536585365853668 | 0.01707317073170732  |\n",
      "|   3    | 0.07246376811594198 | 0.02173913043478263  |\n",
      "|   4    | 0.06680805938494162 | 0.026723223753976684 |\n",
      "|   5    | 0.06723223753976675 | 0.03361611876988337  |\n",
      "|   6    | 0.06839872746553569 | 0.04103923647932134  |\n",
      "|   7    | 0.07104984093319197 | 0.049734888653234374 |\n",
      "|   8    | 0.06985683987274663 | 0.055885471898197224 |\n",
      "|   9    | 0.06975374101567107 | 0.06277836691410388  |\n",
      "|   10   | 0.07009544008483574 | 0.07009544008483574  |\n",
      "+--------+---------------------+----------------------+\n",
      "[10 rows x 3 columns]\n",
      "\n",
      "\n",
      "Overall RMSE: 3.3609347925951703\n",
      "\n",
      "Per User RMSE (best)\n",
      "+---------+--------------------+-------+\n",
      "| user_id |        rmse        | count |\n",
      "+---------+--------------------+-------+\n",
      "|   774   | 1.6284255803741228 |   10  |\n",
      "+---------+--------------------+-------+\n",
      "[1 rows x 3 columns]\n",
      "\n",
      "\n",
      "Per User RMSE (worst)\n",
      "+---------+-------------------+-------+\n",
      "| user_id |        rmse       | count |\n",
      "+---------+-------------------+-------+\n",
      "|   200   | 4.597825279039374 |   10  |\n",
      "+---------+-------------------+-------+\n",
      "[1 rows x 3 columns]\n",
      "\n",
      "\n",
      "Per Item RMSE (best)\n",
      "+----------+--------------------+-------+\n",
      "| movie_id |        rmse        | count |\n",
      "+----------+--------------------+-------+\n",
      "|   1255   | 0.8007337326804796 |   1   |\n",
      "+----------+--------------------+-------+\n",
      "[1 rows x 3 columns]\n",
      "\n",
      "\n",
      "Per Item RMSE (worst)\n",
      "+----------+------+-------+\n",
      "| movie_id | rmse | count |\n",
      "+----------+------+-------+\n",
      "|   718    | 5.0  |   1   |\n",
      "+----------+------+-------+\n",
      "[1 rows x 3 columns]\n",
      "\n",
      "Would you like to restart the program? (y/n) n\n"
     ]
    }
   ],
   "source": [
    "while again == 'y':\n",
    "   \n",
    "    print('\\n1.) Terminal \\n2.) GUI \\n')\n",
    "    terminalGUI = input('Choice:  ')\n",
    "\n",
    "    if (int(terminalGUI) == 1 ):\n",
    "    \n",
    "        # movie recommender sys\n",
    "        def sample_recommendation(model, data, user_ids):\n",
    "    \n",
    "            user1 = int(u1)   \n",
    "            user2 = int(u2)\n",
    "            user3 = int(u3)\n",
    "    \n",
    "            #number of users and movies in training data\n",
    "            n_users, n_items = data['train'].shape\n",
    "    \n",
    "            #generate recommendations for each user we input\n",
    "            for user_id in user_ids:\n",
    "        \n",
    "                #movies they already like\n",
    "                fav_movies = data['item_labels'][data['train'].tocsr()[user_id].indices]\n",
    "        \n",
    "                #movies our model predicts they will like\n",
    "                scores = model.predict(user_id,np.arange(n_items))\n",
    "                #rank them in order of most liked to least\n",
    "                top_items = data['item_labels'][np.argsort(-scores)]\n",
    "            \n",
    "                #print out the results\n",
    "                userRec(user_id,fav_movies,top_items)\n",
    "                #guiRec(user_id,fav_movies,top_items)\n",
    "    \n",
    "        def Recommend_user():\n",
    "            #print(type(u1))\n",
    "            user1 = int(u1)   \n",
    "            user2 = int(u2)\n",
    "            user3 = int(u3)\n",
    "            #print(type(user))\n",
    "            sample_recommendation(model, data, [user1,user2,user3])\n",
    "            \n",
    "        \n",
    "        def userRec(user_id,fav_movies,top_items):\n",
    "            #print out the results\n",
    "            print('------------------------------------------')\n",
    "            print('User %s' % user_id)\n",
    "            print('Favorite Movies:')\n",
    "        \n",
    "            for x in fav_movies[:5]:\n",
    "                print('%s' % x)\n",
    "            \n",
    "            print('\\nRecommended Movies:')\n",
    "        \n",
    "            for y in top_items[:5]:\n",
    "                print('%s' % y)\n",
    "    \n",
    "        #SELECTION SCREEN\n",
    "        print('Welcome to the CS4319 Movie Recommender System\\nPlease select one of the following:')\n",
    "        print('1.) Recommend movies for 3 users')\n",
    "        print('2.) Search for similar movies')\n",
    "        print('3.) Recommend most popular movies')\n",
    "        print('4.) Turicreate Compare\\n')\n",
    "        selection = input('Selection:  ')\n",
    "    \n",
    "        ## Recommend movies to 3 users using hybrid factorization collab algorithm\n",
    "        if (int(selection) == 1):\n",
    "            #input for users\n",
    "            print('Select movies for users:')\n",
    "            u1 = input('user 1: ')\n",
    "            u2 = input('user 2: ')\n",
    "            u3 = input('user 3: ')\n",
    "            Recommend_user()\n",
    "            #restart program\n",
    "            again = input('Would you like to restart the program? (y/n) ')\n",
    "        \n",
    "        ## View Similar movies to selected movie using Item similarity algorithm\n",
    "        if (int(selection) == 2):\n",
    "        \n",
    "            #used to cycle through films\n",
    "            loop=1\n",
    "            i=0\n",
    "            #print('loop =' + str(loop))\n",
    "        \n",
    "            while (loop==1):\n",
    "                #show first 5 movies in movielens list\n",
    "                def showMovies(i):\n",
    "                    #print(i)\n",
    "                    for i in range(i+5):\n",
    "                        print('(' + str(i+1) +')' + data[('item_labels')][i])\n",
    "                    print('(0) View More')\n",
    "        \n",
    "                def item_similarity(loop):\n",
    "                    print('Great! You might also like these movies: \\n ')\n",
    "                    #item similarity algorithm\n",
    "                    print(data[('item_labels')][cosine_similarity(model.item_embeddings)[like-1].argsort()][-5:][::-1])\n",
    "                    #restart program\n",
    "                    again = input('Would you like to restart the program? (y/n) ')\n",
    "                    \n",
    "                showMovies(i)\n",
    "        \n",
    "                like = input('Selection:  ')\n",
    "                like = int(like)\n",
    "\n",
    "                #show more movies\n",
    "                if (like == 0):\n",
    "                    #print(i)\n",
    "                    i = i + 5\n",
    "                    #print(i)\n",
    "                    showMovies(i)\n",
    "                \n",
    "                else:\n",
    "                    item_similarity(loop)\n",
    "                    loop-=1\n",
    "                \n",
    "                \n",
    "        ## View most popular movies to recommend to a user, using popularity algorithm\n",
    "        if (int(selection) == 3):\n",
    "            popRec = input('Recommend top 5 popular movies to user:  ')\n",
    "            turiWork(popRec)\n",
    "            #restart program\n",
    "            again = input('Would you like to restart the program? (y/n) ')\n",
    "    \n",
    "        if (int(selection) == 4):\n",
    "            print('TURICREATE COMPARE')\n",
    "            print('Compare recommender algorithms for user 1 and 2')\n",
    "            \n",
    "            print('Printing item Similarity algorithm:\\n')\n",
    "            time.sleep(4)\n",
    "            itemSim()\n",
    "            time.sleep(4)\n",
    "        \n",
    "            print('\\nPrinting Item popularity algorithm:\\n')\n",
    "            time.sleep(4)\n",
    "            itemPop()\n",
    "            time.sleep(4)\n",
    "        \n",
    "            print('\\nPrinting Rank Factorization algorithm:\\n')\n",
    "            time.sleep(4)\n",
    "            rankFactor()\n",
    "            time.sleep(4)\n",
    "        \n",
    "            print('\\nPrint Model Comparison:\\n')\n",
    "            time.sleep(4)\n",
    "            modelCompare()\n",
    "            time.sleep(4)\n",
    "        \n",
    "            again = input('Would you like to restart the program? (y/n) ')\n",
    "            if again == 'n':\n",
    "                exit()"
   ]
  },
  {
   "cell_type": "code",
   "execution_count": null,
   "metadata": {},
   "outputs": [],
   "source": []
  }
 ],
 "metadata": {
  "kernelspec": {
   "display_name": "Python 3",
   "language": "python",
   "name": "python3"
  },
  "language_info": {
   "codemirror_mode": {
    "name": "ipython",
    "version": 3
   },
   "file_extension": ".py",
   "mimetype": "text/x-python",
   "name": "python",
   "nbconvert_exporter": "python",
   "pygments_lexer": "ipython3",
   "version": "3.6.4"
  }
 },
 "nbformat": 4,
 "nbformat_minor": 2
}
